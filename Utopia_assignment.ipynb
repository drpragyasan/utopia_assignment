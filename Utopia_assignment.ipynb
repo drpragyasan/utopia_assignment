{
 "cells": [
  {
   "cell_type": "markdown",
   "id": "ad468afb",
   "metadata": {},
   "source": [
    "# Utopia Assignment  - 20th July 2021"
   ]
  },
  {
   "cell_type": "markdown",
   "id": "6f9da1e3",
   "metadata": {},
   "source": [
    "**Author  -  Pragya Rai (Data Analyst)**\n",
    "\n",
    "**Contact - drpragyasan@gmail.com**"
   ]
  },
  {
   "cell_type": "markdown",
   "id": "42be0473",
   "metadata": {},
   "source": [
    "## Problem Statement\n",
    "\n",
    "There are two datasets:\n",
    "\n",
    "1. consumption_data.csv; --> this file contains radio plays consumption for a particular region and timeframe\n",
    "\n",
    "2. feed_station_mapping.csv; --> this file contains the mapping between feeds and stations\n",
    "\n",
    "Context:\n",
    "\n",
    "Radio play consumptions come in at 'feed' level, \n",
    "These can have a many-to-one relationship with a given radio station. \n",
    "The relationship between feeds and radios is to be found in the feed_station_mapping file. \n",
    "\n",
    "\n",
    "Your tasks:\n",
    "\n",
    "1. Consolidate the data so that we do not double count plays coming from feeds that belong to the same station\n",
    "   If you do not find the parent station for a given feed, just default to the feed info and use that as your 'station' instead.\n",
    "2. Further clean the data as you deem approriate in order to perform an analysis on this dataset\n",
    "3. Present the steps you have gone through for the data processing (eg. python notebook or any other data management tool you use)\n",
    "4. Present any additional findings from the analysis you performed on the cleaned dataset in some visualisation tool (Tableau preferably but not mandatory)"
   ]
  },
  {
   "cell_type": "markdown",
   "id": "1ce61f89",
   "metadata": {},
   "source": [
    "### Import libraries"
   ]
  },
  {
   "cell_type": "code",
   "execution_count": 4,
   "id": "fe5928a8",
   "metadata": {},
   "outputs": [
    {
     "name": "stderr",
     "output_type": "stream",
     "text": [
      "Loading required package: Rcpp\n",
      "\n",
      "## \n",
      "## Amelia II: Multiple Imputation\n",
      "## (Version 1.8.0, built: 2021-05-26)\n",
      "## Copyright (C) 2005-2021 James Honaker, Gary King and Matthew Blackwell\n",
      "## Refer to http://gking.harvard.edu/amelia/ for more information\n",
      "## \n",
      "\n",
      "\n",
      "Attaching package: 'dplyr'\n",
      "\n",
      "\n",
      "The following objects are masked from 'package:stats':\n",
      "\n",
      "    filter, lag\n",
      "\n",
      "\n",
      "The following objects are masked from 'package:base':\n",
      "\n",
      "    intersect, setdiff, setequal, union\n",
      "\n",
      "\n"
     ]
    }
   ],
   "source": [
    "library(Amelia)\n",
    "library(mlbench)\n",
    "library(dplyr)\n",
    "library(chron)\n",
    "library(readr)"
   ]
  },
  {
   "cell_type": "markdown",
   "id": "3d86010d",
   "metadata": {},
   "source": [
    "### 1. Consumption data"
   ]
  },
  {
   "cell_type": "markdown",
   "id": "56915ead",
   "metadata": {},
   "source": [
    "#### Load and analyse data"
   ]
  },
  {
   "cell_type": "code",
   "execution_count": 5,
   "id": "83dccde7",
   "metadata": {
    "scrolled": true
   },
   "outputs": [
    {
     "name": "stderr",
     "output_type": "stream",
     "text": [
      "\n",
      "\u001b[36m--\u001b[39m \u001b[1m\u001b[1mColumn specification\u001b[1m\u001b[22m \u001b[36m------------------------------------------------------------------------------------------------\u001b[39m\n",
      "cols(\n",
      "  Stamp = \u001b[31mcol_character()\u001b[39m,\n",
      "  Track = \u001b[31mcol_character()\u001b[39m,\n",
      "  Artist = \u001b[31mcol_character()\u001b[39m,\n",
      "  Feed_Id = \u001b[31mcol_character()\u001b[39m,\n",
      "  Feed_Name = \u001b[31mcol_character()\u001b[39m\n",
      ")\n",
      "\n",
      "\n"
     ]
    }
   ],
   "source": [
    "consumption_data <- read_csv(\"consumption_data.csv\")\n"
   ]
  },
  {
   "cell_type": "code",
   "execution_count": 7,
   "id": "41cf6bf8",
   "metadata": {
    "scrolled": false
   },
   "outputs": [
    {
     "data": {
      "text/html": [
       "<table class=\"dataframe\">\n",
       "<caption>A tibble: 6 × 5</caption>\n",
       "<thead>\n",
       "\t<tr><th scope=col>Stamp</th><th scope=col>Track</th><th scope=col>Artist</th><th scope=col>Feed_Id</th><th scope=col>Feed_Name</th></tr>\n",
       "\t<tr><th scope=col>&lt;chr&gt;</th><th scope=col>&lt;chr&gt;</th><th scope=col>&lt;chr&gt;</th><th scope=col>&lt;chr&gt;</th><th scope=col>&lt;chr&gt;</th></tr>\n",
       "</thead>\n",
       "<tbody>\n",
       "\t<tr><td>2019-06-07 18:38:00 +0000 UTC</td><td>Song_02</td><td>artist_08</td><td>feed_id_1377</td><td>feed_name_1183</td></tr>\n",
       "\t<tr><td>2019-06-08 09:04:00 +0000 UTC</td><td>Song_02</td><td>artist_08</td><td>feed_id_1377</td><td>feed_name_1183</td></tr>\n",
       "\t<tr><td>2019-06-08 19:51:00 +0000 UTC</td><td>Song_02</td><td>artist_08</td><td>feed_id_1377</td><td>feed_name_1183</td></tr>\n",
       "\t<tr><td>2019-06-09 20:52:00 +0000 UTC</td><td>Song_02</td><td>artist_08</td><td>feed_id_1377</td><td>feed_name_1183</td></tr>\n",
       "\t<tr><td>2019-06-10 11:06:00 +0000 UTC</td><td>Song_02</td><td>artist_08</td><td>feed_id_1377</td><td>feed_name_1183</td></tr>\n",
       "\t<tr><td>2019-06-14 07:09:00 +0000 UTC</td><td>Song_02</td><td>artist_08</td><td>feed_id_1377</td><td>feed_name_1183</td></tr>\n",
       "</tbody>\n",
       "</table>\n"
      ],
      "text/latex": [
       "A tibble: 6 × 5\n",
       "\\begin{tabular}{lllll}\n",
       " Stamp & Track & Artist & Feed\\_Id & Feed\\_Name\\\\\n",
       " <chr> & <chr> & <chr> & <chr> & <chr>\\\\\n",
       "\\hline\n",
       "\t 2019-06-07 18:38:00 +0000 UTC & Song\\_02 & artist\\_08 & feed\\_id\\_1377 & feed\\_name\\_1183\\\\\n",
       "\t 2019-06-08 09:04:00 +0000 UTC & Song\\_02 & artist\\_08 & feed\\_id\\_1377 & feed\\_name\\_1183\\\\\n",
       "\t 2019-06-08 19:51:00 +0000 UTC & Song\\_02 & artist\\_08 & feed\\_id\\_1377 & feed\\_name\\_1183\\\\\n",
       "\t 2019-06-09 20:52:00 +0000 UTC & Song\\_02 & artist\\_08 & feed\\_id\\_1377 & feed\\_name\\_1183\\\\\n",
       "\t 2019-06-10 11:06:00 +0000 UTC & Song\\_02 & artist\\_08 & feed\\_id\\_1377 & feed\\_name\\_1183\\\\\n",
       "\t 2019-06-14 07:09:00 +0000 UTC & Song\\_02 & artist\\_08 & feed\\_id\\_1377 & feed\\_name\\_1183\\\\\n",
       "\\end{tabular}\n"
      ],
      "text/markdown": [
       "\n",
       "A tibble: 6 × 5\n",
       "\n",
       "| Stamp &lt;chr&gt; | Track &lt;chr&gt; | Artist &lt;chr&gt; | Feed_Id &lt;chr&gt; | Feed_Name &lt;chr&gt; |\n",
       "|---|---|---|---|---|\n",
       "| 2019-06-07 18:38:00 +0000 UTC | Song_02 | artist_08 | feed_id_1377 | feed_name_1183 |\n",
       "| 2019-06-08 09:04:00 +0000 UTC | Song_02 | artist_08 | feed_id_1377 | feed_name_1183 |\n",
       "| 2019-06-08 19:51:00 +0000 UTC | Song_02 | artist_08 | feed_id_1377 | feed_name_1183 |\n",
       "| 2019-06-09 20:52:00 +0000 UTC | Song_02 | artist_08 | feed_id_1377 | feed_name_1183 |\n",
       "| 2019-06-10 11:06:00 +0000 UTC | Song_02 | artist_08 | feed_id_1377 | feed_name_1183 |\n",
       "| 2019-06-14 07:09:00 +0000 UTC | Song_02 | artist_08 | feed_id_1377 | feed_name_1183 |\n",
       "\n"
      ],
      "text/plain": [
       "  Stamp                         Track   Artist    Feed_Id      Feed_Name     \n",
       "1 2019-06-07 18:38:00 +0000 UTC Song_02 artist_08 feed_id_1377 feed_name_1183\n",
       "2 2019-06-08 09:04:00 +0000 UTC Song_02 artist_08 feed_id_1377 feed_name_1183\n",
       "3 2019-06-08 19:51:00 +0000 UTC Song_02 artist_08 feed_id_1377 feed_name_1183\n",
       "4 2019-06-09 20:52:00 +0000 UTC Song_02 artist_08 feed_id_1377 feed_name_1183\n",
       "5 2019-06-10 11:06:00 +0000 UTC Song_02 artist_08 feed_id_1377 feed_name_1183\n",
       "6 2019-06-14 07:09:00 +0000 UTC Song_02 artist_08 feed_id_1377 feed_name_1183"
      ]
     },
     "metadata": {},
     "output_type": "display_data"
    }
   ],
   "source": [
    "head(consumption_data)"
   ]
  },
  {
   "cell_type": "markdown",
   "id": "e91b0ef4",
   "metadata": {},
   "source": [
    "##### dataset is loaded as 'consumption_data' with 521974 observations"
   ]
  },
  {
   "cell_type": "code",
   "execution_count": 8,
   "id": "5b88bcca",
   "metadata": {},
   "outputs": [
    {
     "data": {
      "text/plain": [
       "    Stamp              Track              Artist            Feed_Id         \n",
       " Length:521974      Length:521974      Length:521974      Length:521974     \n",
       " Class :character   Class :character   Class :character   Class :character  \n",
       " Mode  :character   Mode  :character   Mode  :character   Mode  :character  \n",
       "  Feed_Name        \n",
       " Length:521974     \n",
       " Class :character  \n",
       " Mode  :character  "
      ]
     },
     "metadata": {},
     "output_type": "display_data"
    }
   ],
   "source": [
    "summary(consumption_data)\n"
   ]
  },
  {
   "cell_type": "code",
   "execution_count": 9,
   "id": "db39fbbd",
   "metadata": {
    "scrolled": true
   },
   "outputs": [
    {
     "name": "stdout",
     "output_type": "stream",
     "text": [
      "spec_tbl_df [521,974 x 5] (S3: spec_tbl_df/tbl_df/tbl/data.frame)\n",
      " $ Stamp    : chr [1:521974] \"2019-06-07 18:38:00 +0000 UTC\" \"2019-06-08 09:04:00 +0000 UTC\" \"2019-06-08 19:51:00 +0000 UTC\" \"2019-06-09 20:52:00 +0000 UTC\" ...\n",
      " $ Track    : chr [1:521974] \"Song_02\" \"Song_02\" \"Song_02\" \"Song_02\" ...\n",
      " $ Artist   : chr [1:521974] \"artist_08\" \"artist_08\" \"artist_08\" \"artist_08\" ...\n",
      " $ Feed_Id  : chr [1:521974] \"feed_id_1377\" \"feed_id_1377\" \"feed_id_1377\" \"feed_id_1377\" ...\n",
      " $ Feed_Name: chr [1:521974] \"feed_name_1183\" \"feed_name_1183\" \"feed_name_1183\" \"feed_name_1183\" ...\n",
      " - attr(*, \"spec\")=\n",
      "  .. cols(\n",
      "  ..   Stamp = \u001b[31mcol_character()\u001b[39m,\n",
      "  ..   Track = \u001b[31mcol_character()\u001b[39m,\n",
      "  ..   Artist = \u001b[31mcol_character()\u001b[39m,\n",
      "  ..   Feed_Id = \u001b[31mcol_character()\u001b[39m,\n",
      "  ..   Feed_Name = \u001b[31mcol_character()\u001b[39m\n",
      "  .. )\n"
     ]
    }
   ],
   "source": [
    "str(consumption_data)\n"
   ]
  },
  {
   "cell_type": "markdown",
   "id": "8f54552d",
   "metadata": {},
   "source": [
    "###### No missing data found"
   ]
  },
  {
   "cell_type": "code",
   "execution_count": 10,
   "id": "258652e8",
   "metadata": {},
   "outputs": [
    {
     "data": {
      "text/html": [
       "FALSE"
      ],
      "text/latex": [
       "FALSE"
      ],
      "text/markdown": [
       "FALSE"
      ],
      "text/plain": [
       "[1] FALSE"
      ]
     },
     "metadata": {},
     "output_type": "display_data"
    }
   ],
   "source": [
    "missing(consumption_data)"
   ]
  },
  {
   "cell_type": "code",
   "execution_count": 11,
   "id": "e3d81d01",
   "metadata": {
    "scrolled": true
   },
   "outputs": [
    {
     "name": "stderr",
     "output_type": "stream",
     "text": [
      "Warning message:\n",
      "\"Unknown or uninitialised column: `arguments`.\"\n",
      "Warning message:\n",
      "\"Unknown or uninitialised column: `arguments`.\"\n",
      "Warning message:\n",
      "\"Unknown or uninitialised column: `imputations`.\"\n"
     ]
    },
    {
     "data": {
      "image/png": "[encoded data removed]",
      "text/plain": [
       "Plot with title \"Missingness Map\""
      ]
     },
     "metadata": {
      "image/png": {
       "height": 420,
       "width": 420
      }
     },
     "output_type": "display_data"
    }
   ],
   "source": [
    "missmap(consumption_data) ##no missing data"
   ]
  },
  {
   "cell_type": "markdown",
   "id": "ddfbc944",
   "metadata": {},
   "source": [
    "### Clean the dataset"
   ]
  },
  {
   "cell_type": "markdown",
   "id": "c4e255ba",
   "metadata": {},
   "source": [
    "##### Remove duplicates (on athe combination of all the columns)"
   ]
  },
  {
   "cell_type": "code",
   "execution_count": 23,
   "id": "e7b24620",
   "metadata": {},
   "outputs": [],
   "source": [
    "consumption_nodups <- consumption_data %>% distinct()"
   ]
  },
  {
   "cell_type": "markdown",
   "id": "f5219ffa",
   "metadata": {},
   "source": [
    "4909 duplicate records removed.\n",
    "\n",
    "Now, 'consumption_nodup' is our new dataset with no duplicate data with 517065 observations"
   ]
  },
  {
   "cell_type": "code",
   "execution_count": 24,
   "id": "a5b6bd70",
   "metadata": {
    "scrolled": true
   },
   "outputs": [
    {
     "data": {
      "text/plain": [
       "    Stamp              Track              Artist            Feed_Id         \n",
       " Length:517065      Length:517065      Length:517065      Length:517065     \n",
       " Class :character   Class :character   Class :character   Class :character  \n",
       " Mode  :character   Mode  :character   Mode  :character   Mode  :character  \n",
       "  Feed_Name        \n",
       " Length:517065     \n",
       " Class :character  \n",
       " Mode  :character  "
      ]
     },
     "metadata": {},
     "output_type": "display_data"
    }
   ],
   "source": [
    "summary(consumption_nodups)"
   ]
  },
  {
   "cell_type": "markdown",
   "id": "b55cd7d3",
   "metadata": {},
   "source": [
    "#### Formatting date time stamp\n",
    "\n",
    "remove \" +0000 UTC\" (removal is done as matching data time format could not be found)"
   ]
  },
  {
   "cell_type": "code",
   "execution_count": 25,
   "id": "74db1e71",
   "metadata": {
    "scrolled": true
   },
   "outputs": [],
   "source": [
    "consumption_nodups$Stamp = substr(consumption_nodup$Stamp,1,19)"
   ]
  },
  {
   "cell_type": "code",
   "execution_count": 26,
   "id": "de5833d0",
   "metadata": {},
   "outputs": [
    {
     "data": {
      "text/html": [
       "<style>\n",
       ".list-inline {list-style: none; margin:0; padding: 0}\n",
       ".list-inline>li {display: inline-block}\n",
       ".list-inline>li:not(:last-child)::after {content: \"\\00b7\"; padding: 0 .5ex}\n",
       "</style>\n",
       "<ol class=list-inline><li>'2019-06-07 18:38:00'</li><li>'2019-06-08 09:04:00'</li><li>'2019-06-08 19:51:00'</li><li>'2019-06-09 20:52:00'</li><li>'2019-06-10 11:06:00'</li><li>'2019-06-14 07:09:00'</li></ol>\n"
      ],
      "text/latex": [
       "\\begin{enumerate*}\n",
       "\\item '2019-06-07 18:38:00'\n",
       "\\item '2019-06-08 09:04:00'\n",
       "\\item '2019-06-08 19:51:00'\n",
       "\\item '2019-06-09 20:52:00'\n",
       "\\item '2019-06-10 11:06:00'\n",
       "\\item '2019-06-14 07:09:00'\n",
       "\\end{enumerate*}\n"
      ],
      "text/markdown": [
       "1. '2019-06-07 18:38:00'\n",
       "2. '2019-06-08 09:04:00'\n",
       "3. '2019-06-08 19:51:00'\n",
       "4. '2019-06-09 20:52:00'\n",
       "5. '2019-06-10 11:06:00'\n",
       "6. '2019-06-14 07:09:00'\n",
       "\n",
       "\n"
      ],
      "text/plain": [
       "[1] \"2019-06-07 18:38:00\" \"2019-06-08 09:04:00\" \"2019-06-08 19:51:00\"\n",
       "[4] \"2019-06-09 20:52:00\" \"2019-06-10 11:06:00\" \"2019-06-14 07:09:00\""
      ]
     },
     "metadata": {},
     "output_type": "display_data"
    }
   ],
   "source": [
    "head(consumption_nodups$Stamp)"
   ]
  },
  {
   "cell_type": "markdown",
   "id": "4474dcc9",
   "metadata": {},
   "source": [
    "Format the date to type **\"%Y-%m-%d %H:%M:%S\"**"
   ]
  },
  {
   "cell_type": "code",
   "execution_count": 27,
   "id": "8f8f5834",
   "metadata": {},
   "outputs": [],
   "source": [
    "consumption_nodups$Stamp <- as.POSIXct(consumption_nodup$Stamp, format=\"%Y-%m-%d %H:%M:%S\")"
   ]
  },
  {
   "cell_type": "markdown",
   "id": "a0485b3f",
   "metadata": {},
   "source": [
    "The date time formatting has resulted in 44 missing dates. "
   ]
  },
  {
   "cell_type": "code",
   "execution_count": 28,
   "id": "3969ec90",
   "metadata": {
    "scrolled": false
   },
   "outputs": [
    {
     "data": {
      "text/plain": [
       "     Stamp                        Track              Artist         \n",
       " Min.   :2019-01-01 00:02:00   Length:517065      Length:517065     \n",
       " 1st Qu.:2019-06-17 12:47:00   Class :character   Class :character  \n",
       " Median :2019-11-13 20:43:00   Mode  :character   Mode  :character  \n",
       " Mean   :2019-11-17 05:25:42                                        \n",
       " 3rd Qu.:2020-04-22 12:44:00                                        \n",
       " Max.   :2020-09-30 23:57:00                                        \n",
       " NA's   :44                                                         \n",
       "   Feed_Id           Feed_Name        \n",
       " Length:517065      Length:517065     \n",
       " Class :character   Class :character  \n",
       " Mode  :character   Mode  :character  \n",
       "                                      \n",
       "                                      \n",
       "                                      \n",
       "                                      "
      ]
     },
     "metadata": {},
     "output_type": "display_data"
    }
   ],
   "source": [
    "summary(consumption_nodups)"
   ]
  },
  {
   "cell_type": "markdown",
   "id": "82db2ef4",
   "metadata": {},
   "source": [
    "Removing 44 records as their Stamp returns Null due to format mismatch"
   ]
  },
  {
   "cell_type": "code",
   "execution_count": 35,
   "id": "8771e207",
   "metadata": {},
   "outputs": [],
   "source": [
    "consumption_nodup <- consumption_nodups %>% filter(!is.na(Stamp))"
   ]
  },
  {
   "cell_type": "markdown",
   "id": "2e1845e5",
   "metadata": {},
   "source": [
    "Resulting in 517,021 observations"
   ]
  },
  {
   "cell_type": "code",
   "execution_count": 36,
   "id": "0e377926",
   "metadata": {},
   "outputs": [
    {
     "name": "stdout",
     "output_type": "stream",
     "text": [
      "tibble [517,021 x 5] (S3: tbl_df/tbl/data.frame)\n",
      " $ Stamp    : POSIXct[1:517021], format: \"2019-06-07 18:38:00\" \"2019-06-08 09:04:00\" ...\n",
      " $ Track    : chr [1:517021] \"Song_02\" \"Song_02\" \"Song_02\" \"Song_02\" ...\n",
      " $ Artist   : chr [1:517021] \"artist_08\" \"artist_08\" \"artist_08\" \"artist_08\" ...\n",
      " $ Feed_Id  : chr [1:517021] \"feed_id_1377\" \"feed_id_1377\" \"feed_id_1377\" \"feed_id_1377\" ...\n",
      " $ Feed_Name: chr [1:517021] \"feed_name_1183\" \"feed_name_1183\" \"feed_name_1183\" \"feed_name_1183\" ...\n"
     ]
    }
   ],
   "source": [
    "str(consumption_nodup)"
   ]
  },
  {
   "cell_type": "markdown",
   "id": "70500149",
   "metadata": {},
   "source": [
    "#### Creating Date and Time variables separately\n",
    "\n",
    "These variables are created for performing better visualization in Tableau with ease."
   ]
  },
  {
   "cell_type": "code",
   "execution_count": 37,
   "id": "c874beb5",
   "metadata": {},
   "outputs": [
    {
     "data": {
      "text/html": [
       "<style>\n",
       ".list-inline {list-style: none; margin:0; padding: 0}\n",
       ".list-inline>li {display: inline-block}\n",
       ".list-inline>li:not(:last-child)::after {content: \"\\00b7\"; padding: 0 .5ex}\n",
       "</style>\n",
       "<ol class=list-inline><li><time datetime=\"2019-06-07\">2019-06-07</time></li><li><time datetime=\"2019-06-08\">2019-06-08</time></li><li><time datetime=\"2019-06-08\">2019-06-08</time></li><li><time datetime=\"2019-06-09\">2019-06-09</time></li><li><time datetime=\"2019-06-10\">2019-06-10</time></li><li><time datetime=\"2019-06-14\">2019-06-14</time></li></ol>\n"
      ],
      "text/latex": [
       "\\begin{enumerate*}\n",
       "\\item 2019-06-07\n",
       "\\item 2019-06-08\n",
       "\\item 2019-06-08\n",
       "\\item 2019-06-09\n",
       "\\item 2019-06-10\n",
       "\\item 2019-06-14\n",
       "\\end{enumerate*}\n"
      ],
      "text/markdown": [
       "1. 2019-06-07\n",
       "2. 2019-06-08\n",
       "3. 2019-06-08\n",
       "4. 2019-06-09\n",
       "5. 2019-06-10\n",
       "6. 2019-06-14\n",
       "\n",
       "\n"
      ],
      "text/plain": [
       "[1] \"2019-06-07\" \"2019-06-08\" \"2019-06-08\" \"2019-06-09\" \"2019-06-10\"\n",
       "[6] \"2019-06-14\""
      ]
     },
     "metadata": {},
     "output_type": "display_data"
    }
   ],
   "source": [
    "Date <- as.Date(consumption_nodup$Stamp, tz= 'CET')\n",
    "head(Date)"
   ]
  },
  {
   "cell_type": "code",
   "execution_count": 38,
   "id": "16cc7446",
   "metadata": {},
   "outputs": [
    {
     "data": {
      "text/html": [
       "<style>\n",
       ".list-inline {list-style: none; margin:0; padding: 0}\n",
       ".list-inline>li {display: inline-block}\n",
       ".list-inline>li:not(:last-child)::after {content: \"\\00b7\"; padding: 0 .5ex}\n",
       "</style>\n",
       "<ol class=list-inline><li>'18:38:00'</li><li>'09:04:00'</li><li>'19:51:00'</li><li>'20:52:00'</li><li>'11:06:00'</li><li>'07:09:00'</li></ol>\n"
      ],
      "text/latex": [
       "\\begin{enumerate*}\n",
       "\\item '18:38:00'\n",
       "\\item '09:04:00'\n",
       "\\item '19:51:00'\n",
       "\\item '20:52:00'\n",
       "\\item '11:06:00'\n",
       "\\item '07:09:00'\n",
       "\\end{enumerate*}\n"
      ],
      "text/markdown": [
       "1. '18:38:00'\n",
       "2. '09:04:00'\n",
       "3. '19:51:00'\n",
       "4. '20:52:00'\n",
       "5. '11:06:00'\n",
       "6. '07:09:00'\n",
       "\n",
       "\n"
      ],
      "text/plain": [
       "[1] \"18:38:00\" \"09:04:00\" \"19:51:00\" \"20:52:00\" \"11:06:00\" \"07:09:00\""
      ]
     },
     "metadata": {},
     "output_type": "display_data"
    }
   ],
   "source": [
    "Time <- format(consumption_nodup$Stamp, format = \"%H:%M:%S\")"
   ]
  },
  {
   "cell_type": "code",
   "execution_count": 102,
   "id": "00d96c0b",
   "metadata": {},
   "outputs": [
    {
     "name": "stdout",
     "output_type": "stream",
     "text": [
      " 'times' num [1:517021] 18:38:00 09:04:00 19:51:00 20:52:00 11:06:00 ...\n",
      " - attr(*, \"format\")= chr \"h:m:s\"\n"
     ]
    }
   ],
   "source": [
    "Time <- chron(times=Time)\n",
    "str(Time)"
   ]
  },
  {
   "cell_type": "markdown",
   "id": "08d0748e",
   "metadata": {},
   "source": [
    "Added 2 new attributes Date and Time in consumption_nodup\n"
   ]
  },
  {
   "cell_type": "code",
   "execution_count": 103,
   "id": "7cf373e6",
   "metadata": {
    "scrolled": true
   },
   "outputs": [
    {
     "data": {
      "text/html": [
       "<table class=\"dataframe\">\n",
       "<caption>A tibble: 6 × 7</caption>\n",
       "<thead>\n",
       "\t<tr><th scope=col>Stamp</th><th scope=col>Track</th><th scope=col>Artist</th><th scope=col>Feed_Id</th><th scope=col>Feed_Name</th><th scope=col>Date</th><th scope=col>Time</th></tr>\n",
       "\t<tr><th scope=col>&lt;dttm&gt;</th><th scope=col>&lt;chr&gt;</th><th scope=col>&lt;chr&gt;</th><th scope=col>&lt;chr&gt;</th><th scope=col>&lt;chr&gt;</th><th scope=col>&lt;date&gt;</th><th scope=col>&lt;times&gt;</th></tr>\n",
       "</thead>\n",
       "<tbody>\n",
       "\t<tr><td>2019-06-07 18:38:00</td><td>Song_02</td><td>artist_08</td><td>feed_id_1377</td><td>feed_name_1183</td><td>2019-06-07</td><td>18:38:00</td></tr>\n",
       "\t<tr><td>2019-06-08 09:04:00</td><td>Song_02</td><td>artist_08</td><td>feed_id_1377</td><td>feed_name_1183</td><td>2019-06-08</td><td>09:04:00</td></tr>\n",
       "\t<tr><td>2019-06-08 19:51:00</td><td>Song_02</td><td>artist_08</td><td>feed_id_1377</td><td>feed_name_1183</td><td>2019-06-08</td><td>19:51:00</td></tr>\n",
       "\t<tr><td>2019-06-09 20:52:00</td><td>Song_02</td><td>artist_08</td><td>feed_id_1377</td><td>feed_name_1183</td><td>2019-06-09</td><td>20:52:00</td></tr>\n",
       "\t<tr><td>2019-06-10 11:06:00</td><td>Song_02</td><td>artist_08</td><td>feed_id_1377</td><td>feed_name_1183</td><td>2019-06-10</td><td>11:06:00</td></tr>\n",
       "\t<tr><td>2019-06-14 07:09:00</td><td>Song_02</td><td>artist_08</td><td>feed_id_1377</td><td>feed_name_1183</td><td>2019-06-14</td><td>07:09:00</td></tr>\n",
       "</tbody>\n",
       "</table>\n"
      ],
      "text/latex": [
       "A tibble: 6 × 7\n",
       "\\begin{tabular}{lllllll}\n",
       " Stamp & Track & Artist & Feed\\_Id & Feed\\_Name & Date & Time\\\\\n",
       " <dttm> & <chr> & <chr> & <chr> & <chr> & <date> & <times>\\\\\n",
       "\\hline\n",
       "\t 2019-06-07 18:38:00 & Song\\_02 & artist\\_08 & feed\\_id\\_1377 & feed\\_name\\_1183 & 2019-06-07 & 18:38:00\\\\\n",
       "\t 2019-06-08 09:04:00 & Song\\_02 & artist\\_08 & feed\\_id\\_1377 & feed\\_name\\_1183 & 2019-06-08 & 09:04:00\\\\\n",
       "\t 2019-06-08 19:51:00 & Song\\_02 & artist\\_08 & feed\\_id\\_1377 & feed\\_name\\_1183 & 2019-06-08 & 19:51:00\\\\\n",
       "\t 2019-06-09 20:52:00 & Song\\_02 & artist\\_08 & feed\\_id\\_1377 & feed\\_name\\_1183 & 2019-06-09 & 20:52:00\\\\\n",
       "\t 2019-06-10 11:06:00 & Song\\_02 & artist\\_08 & feed\\_id\\_1377 & feed\\_name\\_1183 & 2019-06-10 & 11:06:00\\\\\n",
       "\t 2019-06-14 07:09:00 & Song\\_02 & artist\\_08 & feed\\_id\\_1377 & feed\\_name\\_1183 & 2019-06-14 & 07:09:00\\\\\n",
       "\\end{tabular}\n"
      ],
      "text/markdown": [
       "\n",
       "A tibble: 6 × 7\n",
       "\n",
       "| Stamp &lt;dttm&gt; | Track &lt;chr&gt; | Artist &lt;chr&gt; | Feed_Id &lt;chr&gt; | Feed_Name &lt;chr&gt; | Date &lt;date&gt; | Time &lt;times&gt; |\n",
       "|---|---|---|---|---|---|---|\n",
       "| 2019-06-07 18:38:00 | Song_02 | artist_08 | feed_id_1377 | feed_name_1183 | 2019-06-07 | 18:38:00 |\n",
       "| 2019-06-08 09:04:00 | Song_02 | artist_08 | feed_id_1377 | feed_name_1183 | 2019-06-08 | 09:04:00 |\n",
       "| 2019-06-08 19:51:00 | Song_02 | artist_08 | feed_id_1377 | feed_name_1183 | 2019-06-08 | 19:51:00 |\n",
       "| 2019-06-09 20:52:00 | Song_02 | artist_08 | feed_id_1377 | feed_name_1183 | 2019-06-09 | 20:52:00 |\n",
       "| 2019-06-10 11:06:00 | Song_02 | artist_08 | feed_id_1377 | feed_name_1183 | 2019-06-10 | 11:06:00 |\n",
       "| 2019-06-14 07:09:00 | Song_02 | artist_08 | feed_id_1377 | feed_name_1183 | 2019-06-14 | 07:09:00 |\n",
       "\n"
      ],
      "text/plain": [
       "  Stamp               Track   Artist    Feed_Id      Feed_Name      Date      \n",
       "1 2019-06-07 18:38:00 Song_02 artist_08 feed_id_1377 feed_name_1183 2019-06-07\n",
       "2 2019-06-08 09:04:00 Song_02 artist_08 feed_id_1377 feed_name_1183 2019-06-08\n",
       "3 2019-06-08 19:51:00 Song_02 artist_08 feed_id_1377 feed_name_1183 2019-06-08\n",
       "4 2019-06-09 20:52:00 Song_02 artist_08 feed_id_1377 feed_name_1183 2019-06-09\n",
       "5 2019-06-10 11:06:00 Song_02 artist_08 feed_id_1377 feed_name_1183 2019-06-10\n",
       "6 2019-06-14 07:09:00 Song_02 artist_08 feed_id_1377 feed_name_1183 2019-06-14\n",
       "  Time    \n",
       "1 18:38:00\n",
       "2 09:04:00\n",
       "3 19:51:00\n",
       "4 20:52:00\n",
       "5 11:06:00\n",
       "6 07:09:00"
      ]
     },
     "metadata": {},
     "output_type": "display_data"
    }
   ],
   "source": [
    "consumption_nodup$Date <- Date\n",
    "consumption_nodup$Time <- Time\n",
    "head(consumption_nodup)"
   ]
  },
  {
   "cell_type": "markdown",
   "id": "35b616b7",
   "metadata": {},
   "source": [
    "#### Useful frequency distributions - for data insight"
   ]
  },
  {
   "cell_type": "markdown",
   "id": "22e97ae0",
   "metadata": {},
   "source": [
    "Trackwise distribution"
   ]
  },
  {
   "cell_type": "code",
   "execution_count": 104,
   "id": "6f3dc916",
   "metadata": {
    "scrolled": true
   },
   "outputs": [
    {
     "data": {
      "text/html": [
       "<table class=\"dataframe\">\n",
       "<caption>A tibble: 6 × 2</caption>\n",
       "<thead>\n",
       "\t<tr><th scope=col>Track</th><th scope=col>n</th></tr>\n",
       "\t<tr><th scope=col>&lt;chr&gt;</th><th scope=col>&lt;int&gt;</th></tr>\n",
       "</thead>\n",
       "<tbody>\n",
       "\t<tr><td>Song_01</td><td> 43490</td></tr>\n",
       "\t<tr><td>Song_02</td><td> 22640</td></tr>\n",
       "\t<tr><td>Song_03</td><td>  8224</td></tr>\n",
       "\t<tr><td>Song_04</td><td>171190</td></tr>\n",
       "\t<tr><td>Song_05</td><td>179835</td></tr>\n",
       "\t<tr><td>Song_06</td><td> 34574</td></tr>\n",
       "</tbody>\n",
       "</table>\n"
      ],
      "text/latex": [
       "A tibble: 6 × 2\n",
       "\\begin{tabular}{ll}\n",
       " Track & n\\\\\n",
       " <chr> & <int>\\\\\n",
       "\\hline\n",
       "\t Song\\_01 &  43490\\\\\n",
       "\t Song\\_02 &  22640\\\\\n",
       "\t Song\\_03 &   8224\\\\\n",
       "\t Song\\_04 & 171190\\\\\n",
       "\t Song\\_05 & 179835\\\\\n",
       "\t Song\\_06 &  34574\\\\\n",
       "\\end{tabular}\n"
      ],
      "text/markdown": [
       "\n",
       "A tibble: 6 × 2\n",
       "\n",
       "| Track &lt;chr&gt; | n &lt;int&gt; |\n",
       "|---|---|\n",
       "| Song_01 |  43490 |\n",
       "| Song_02 |  22640 |\n",
       "| Song_03 |   8224 |\n",
       "| Song_04 | 171190 |\n",
       "| Song_05 | 179835 |\n",
       "| Song_06 |  34574 |\n",
       "\n"
      ],
      "text/plain": [
       "  Track   n     \n",
       "1 Song_01  43490\n",
       "2 Song_02  22640\n",
       "3 Song_03   8224\n",
       "4 Song_04 171190\n",
       "5 Song_05 179835\n",
       "6 Song_06  34574"
      ]
     },
     "metadata": {},
     "output_type": "display_data"
    }
   ],
   "source": [
    "\n",
    "FreqTrack <- consumption_nodup %>% count(Track)\n",
    "head(FreqTrack)\n"
   ]
  },
  {
   "cell_type": "markdown",
   "id": "2f57bb12",
   "metadata": {},
   "source": [
    "Artistwise"
   ]
  },
  {
   "cell_type": "code",
   "execution_count": 105,
   "id": "82208c15",
   "metadata": {
    "scrolled": false
   },
   "outputs": [
    {
     "data": {
      "text/html": [
       "<table class=\"dataframe\">\n",
       "<caption>A tibble: 6 × 3</caption>\n",
       "<thead>\n",
       "\t<tr><th scope=col>Artist</th><th scope=col>Feed_Id</th><th scope=col>n</th></tr>\n",
       "\t<tr><th scope=col>&lt;chr&gt;</th><th scope=col>&lt;chr&gt;</th><th scope=col>&lt;int&gt;</th></tr>\n",
       "</thead>\n",
       "<tbody>\n",
       "\t<tr><td>artist_01</td><td>feed_id_08  </td><td>  2</td></tr>\n",
       "\t<tr><td>artist_01</td><td>feed_id_1006</td><td>  7</td></tr>\n",
       "\t<tr><td>artist_01</td><td>feed_id_1008</td><td>392</td></tr>\n",
       "\t<tr><td>artist_01</td><td>feed_id_102 </td><td> 14</td></tr>\n",
       "\t<tr><td>artist_01</td><td>feed_id_1023</td><td> 12</td></tr>\n",
       "\t<tr><td>artist_01</td><td>feed_id_103 </td><td> 10</td></tr>\n",
       "</tbody>\n",
       "</table>\n"
      ],
      "text/latex": [
       "A tibble: 6 × 3\n",
       "\\begin{tabular}{lll}\n",
       " Artist & Feed\\_Id & n\\\\\n",
       " <chr> & <chr> & <int>\\\\\n",
       "\\hline\n",
       "\t artist\\_01 & feed\\_id\\_08   &   2\\\\\n",
       "\t artist\\_01 & feed\\_id\\_1006 &   7\\\\\n",
       "\t artist\\_01 & feed\\_id\\_1008 & 392\\\\\n",
       "\t artist\\_01 & feed\\_id\\_102  &  14\\\\\n",
       "\t artist\\_01 & feed\\_id\\_1023 &  12\\\\\n",
       "\t artist\\_01 & feed\\_id\\_103  &  10\\\\\n",
       "\\end{tabular}\n"
      ],
      "text/markdown": [
       "\n",
       "A tibble: 6 × 3\n",
       "\n",
       "| Artist &lt;chr&gt; | Feed_Id &lt;chr&gt; | n &lt;int&gt; |\n",
       "|---|---|---|\n",
       "| artist_01 | feed_id_08   |   2 |\n",
       "| artist_01 | feed_id_1006 |   7 |\n",
       "| artist_01 | feed_id_1008 | 392 |\n",
       "| artist_01 | feed_id_102  |  14 |\n",
       "| artist_01 | feed_id_1023 |  12 |\n",
       "| artist_01 | feed_id_103  |  10 |\n",
       "\n"
      ],
      "text/plain": [
       "  Artist    Feed_Id      n  \n",
       "1 artist_01 feed_id_08     2\n",
       "2 artist_01 feed_id_1006   7\n",
       "3 artist_01 feed_id_1008 392\n",
       "4 artist_01 feed_id_102   14\n",
       "5 artist_01 feed_id_1023  12\n",
       "6 artist_01 feed_id_103   10"
      ]
     },
     "metadata": {},
     "output_type": "display_data"
    }
   ],
   "source": [
    "FreqArtist <- consumption_nodup %>% count(Artist, Feed_Id)\n",
    "head(FreqArtist)\n"
   ]
  },
  {
   "cell_type": "markdown",
   "id": "0f9a0fea",
   "metadata": {},
   "source": [
    "Most played track datewise"
   ]
  },
  {
   "cell_type": "code",
   "execution_count": 107,
   "id": "ab7f18f3",
   "metadata": {
    "scrolled": true
   },
   "outputs": [
    {
     "data": {
      "text/html": [
       "<table class=\"dataframe\">\n",
       "<caption>A tibble: 6 × 3</caption>\n",
       "<thead>\n",
       "\t<tr><th scope=col>Date</th><th scope=col>Track</th><th scope=col>n</th></tr>\n",
       "\t<tr><th scope=col>&lt;date&gt;</th><th scope=col>&lt;chr&gt;</th><th scope=col>&lt;int&gt;</th></tr>\n",
       "</thead>\n",
       "<tbody>\n",
       "\t<tr><td>2019-01-01</td><td>Song_01</td><td> 86</td></tr>\n",
       "\t<tr><td>2019-01-01</td><td>Song_02</td><td> 59</td></tr>\n",
       "\t<tr><td>2019-01-01</td><td>Song_03</td><td>  9</td></tr>\n",
       "\t<tr><td>2019-01-01</td><td>Song_04</td><td>343</td></tr>\n",
       "\t<tr><td>2019-01-01</td><td>Song_05</td><td>288</td></tr>\n",
       "\t<tr><td>2019-01-01</td><td>Song_06</td><td> 54</td></tr>\n",
       "</tbody>\n",
       "</table>\n"
      ],
      "text/latex": [
       "A tibble: 6 × 3\n",
       "\\begin{tabular}{lll}\n",
       " Date & Track & n\\\\\n",
       " <date> & <chr> & <int>\\\\\n",
       "\\hline\n",
       "\t 2019-01-01 & Song\\_01 &  86\\\\\n",
       "\t 2019-01-01 & Song\\_02 &  59\\\\\n",
       "\t 2019-01-01 & Song\\_03 &   9\\\\\n",
       "\t 2019-01-01 & Song\\_04 & 343\\\\\n",
       "\t 2019-01-01 & Song\\_05 & 288\\\\\n",
       "\t 2019-01-01 & Song\\_06 &  54\\\\\n",
       "\\end{tabular}\n"
      ],
      "text/markdown": [
       "\n",
       "A tibble: 6 × 3\n",
       "\n",
       "| Date &lt;date&gt; | Track &lt;chr&gt; | n &lt;int&gt; |\n",
       "|---|---|---|\n",
       "| 2019-01-01 | Song_01 |  86 |\n",
       "| 2019-01-01 | Song_02 |  59 |\n",
       "| 2019-01-01 | Song_03 |   9 |\n",
       "| 2019-01-01 | Song_04 | 343 |\n",
       "| 2019-01-01 | Song_05 | 288 |\n",
       "| 2019-01-01 | Song_06 |  54 |\n",
       "\n"
      ],
      "text/plain": [
       "  Date       Track   n  \n",
       "1 2019-01-01 Song_01  86\n",
       "2 2019-01-01 Song_02  59\n",
       "3 2019-01-01 Song_03   9\n",
       "4 2019-01-01 Song_04 343\n",
       "5 2019-01-01 Song_05 288\n",
       "6 2019-01-01 Song_06  54"
      ]
     },
     "metadata": {},
     "output_type": "display_data"
    }
   ],
   "source": [
    "DateTrack <- consumption_nodup %>% count(Date, Track)\n",
    "head(DateTrack)"
   ]
  },
  {
   "cell_type": "markdown",
   "id": "bfe62ca7",
   "metadata": {},
   "source": [
    "Most played artist datewise"
   ]
  },
  {
   "cell_type": "code",
   "execution_count": 109,
   "id": "4073d00c",
   "metadata": {
    "scrolled": true
   },
   "outputs": [
    {
     "data": {
      "text/html": [
       "<table class=\"dataframe\">\n",
       "<caption>A tibble: 6 × 3</caption>\n",
       "<thead>\n",
       "\t<tr><th scope=col>Date</th><th scope=col>Artist</th><th scope=col>n</th></tr>\n",
       "\t<tr><th scope=col>&lt;date&gt;</th><th scope=col>&lt;chr&gt;</th><th scope=col>&lt;int&gt;</th></tr>\n",
       "</thead>\n",
       "<tbody>\n",
       "\t<tr><td>2019-01-01</td><td>artist_01</td><td> 51</td></tr>\n",
       "\t<tr><td>2019-01-01</td><td>artist_02</td><td> 86</td></tr>\n",
       "\t<tr><td>2019-01-01</td><td>artist_03</td><td>288</td></tr>\n",
       "\t<tr><td>2019-01-01</td><td>artist_04</td><td> 10</td></tr>\n",
       "\t<tr><td>2019-01-01</td><td>artist_05</td><td> 54</td></tr>\n",
       "\t<tr><td>2019-01-01</td><td>artist_06</td><td>  9</td></tr>\n",
       "</tbody>\n",
       "</table>\n"
      ],
      "text/latex": [
       "A tibble: 6 × 3\n",
       "\\begin{tabular}{lll}\n",
       " Date & Artist & n\\\\\n",
       " <date> & <chr> & <int>\\\\\n",
       "\\hline\n",
       "\t 2019-01-01 & artist\\_01 &  51\\\\\n",
       "\t 2019-01-01 & artist\\_02 &  86\\\\\n",
       "\t 2019-01-01 & artist\\_03 & 288\\\\\n",
       "\t 2019-01-01 & artist\\_04 &  10\\\\\n",
       "\t 2019-01-01 & artist\\_05 &  54\\\\\n",
       "\t 2019-01-01 & artist\\_06 &   9\\\\\n",
       "\\end{tabular}\n"
      ],
      "text/markdown": [
       "\n",
       "A tibble: 6 × 3\n",
       "\n",
       "| Date &lt;date&gt; | Artist &lt;chr&gt; | n &lt;int&gt; |\n",
       "|---|---|---|\n",
       "| 2019-01-01 | artist_01 |  51 |\n",
       "| 2019-01-01 | artist_02 |  86 |\n",
       "| 2019-01-01 | artist_03 | 288 |\n",
       "| 2019-01-01 | artist_04 |  10 |\n",
       "| 2019-01-01 | artist_05 |  54 |\n",
       "| 2019-01-01 | artist_06 |   9 |\n",
       "\n"
      ],
      "text/plain": [
       "  Date       Artist    n  \n",
       "1 2019-01-01 artist_01  51\n",
       "2 2019-01-01 artist_02  86\n",
       "3 2019-01-01 artist_03 288\n",
       "4 2019-01-01 artist_04  10\n",
       "5 2019-01-01 artist_05  54\n",
       "6 2019-01-01 artist_06   9"
      ]
     },
     "metadata": {},
     "output_type": "display_data"
    }
   ],
   "source": [
    "DateArtist <- consumption_nodup %>% count(Date, Artist)\n",
    "head(DateArtist)"
   ]
  },
  {
   "cell_type": "markdown",
   "id": "a2fa1c20",
   "metadata": {},
   "source": [
    "### Feed and station mapping data"
   ]
  },
  {
   "cell_type": "code",
   "execution_count": 46,
   "id": "9929a485",
   "metadata": {},
   "outputs": [
    {
     "name": "stderr",
     "output_type": "stream",
     "text": [
      "\n",
      "\u001b[36m--\u001b[39m \u001b[1m\u001b[1mColumn specification\u001b[1m\u001b[22m \u001b[36m------------------------------------------------------------------------------------------------\u001b[39m\n",
      "cols(\n",
      "  Feed_Id = \u001b[31mcol_character()\u001b[39m,\n",
      "  SMP_Station = \u001b[31mcol_character()\u001b[39m\n",
      ")\n",
      "\n",
      "\n"
     ]
    }
   ],
   "source": [
    "feed_station_mapping <- read_csv(\"feed_station_mapping.csv\")"
   ]
  },
  {
   "cell_type": "markdown",
   "id": "2f257d8f",
   "metadata": {},
   "source": [
    "### Clean the dataset\n",
    "\n",
    "#### Remove duplicates from dataset (on the combination of all columns)"
   ]
  },
  {
   "cell_type": "code",
   "execution_count": 120,
   "id": "5e9ae86a",
   "metadata": {},
   "outputs": [],
   "source": [
    "feed_station_nodup <- feed_station_mapping %>% distinct()"
   ]
  },
  {
   "cell_type": "code",
   "execution_count": 121,
   "id": "57d063ea",
   "metadata": {
    "scrolled": true
   },
   "outputs": [
    {
     "data": {
      "text/html": [
       "<table class=\"dataframe\">\n",
       "<caption>A tibble: 6 × 2</caption>\n",
       "<thead>\n",
       "\t<tr><th scope=col>Feed_Id</th><th scope=col>SMP_Station</th></tr>\n",
       "\t<tr><th scope=col>&lt;chr&gt;</th><th scope=col>&lt;chr&gt;</th></tr>\n",
       "</thead>\n",
       "<tbody>\n",
       "\t<tr><td>feed_id_01</td><td>smp_station_name_1027</td></tr>\n",
       "\t<tr><td>feed_id_02</td><td>smp_station_name_94  </td></tr>\n",
       "\t<tr><td>feed_id_03</td><td>smp_station_name_500 </td></tr>\n",
       "\t<tr><td>feed_id_04</td><td>smp_station_name_346 </td></tr>\n",
       "\t<tr><td>feed_id_06</td><td>smp_station_name_732 </td></tr>\n",
       "\t<tr><td>feed_id_08</td><td>smp_station_name_639 </td></tr>\n",
       "</tbody>\n",
       "</table>\n"
      ],
      "text/latex": [
       "A tibble: 6 × 2\n",
       "\\begin{tabular}{ll}\n",
       " Feed\\_Id & SMP\\_Station\\\\\n",
       " <chr> & <chr>\\\\\n",
       "\\hline\n",
       "\t feed\\_id\\_01 & smp\\_station\\_name\\_1027\\\\\n",
       "\t feed\\_id\\_02 & smp\\_station\\_name\\_94  \\\\\n",
       "\t feed\\_id\\_03 & smp\\_station\\_name\\_500 \\\\\n",
       "\t feed\\_id\\_04 & smp\\_station\\_name\\_346 \\\\\n",
       "\t feed\\_id\\_06 & smp\\_station\\_name\\_732 \\\\\n",
       "\t feed\\_id\\_08 & smp\\_station\\_name\\_639 \\\\\n",
       "\\end{tabular}\n"
      ],
      "text/markdown": [
       "\n",
       "A tibble: 6 × 2\n",
       "\n",
       "| Feed_Id &lt;chr&gt; | SMP_Station &lt;chr&gt; |\n",
       "|---|---|\n",
       "| feed_id_01 | smp_station_name_1027 |\n",
       "| feed_id_02 | smp_station_name_94   |\n",
       "| feed_id_03 | smp_station_name_500  |\n",
       "| feed_id_04 | smp_station_name_346  |\n",
       "| feed_id_06 | smp_station_name_732  |\n",
       "| feed_id_08 | smp_station_name_639  |\n",
       "\n"
      ],
      "text/plain": [
       "  Feed_Id    SMP_Station          \n",
       "1 feed_id_01 smp_station_name_1027\n",
       "2 feed_id_02 smp_station_name_94  \n",
       "3 feed_id_03 smp_station_name_500 \n",
       "4 feed_id_04 smp_station_name_346 \n",
       "5 feed_id_06 smp_station_name_732 \n",
       "6 feed_id_08 smp_station_name_639 "
      ]
     },
     "metadata": {},
     "output_type": "display_data"
    }
   ],
   "source": [
    "head(feed_station_nodup)"
   ]
  },
  {
   "cell_type": "markdown",
   "id": "a4068914",
   "metadata": {},
   "source": [
    "Total of 1125 records loaded (There were no duplicates in this data)"
   ]
  },
  {
   "cell_type": "code",
   "execution_count": 122,
   "id": "c29eb9c7",
   "metadata": {},
   "outputs": [
    {
     "data": {
      "text/plain": [
       "   Feed_Id          SMP_Station       \n",
       " Length:1125        Length:1125       \n",
       " Class :character   Class :character  \n",
       " Mode  :character   Mode  :character  "
      ]
     },
     "metadata": {},
     "output_type": "display_data"
    }
   ],
   "source": [
    "summary(feed_station_nodup)"
   ]
  },
  {
   "cell_type": "markdown",
   "id": "c0284130",
   "metadata": {},
   "source": [
    "Checking for relationship between Feed_Id and SMP_Station.\n",
    "\n",
    "As evident from below,Feed_Id has Many-to-One relationship with SMP_Station. "
   ]
  },
  {
   "cell_type": "code",
   "execution_count": 123,
   "id": "54c917f6",
   "metadata": {
    "scrolled": true
   },
   "outputs": [
    {
     "data": {
      "text/html": [
       "<table class=\"dataframe\">\n",
       "<caption>A grouped_df: 6 × 2</caption>\n",
       "<thead>\n",
       "\t<tr><th scope=col>Feed_Id</th><th scope=col>SMP_Station</th></tr>\n",
       "\t<tr><th scope=col>&lt;chr&gt;</th><th scope=col>&lt;chr&gt;</th></tr>\n",
       "</thead>\n",
       "<tbody>\n",
       "\t<tr><td>feed_id_1347</td><td>smp_station_name_154 </td></tr>\n",
       "\t<tr><td>feed_id_204 </td><td>smp_station_name_1068</td></tr>\n",
       "\t<tr><td>feed_id_396 </td><td>smp_station_name_1068</td></tr>\n",
       "\t<tr><td>feed_id_405 </td><td>smp_station_name_722 </td></tr>\n",
       "\t<tr><td>feed_id_557 </td><td>smp_station_name_722 </td></tr>\n",
       "\t<tr><td>feed_id_736 </td><td>smp_station_name_154 </td></tr>\n",
       "</tbody>\n",
       "</table>\n"
      ],
      "text/latex": [
       "A grouped\\_df: 6 × 2\n",
       "\\begin{tabular}{ll}\n",
       " Feed\\_Id & SMP\\_Station\\\\\n",
       " <chr> & <chr>\\\\\n",
       "\\hline\n",
       "\t feed\\_id\\_1347 & smp\\_station\\_name\\_154 \\\\\n",
       "\t feed\\_id\\_204  & smp\\_station\\_name\\_1068\\\\\n",
       "\t feed\\_id\\_396  & smp\\_station\\_name\\_1068\\\\\n",
       "\t feed\\_id\\_405  & smp\\_station\\_name\\_722 \\\\\n",
       "\t feed\\_id\\_557  & smp\\_station\\_name\\_722 \\\\\n",
       "\t feed\\_id\\_736  & smp\\_station\\_name\\_154 \\\\\n",
       "\\end{tabular}\n"
      ],
      "text/markdown": [
       "\n",
       "A grouped_df: 6 × 2\n",
       "\n",
       "| Feed_Id &lt;chr&gt; | SMP_Station &lt;chr&gt; |\n",
       "|---|---|\n",
       "| feed_id_1347 | smp_station_name_154  |\n",
       "| feed_id_204  | smp_station_name_1068 |\n",
       "| feed_id_396  | smp_station_name_1068 |\n",
       "| feed_id_405  | smp_station_name_722  |\n",
       "| feed_id_557  | smp_station_name_722  |\n",
       "| feed_id_736  | smp_station_name_154  |\n",
       "\n"
      ],
      "text/plain": [
       "  Feed_Id      SMP_Station          \n",
       "1 feed_id_1347 smp_station_name_154 \n",
       "2 feed_id_204  smp_station_name_1068\n",
       "3 feed_id_396  smp_station_name_1068\n",
       "4 feed_id_405  smp_station_name_722 \n",
       "5 feed_id_557  smp_station_name_722 \n",
       "6 feed_id_736  smp_station_name_154 "
      ]
     },
     "metadata": {},
     "output_type": "display_data"
    }
   ],
   "source": [
    "feed_station_mapping %>% group_by(SMP_Station) %>% filter(n()>1) ##to check the one to many relationship\n"
   ]
  },
  {
   "cell_type": "code",
   "execution_count": 124,
   "id": "2b7b16d5",
   "metadata": {},
   "outputs": [
    {
     "data": {
      "text/html": [
       "FALSE"
      ],
      "text/latex": [
       "FALSE"
      ],
      "text/markdown": [
       "FALSE"
      ],
      "text/plain": [
       "[1] FALSE"
      ]
     },
     "metadata": {},
     "output_type": "display_data"
    }
   ],
   "source": [
    "missing(feed_station_nodup)"
   ]
  },
  {
   "cell_type": "code",
   "execution_count": 125,
   "id": "83e9163d",
   "metadata": {},
   "outputs": [
    {
     "name": "stderr",
     "output_type": "stream",
     "text": [
      "Warning message:\n",
      "\"Unknown or uninitialised column: `arguments`.\"\n",
      "Warning message:\n",
      "\"Unknown or uninitialised column: `arguments`.\"\n",
      "Warning message:\n",
      "\"Unknown or uninitialised column: `imputations`.\"\n"
     ]
    },
    {
     "data": {
      "image/png": "[encoded data removed]",
      "text/plain": [
       "Plot with title \"Missingness Map\""
      ]
     },
     "metadata": {
      "image/png": {
       "height": 420,
       "width": 420
      }
     },
     "output_type": "display_data"
    }
   ],
   "source": [
    "missmap(feed_station_nodup) ##no missing data"
   ]
  },
  {
   "cell_type": "markdown",
   "id": "c1cc69f6",
   "metadata": {},
   "source": [
    "### Merge the datasets\n",
    "\n",
    "#### Joining the 2 tables using Left join"
   ]
  },
  {
   "cell_type": "code",
   "execution_count": 126,
   "id": "2ebd655e",
   "metadata": {},
   "outputs": [],
   "source": [
    "mergedata = merge(x= consumption_nodup, y=feed_station_nodup, by=\"Feed_Id\", all.x=TRUE)"
   ]
  },
  {
   "cell_type": "code",
   "execution_count": 127,
   "id": "e3fcaa1f",
   "metadata": {},
   "outputs": [
    {
     "data": {
      "text/html": [
       "<table class=\"dataframe\">\n",
       "<caption>A data.frame: 6 × 8</caption>\n",
       "<thead>\n",
       "\t<tr><th></th><th scope=col>Feed_Id</th><th scope=col>Stamp</th><th scope=col>Track</th><th scope=col>Artist</th><th scope=col>Feed_Name</th><th scope=col>Date</th><th scope=col>Time</th><th scope=col>SMP_Station</th></tr>\n",
       "\t<tr><th></th><th scope=col>&lt;chr&gt;</th><th scope=col>&lt;dttm&gt;</th><th scope=col>&lt;chr&gt;</th><th scope=col>&lt;chr&gt;</th><th scope=col>&lt;chr&gt;</th><th scope=col>&lt;date&gt;</th><th scope=col>&lt;times&gt;</th><th scope=col>&lt;chr&gt;</th></tr>\n",
       "</thead>\n",
       "<tbody>\n",
       "\t<tr><th scope=row>1</th><td>feed_id_01</td><td>2019-01-01 17:48:00</td><td>Song_05</td><td>artist_03</td><td>feed_name_572</td><td>2019-01-01</td><td>17:48:00</td><td>smp_station_name_1027</td></tr>\n",
       "\t<tr><th scope=row>2</th><td>feed_id_01</td><td>2019-01-08 07:26:00</td><td>Song_05</td><td>artist_03</td><td>feed_name_572</td><td>2019-01-08</td><td>07:26:00</td><td>smp_station_name_1027</td></tr>\n",
       "\t<tr><th scope=row>3</th><td>feed_id_01</td><td>2019-01-09 12:05:00</td><td>Song_05</td><td>artist_03</td><td>feed_name_572</td><td>2019-01-09</td><td>12:05:00</td><td>smp_station_name_1027</td></tr>\n",
       "\t<tr><th scope=row>4</th><td>feed_id_01</td><td>2019-01-10 17:14:00</td><td>Song_05</td><td>artist_03</td><td>feed_name_572</td><td>2019-01-10</td><td>17:14:00</td><td>smp_station_name_1027</td></tr>\n",
       "\t<tr><th scope=row>5</th><td>feed_id_01</td><td>2019-01-13 09:47:00</td><td>Song_05</td><td>artist_03</td><td>feed_name_572</td><td>2019-01-13</td><td>09:47:00</td><td>smp_station_name_1027</td></tr>\n",
       "\t<tr><th scope=row>6</th><td>feed_id_01</td><td>2019-01-14 08:58:00</td><td>Song_05</td><td>artist_03</td><td>feed_name_572</td><td>2019-01-14</td><td>08:58:00</td><td>smp_station_name_1027</td></tr>\n",
       "</tbody>\n",
       "</table>\n"
      ],
      "text/latex": [
       "A data.frame: 6 × 8\n",
       "\\begin{tabular}{r|llllllll}\n",
       "  & Feed\\_Id & Stamp & Track & Artist & Feed\\_Name & Date & Time & SMP\\_Station\\\\\n",
       "  & <chr> & <dttm> & <chr> & <chr> & <chr> & <date> & <times> & <chr>\\\\\n",
       "\\hline\n",
       "\t1 & feed\\_id\\_01 & 2019-01-01 17:48:00 & Song\\_05 & artist\\_03 & feed\\_name\\_572 & 2019-01-01 & 17:48:00 & smp\\_station\\_name\\_1027\\\\\n",
       "\t2 & feed\\_id\\_01 & 2019-01-08 07:26:00 & Song\\_05 & artist\\_03 & feed\\_name\\_572 & 2019-01-08 & 07:26:00 & smp\\_station\\_name\\_1027\\\\\n",
       "\t3 & feed\\_id\\_01 & 2019-01-09 12:05:00 & Song\\_05 & artist\\_03 & feed\\_name\\_572 & 2019-01-09 & 12:05:00 & smp\\_station\\_name\\_1027\\\\\n",
       "\t4 & feed\\_id\\_01 & 2019-01-10 17:14:00 & Song\\_05 & artist\\_03 & feed\\_name\\_572 & 2019-01-10 & 17:14:00 & smp\\_station\\_name\\_1027\\\\\n",
       "\t5 & feed\\_id\\_01 & 2019-01-13 09:47:00 & Song\\_05 & artist\\_03 & feed\\_name\\_572 & 2019-01-13 & 09:47:00 & smp\\_station\\_name\\_1027\\\\\n",
       "\t6 & feed\\_id\\_01 & 2019-01-14 08:58:00 & Song\\_05 & artist\\_03 & feed\\_name\\_572 & 2019-01-14 & 08:58:00 & smp\\_station\\_name\\_1027\\\\\n",
       "\\end{tabular}\n"
      ],
      "text/markdown": [
       "\n",
       "A data.frame: 6 × 8\n",
       "\n",
       "| <!--/--> | Feed_Id &lt;chr&gt; | Stamp &lt;dttm&gt; | Track &lt;chr&gt; | Artist &lt;chr&gt; | Feed_Name &lt;chr&gt; | Date &lt;date&gt; | Time &lt;times&gt; | SMP_Station &lt;chr&gt; |\n",
       "|---|---|---|---|---|---|---|---|---|\n",
       "| 1 | feed_id_01 | 2019-01-01 17:48:00 | Song_05 | artist_03 | feed_name_572 | 2019-01-01 | 17:48:00 | smp_station_name_1027 |\n",
       "| 2 | feed_id_01 | 2019-01-08 07:26:00 | Song_05 | artist_03 | feed_name_572 | 2019-01-08 | 07:26:00 | smp_station_name_1027 |\n",
       "| 3 | feed_id_01 | 2019-01-09 12:05:00 | Song_05 | artist_03 | feed_name_572 | 2019-01-09 | 12:05:00 | smp_station_name_1027 |\n",
       "| 4 | feed_id_01 | 2019-01-10 17:14:00 | Song_05 | artist_03 | feed_name_572 | 2019-01-10 | 17:14:00 | smp_station_name_1027 |\n",
       "| 5 | feed_id_01 | 2019-01-13 09:47:00 | Song_05 | artist_03 | feed_name_572 | 2019-01-13 | 09:47:00 | smp_station_name_1027 |\n",
       "| 6 | feed_id_01 | 2019-01-14 08:58:00 | Song_05 | artist_03 | feed_name_572 | 2019-01-14 | 08:58:00 | smp_station_name_1027 |\n",
       "\n"
      ],
      "text/plain": [
       "  Feed_Id    Stamp               Track   Artist    Feed_Name     Date      \n",
       "1 feed_id_01 2019-01-01 17:48:00 Song_05 artist_03 feed_name_572 2019-01-01\n",
       "2 feed_id_01 2019-01-08 07:26:00 Song_05 artist_03 feed_name_572 2019-01-08\n",
       "3 feed_id_01 2019-01-09 12:05:00 Song_05 artist_03 feed_name_572 2019-01-09\n",
       "4 feed_id_01 2019-01-10 17:14:00 Song_05 artist_03 feed_name_572 2019-01-10\n",
       "5 feed_id_01 2019-01-13 09:47:00 Song_05 artist_03 feed_name_572 2019-01-13\n",
       "6 feed_id_01 2019-01-14 08:58:00 Song_05 artist_03 feed_name_572 2019-01-14\n",
       "  Time     SMP_Station          \n",
       "1 17:48:00 smp_station_name_1027\n",
       "2 07:26:00 smp_station_name_1027\n",
       "3 12:05:00 smp_station_name_1027\n",
       "4 17:14:00 smp_station_name_1027\n",
       "5 09:47:00 smp_station_name_1027\n",
       "6 08:58:00 smp_station_name_1027"
      ]
     },
     "metadata": {},
     "output_type": "display_data"
    }
   ],
   "source": [
    "head(mergedata)"
   ]
  },
  {
   "cell_type": "code",
   "execution_count": 128,
   "id": "975542d8",
   "metadata": {},
   "outputs": [
    {
     "data": {
      "text/plain": [
       "   Feed_Id              Stamp                        Track          \n",
       " Length:517021      Min.   :2019-01-01 00:02:00   Length:517021     \n",
       " Class :character   1st Qu.:2019-06-17 12:47:00   Class :character  \n",
       " Mode  :character   Median :2019-11-13 20:43:00   Mode  :character  \n",
       "                    Mean   :2019-11-17 05:25:42                     \n",
       "                    3rd Qu.:2020-04-22 12:44:00                     \n",
       "                    Max.   :2020-09-30 23:57:00                     \n",
       "    Artist           Feed_Name              Date                 Time         \n",
       " Length:517021      Length:517021      Min.   :2019-01-01   Min.   :00:00:00  \n",
       " Class :character   Class :character   1st Qu.:2019-06-17   1st Qu.:06:04:00  \n",
       " Mode  :character   Mode  :character   Median :2019-11-13   Median :11:52:00  \n",
       "                                       Mean   :2019-11-16   Mean   :11:53:56  \n",
       "                                       3rd Qu.:2020-04-22   3rd Qu.:17:35:50  \n",
       "                                       Max.   :2020-09-30   Max.   :23:59:52  \n",
       " SMP_Station       \n",
       " Length:517021     \n",
       " Class :character  \n",
       " Mode  :character  \n",
       "                   \n",
       "                   \n",
       "                   "
      ]
     },
     "metadata": {},
     "output_type": "display_data"
    }
   ],
   "source": [
    "summary(mergedata)"
   ]
  },
  {
   "cell_type": "markdown",
   "id": "2514b25c",
   "metadata": {},
   "source": [
    " #### Missing SMP station - merged data\n",
    " \n",
    " 30270 Feed_Ids are not mapped with a SMP_Station"
   ]
  },
  {
   "cell_type": "code",
   "execution_count": 129,
   "id": "a673de65",
   "metadata": {},
   "outputs": [
    {
     "data": {
      "text/html": [
       "<table class=\"dataframe\">\n",
       "<caption>A data.frame: 1 × 1</caption>\n",
       "<thead>\n",
       "\t<tr><th scope=col>n</th></tr>\n",
       "\t<tr><th scope=col>&lt;int&gt;</th></tr>\n",
       "</thead>\n",
       "<tbody>\n",
       "\t<tr><td>30270</td></tr>\n",
       "</tbody>\n",
       "</table>\n"
      ],
      "text/latex": [
       "A data.frame: 1 × 1\n",
       "\\begin{tabular}{l}\n",
       " n\\\\\n",
       " <int>\\\\\n",
       "\\hline\n",
       "\t 30270\\\\\n",
       "\\end{tabular}\n"
      ],
      "text/markdown": [
       "\n",
       "A data.frame: 1 × 1\n",
       "\n",
       "| n &lt;int&gt; |\n",
       "|---|\n",
       "| 30270 |\n",
       "\n"
      ],
      "text/plain": [
       "  n    \n",
       "1 30270"
      ]
     },
     "metadata": {},
     "output_type": "display_data"
    }
   ],
   "source": [
    "count(mergedata %>% filter(is.na(mergedata$SMP_Station)))"
   ]
  },
  {
   "cell_type": "code",
   "execution_count": 130,
   "id": "af57c2fb",
   "metadata": {
    "scrolled": true
   },
   "outputs": [
    {
     "data": {
      "text/html": [
       "<table class=\"dataframe\">\n",
       "<caption>A data.frame: 6 × 8</caption>\n",
       "<thead>\n",
       "\t<tr><th></th><th scope=col>Feed_Id</th><th scope=col>Stamp</th><th scope=col>Track</th><th scope=col>Artist</th><th scope=col>Feed_Name</th><th scope=col>Date</th><th scope=col>Time</th><th scope=col>SMP_Station</th></tr>\n",
       "\t<tr><th></th><th scope=col>&lt;chr&gt;</th><th scope=col>&lt;dttm&gt;</th><th scope=col>&lt;chr&gt;</th><th scope=col>&lt;chr&gt;</th><th scope=col>&lt;chr&gt;</th><th scope=col>&lt;date&gt;</th><th scope=col>&lt;times&gt;</th><th scope=col>&lt;chr&gt;</th></tr>\n",
       "</thead>\n",
       "<tbody>\n",
       "\t<tr><th scope=row>1</th><td>feed_id_05</td><td>2020-03-15 08:23:05</td><td>Song_04</td><td>artist_07</td><td>feed_name_1306</td><td>2020-03-15</td><td>08:23:05</td><td>NA</td></tr>\n",
       "\t<tr><th scope=row>2</th><td>feed_id_05</td><td>2020-06-11 15:41:42</td><td>Song_04</td><td>artist_07</td><td>feed_name_1306</td><td>2020-06-11</td><td>15:41:42</td><td>NA</td></tr>\n",
       "\t<tr><th scope=row>3</th><td>feed_id_07</td><td>2019-01-31 14:41:01</td><td>Song_05</td><td>artist_03</td><td>feed_name_31  </td><td>2019-01-31</td><td>14:41:01</td><td>NA</td></tr>\n",
       "\t<tr><th scope=row>4</th><td>feed_id_07</td><td>2019-02-01 11:28:39</td><td>Song_05</td><td>artist_03</td><td>feed_name_31  </td><td>2019-02-01</td><td>11:28:39</td><td>NA</td></tr>\n",
       "\t<tr><th scope=row>5</th><td>feed_id_07</td><td>2019-02-02 06:09:33</td><td>Song_05</td><td>artist_03</td><td>feed_name_31  </td><td>2019-02-02</td><td>06:09:33</td><td>NA</td></tr>\n",
       "\t<tr><th scope=row>6</th><td>feed_id_07</td><td>2019-02-02 16:45:28</td><td>Song_05</td><td>artist_03</td><td>feed_name_31  </td><td>2019-02-02</td><td>16:45:28</td><td>NA</td></tr>\n",
       "</tbody>\n",
       "</table>\n"
      ],
      "text/latex": [
       "A data.frame: 6 × 8\n",
       "\\begin{tabular}{r|llllllll}\n",
       "  & Feed\\_Id & Stamp & Track & Artist & Feed\\_Name & Date & Time & SMP\\_Station\\\\\n",
       "  & <chr> & <dttm> & <chr> & <chr> & <chr> & <date> & <times> & <chr>\\\\\n",
       "\\hline\n",
       "\t1 & feed\\_id\\_05 & 2020-03-15 08:23:05 & Song\\_04 & artist\\_07 & feed\\_name\\_1306 & 2020-03-15 & 08:23:05 & NA\\\\\n",
       "\t2 & feed\\_id\\_05 & 2020-06-11 15:41:42 & Song\\_04 & artist\\_07 & feed\\_name\\_1306 & 2020-06-11 & 15:41:42 & NA\\\\\n",
       "\t3 & feed\\_id\\_07 & 2019-01-31 14:41:01 & Song\\_05 & artist\\_03 & feed\\_name\\_31   & 2019-01-31 & 14:41:01 & NA\\\\\n",
       "\t4 & feed\\_id\\_07 & 2019-02-01 11:28:39 & Song\\_05 & artist\\_03 & feed\\_name\\_31   & 2019-02-01 & 11:28:39 & NA\\\\\n",
       "\t5 & feed\\_id\\_07 & 2019-02-02 06:09:33 & Song\\_05 & artist\\_03 & feed\\_name\\_31   & 2019-02-02 & 06:09:33 & NA\\\\\n",
       "\t6 & feed\\_id\\_07 & 2019-02-02 16:45:28 & Song\\_05 & artist\\_03 & feed\\_name\\_31   & 2019-02-02 & 16:45:28 & NA\\\\\n",
       "\\end{tabular}\n"
      ],
      "text/markdown": [
       "\n",
       "A data.frame: 6 × 8\n",
       "\n",
       "| <!--/--> | Feed_Id &lt;chr&gt; | Stamp &lt;dttm&gt; | Track &lt;chr&gt; | Artist &lt;chr&gt; | Feed_Name &lt;chr&gt; | Date &lt;date&gt; | Time &lt;times&gt; | SMP_Station &lt;chr&gt; |\n",
       "|---|---|---|---|---|---|---|---|---|\n",
       "| 1 | feed_id_05 | 2020-03-15 08:23:05 | Song_04 | artist_07 | feed_name_1306 | 2020-03-15 | 08:23:05 | NA |\n",
       "| 2 | feed_id_05 | 2020-06-11 15:41:42 | Song_04 | artist_07 | feed_name_1306 | 2020-06-11 | 15:41:42 | NA |\n",
       "| 3 | feed_id_07 | 2019-01-31 14:41:01 | Song_05 | artist_03 | feed_name_31   | 2019-01-31 | 14:41:01 | NA |\n",
       "| 4 | feed_id_07 | 2019-02-01 11:28:39 | Song_05 | artist_03 | feed_name_31   | 2019-02-01 | 11:28:39 | NA |\n",
       "| 5 | feed_id_07 | 2019-02-02 06:09:33 | Song_05 | artist_03 | feed_name_31   | 2019-02-02 | 06:09:33 | NA |\n",
       "| 6 | feed_id_07 | 2019-02-02 16:45:28 | Song_05 | artist_03 | feed_name_31   | 2019-02-02 | 16:45:28 | NA |\n",
       "\n"
      ],
      "text/plain": [
       "  Feed_Id    Stamp               Track   Artist    Feed_Name      Date      \n",
       "1 feed_id_05 2020-03-15 08:23:05 Song_04 artist_07 feed_name_1306 2020-03-15\n",
       "2 feed_id_05 2020-06-11 15:41:42 Song_04 artist_07 feed_name_1306 2020-06-11\n",
       "3 feed_id_07 2019-01-31 14:41:01 Song_05 artist_03 feed_name_31   2019-01-31\n",
       "4 feed_id_07 2019-02-01 11:28:39 Song_05 artist_03 feed_name_31   2019-02-01\n",
       "5 feed_id_07 2019-02-02 06:09:33 Song_05 artist_03 feed_name_31   2019-02-02\n",
       "6 feed_id_07 2019-02-02 16:45:28 Song_05 artist_03 feed_name_31   2019-02-02\n",
       "  Time     SMP_Station\n",
       "1 08:23:05 NA         \n",
       "2 15:41:42 NA         \n",
       "3 14:41:01 NA         \n",
       "4 11:28:39 NA         \n",
       "5 06:09:33 NA         \n",
       "6 16:45:28 NA         "
      ]
     },
     "metadata": {},
     "output_type": "display_data"
    }
   ],
   "source": [
    "head(mergedata %>% filter(is.na(mergedata$SMP_Station)))"
   ]
  },
  {
   "cell_type": "markdown",
   "id": "896a5861",
   "metadata": {},
   "source": [
    "##### Recoding missing values of SMP Station variable using Feed_Name\n"
   ]
  },
  {
   "cell_type": "code",
   "execution_count": 132,
   "id": "af528714",
   "metadata": {},
   "outputs": [],
   "source": [
    "mergedata$SMP_Station <- ifelse(is.na(mergedata$SMP_Station),\n",
    "                                mergedata$Feed_Name, mergedata$SMP_Station)"
   ]
  },
  {
   "cell_type": "markdown",
   "id": "9eee08c5",
   "metadata": {},
   "source": [
    "After recoding no empty values found in the merged dataset"
   ]
  },
  {
   "cell_type": "code",
   "execution_count": 133,
   "id": "bae754d8",
   "metadata": {},
   "outputs": [
    {
     "data": {
      "text/html": [
       "<table class=\"dataframe\">\n",
       "<caption>A data.frame: 1 × 1</caption>\n",
       "<thead>\n",
       "\t<tr><th scope=col>n</th></tr>\n",
       "\t<tr><th scope=col>&lt;int&gt;</th></tr>\n",
       "</thead>\n",
       "<tbody>\n",
       "\t<tr><td>0</td></tr>\n",
       "</tbody>\n",
       "</table>\n"
      ],
      "text/latex": [
       "A data.frame: 1 × 1\n",
       "\\begin{tabular}{l}\n",
       " n\\\\\n",
       " <int>\\\\\n",
       "\\hline\n",
       "\t 0\\\\\n",
       "\\end{tabular}\n"
      ],
      "text/markdown": [
       "\n",
       "A data.frame: 1 × 1\n",
       "\n",
       "| n &lt;int&gt; |\n",
       "|---|\n",
       "| 0 |\n",
       "\n"
      ],
      "text/plain": [
       "  n\n",
       "1 0"
      ]
     },
     "metadata": {},
     "output_type": "display_data"
    }
   ],
   "source": [
    "count(mergedata %>% filter(is.na(mergedata$SMP_Station)))"
   ]
  },
  {
   "cell_type": "code",
   "execution_count": 134,
   "id": "0ae8b35f",
   "metadata": {},
   "outputs": [
    {
     "data": {
      "text/plain": [
       "   Feed_Id              Stamp                        Track          \n",
       " Length:517021      Min.   :2019-01-01 00:02:00   Length:517021     \n",
       " Class :character   1st Qu.:2019-06-17 12:47:00   Class :character  \n",
       " Mode  :character   Median :2019-11-13 20:43:00   Mode  :character  \n",
       "                    Mean   :2019-11-17 05:25:42                     \n",
       "                    3rd Qu.:2020-04-22 12:44:00                     \n",
       "                    Max.   :2020-09-30 23:57:00                     \n",
       "    Artist           Feed_Name              Date                 Time         \n",
       " Length:517021      Length:517021      Min.   :2019-01-01   Min.   :00:00:00  \n",
       " Class :character   Class :character   1st Qu.:2019-06-17   1st Qu.:06:04:00  \n",
       " Mode  :character   Mode  :character   Median :2019-11-13   Median :11:52:00  \n",
       "                                       Mean   :2019-11-16   Mean   :11:53:56  \n",
       "                                       3rd Qu.:2020-04-22   3rd Qu.:17:35:50  \n",
       "                                       Max.   :2020-09-30   Max.   :23:59:52  \n",
       " SMP_Station       \n",
       " Length:517021     \n",
       " Class :character  \n",
       " Mode  :character  \n",
       "                   \n",
       "                   \n",
       "                   "
      ]
     },
     "metadata": {},
     "output_type": "display_data"
    }
   ],
   "source": [
    "summary(mergedata)"
   ]
  },
  {
   "cell_type": "markdown",
   "id": "41b622a2",
   "metadata": {},
   "source": [
    "## Avoid DOUBLE COUNT PLAY\n",
    "\n",
    "We are supposed to avoid double count of plays from feeds coming to same station. So the requisites for this condistion are:\n",
    "\n",
    "Records with.. \n",
    "\n",
    "**same timestamp**, \n",
    "\n",
    "**same track**, \n",
    "\n",
    "**same station**  and also have\n",
    "\n",
    "**(I)same Feed_Id OR (II)different Feed_Id** ... should be removed.\n",
    "\n"
   ]
  },
  {
   "cell_type": "markdown",
   "id": "13a797c0",
   "metadata": {},
   "source": [
    "(I) such duplicates have already been removed in the initial stage\n",
    "\n",
    "(II) such duplicates are removed below"
   ]
  },
  {
   "cell_type": "markdown",
   "id": "04c81be6",
   "metadata": {},
   "source": [
    "#### filtering out the 'good' data, that is data unique on combination of variables- feed ID, track, stamp and station"
   ]
  },
  {
   "cell_type": "code",
   "execution_count": 135,
   "id": "58a62e25",
   "metadata": {
    "scrolled": true
   },
   "outputs": [],
   "source": [
    "gooddata <- mergedata %>% group_by(Track, Stamp, SMP_Station) %>% filter(n()==1)"
   ]
  },
  {
   "cell_type": "markdown",
   "id": "f551c80d",
   "metadata": {},
   "source": [
    "515866 good observations"
   ]
  },
  {
   "cell_type": "code",
   "execution_count": 136,
   "id": "e3855f53",
   "metadata": {
    "scrolled": true
   },
   "outputs": [
    {
     "data": {
      "text/plain": [
       "   Feed_Id              Stamp                        Track          \n",
       " Length:515866      Min.   :2019-01-01 00:02:00   Length:515866     \n",
       " Class :character   1st Qu.:2019-06-17 13:24:00   Class :character  \n",
       " Mode  :character   Median :2019-11-13 19:02:00   Mode  :character  \n",
       "                    Mean   :2019-11-17 05:46:40                     \n",
       "                    3rd Qu.:2020-04-22 13:56:45                     \n",
       "                    Max.   :2020-09-30 23:57:00                     \n",
       "    Artist           Feed_Name              Date                 Time         \n",
       " Length:515866      Length:515866      Min.   :2019-01-01   Min.   :00:00:00  \n",
       " Class :character   Class :character   1st Qu.:2019-06-17   1st Qu.:06:03:00  \n",
       " Mode  :character   Mode  :character   Median :2019-11-13   Median :11:52:00  \n",
       "                                       Mean   :2019-11-16   Mean   :11:53:56  \n",
       "                                       3rd Qu.:2020-04-22   3rd Qu.:17:36:00  \n",
       "                                       Max.   :2020-09-30   Max.   :23:59:52  \n",
       " SMP_Station       \n",
       " Length:515866     \n",
       " Class :character  \n",
       " Mode  :character  \n",
       "                   \n",
       "                   \n",
       "                   "
      ]
     },
     "metadata": {},
     "output_type": "display_data"
    }
   ],
   "source": [
    "summary(gooddata) #515866 observations"
   ]
  },
  {
   "cell_type": "markdown",
   "id": "eb193a98",
   "metadata": {},
   "source": [
    "#### filtering out the 'bad' data, that is data duplicated on combination of variables- Stamp, station and track, but differing on Feed ID"
   ]
  },
  {
   "cell_type": "code",
   "execution_count": 137,
   "id": "4456ef26",
   "metadata": {},
   "outputs": [],
   "source": [
    "baddata <- mergedata %>% group_by(Track, Stamp, SMP_Station) %>% filter(n()>1)"
   ]
  },
  {
   "cell_type": "markdown",
   "id": "c2f2a1ab",
   "metadata": {},
   "source": [
    "1155 bad observations"
   ]
  },
  {
   "cell_type": "code",
   "execution_count": 138,
   "id": "9474e5b0",
   "metadata": {
    "scrolled": true
   },
   "outputs": [
    {
     "data": {
      "text/plain": [
       "   Feed_Id              Stamp                        Track          \n",
       " Length:1155        Min.   :2019-01-02 21:10:50   Length:1155       \n",
       " Class :character   1st Qu.:2019-05-10 11:44:01   Class :character  \n",
       " Mode  :character   Median :2019-12-14 19:42:00   Mode  :character  \n",
       "                    Mean   :2019-11-10 17:26:13                     \n",
       "                    3rd Qu.:2020-03-23 09:24:00                     \n",
       "                    Max.   :2020-09-30 02:51:42                     \n",
       "    Artist           Feed_Name              Date                 Time         \n",
       " Length:1155        Length:1155        Min.   :2019-01-02   Min.   :00:08:12  \n",
       " Class :character   Class :character   1st Qu.:2019-05-10   1st Qu.:07:32:53  \n",
       " Mode  :character   Mode  :character   Median :2019-12-14   Median :11:44:01  \n",
       "                                       Mean   :2019-11-10   Mean   :11:56:21  \n",
       "                                       3rd Qu.:2020-03-23   3rd Qu.:15:52:23  \n",
       "                                       Max.   :2020-09-30   Max.   :23:57:15  \n",
       " SMP_Station       \n",
       " Length:1155       \n",
       " Class :character  \n",
       " Mode  :character  \n",
       "                   \n",
       "                   \n",
       "                   "
      ]
     },
     "metadata": {},
     "output_type": "display_data"
    }
   ],
   "source": [
    "summary(baddata)"
   ]
  },
  {
   "cell_type": "markdown",
   "id": "8d96d909",
   "metadata": {},
   "source": [
    "Now, below is a case where 2 different feed ids feed_id_1454 and feed_id_504, have played the same song, Song_05, at same time, 2019-01-02 21:10:50, for the same station, feed_name_202\n",
    "\n",
    "\n",
    "feed_id_1454,\t2019-01-02 21:10:50,\tSong_05\tartist_03,\tfeed_name_202,\t2019-01-02,\t21:10:50,\tfeed_name_202\n",
    "\n",
    "feed_id_504,\t2019-01-02 21:10:50,\tSong_05\tartist_03,\tfeed_name_202,\t2019-01-02,\t21:10:50,\tfeed_name_202"
   ]
  },
  {
   "cell_type": "code",
   "execution_count": 139,
   "id": "7caa219e",
   "metadata": {
    "scrolled": false
   },
   "outputs": [
    {
     "data": {
      "text/html": [
       "<table class=\"dataframe\">\n",
       "<caption>A grouped_df: 6 × 8</caption>\n",
       "<thead>\n",
       "\t<tr><th scope=col>Feed_Id</th><th scope=col>Stamp</th><th scope=col>Track</th><th scope=col>Artist</th><th scope=col>Feed_Name</th><th scope=col>Date</th><th scope=col>Time</th><th scope=col>SMP_Station</th></tr>\n",
       "\t<tr><th scope=col>&lt;chr&gt;</th><th scope=col>&lt;dttm&gt;</th><th scope=col>&lt;chr&gt;</th><th scope=col>&lt;chr&gt;</th><th scope=col>&lt;chr&gt;</th><th scope=col>&lt;date&gt;</th><th scope=col>&lt;times&gt;</th><th scope=col>&lt;chr&gt;</th></tr>\n",
       "</thead>\n",
       "<tbody>\n",
       "\t<tr><td>feed_id_1454</td><td>2019-01-02 21:10:50</td><td>Song_05</td><td>artist_03</td><td>feed_name_202</td><td>2019-01-02</td><td>21:10:50</td><td>feed_name_202</td></tr>\n",
       "\t<tr><td>feed_id_504 </td><td>2019-01-02 21:10:50</td><td>Song_05</td><td>artist_03</td><td>feed_name_202</td><td>2019-01-02</td><td>21:10:50</td><td>feed_name_202</td></tr>\n",
       "\t<tr><td>feed_id_136 </td><td>2019-01-03 20:58:02</td><td>Song_04</td><td>artist_07</td><td>feed_name_571</td><td>2019-01-03</td><td>20:58:02</td><td>feed_name_571</td></tr>\n",
       "\t<tr><td>feed_id_680 </td><td>2019-01-03 20:58:02</td><td>Song_04</td><td>artist_07</td><td>feed_name_571</td><td>2019-01-03</td><td>20:58:02</td><td>feed_name_571</td></tr>\n",
       "\t<tr><td>feed_id_78  </td><td>2019-01-03 20:58:02</td><td>Song_04</td><td>artist_07</td><td>feed_name_571</td><td>2019-01-03</td><td>20:58:02</td><td>feed_name_571</td></tr>\n",
       "\t<tr><td>feed_id_879 </td><td>2019-01-03 20:58:02</td><td>Song_04</td><td>artist_07</td><td>feed_name_571</td><td>2019-01-03</td><td>20:58:02</td><td>feed_name_571</td></tr>\n",
       "</tbody>\n",
       "</table>\n"
      ],
      "text/latex": [
       "A grouped\\_df: 6 × 8\n",
       "\\begin{tabular}{llllllll}\n",
       " Feed\\_Id & Stamp & Track & Artist & Feed\\_Name & Date & Time & SMP\\_Station\\\\\n",
       " <chr> & <dttm> & <chr> & <chr> & <chr> & <date> & <times> & <chr>\\\\\n",
       "\\hline\n",
       "\t feed\\_id\\_1454 & 2019-01-02 21:10:50 & Song\\_05 & artist\\_03 & feed\\_name\\_202 & 2019-01-02 & 21:10:50 & feed\\_name\\_202\\\\\n",
       "\t feed\\_id\\_504  & 2019-01-02 21:10:50 & Song\\_05 & artist\\_03 & feed\\_name\\_202 & 2019-01-02 & 21:10:50 & feed\\_name\\_202\\\\\n",
       "\t feed\\_id\\_136  & 2019-01-03 20:58:02 & Song\\_04 & artist\\_07 & feed\\_name\\_571 & 2019-01-03 & 20:58:02 & feed\\_name\\_571\\\\\n",
       "\t feed\\_id\\_680  & 2019-01-03 20:58:02 & Song\\_04 & artist\\_07 & feed\\_name\\_571 & 2019-01-03 & 20:58:02 & feed\\_name\\_571\\\\\n",
       "\t feed\\_id\\_78   & 2019-01-03 20:58:02 & Song\\_04 & artist\\_07 & feed\\_name\\_571 & 2019-01-03 & 20:58:02 & feed\\_name\\_571\\\\\n",
       "\t feed\\_id\\_879  & 2019-01-03 20:58:02 & Song\\_04 & artist\\_07 & feed\\_name\\_571 & 2019-01-03 & 20:58:02 & feed\\_name\\_571\\\\\n",
       "\\end{tabular}\n"
      ],
      "text/markdown": [
       "\n",
       "A grouped_df: 6 × 8\n",
       "\n",
       "| Feed_Id &lt;chr&gt; | Stamp &lt;dttm&gt; | Track &lt;chr&gt; | Artist &lt;chr&gt; | Feed_Name &lt;chr&gt; | Date &lt;date&gt; | Time &lt;times&gt; | SMP_Station &lt;chr&gt; |\n",
       "|---|---|---|---|---|---|---|---|\n",
       "| feed_id_1454 | 2019-01-02 21:10:50 | Song_05 | artist_03 | feed_name_202 | 2019-01-02 | 21:10:50 | feed_name_202 |\n",
       "| feed_id_504  | 2019-01-02 21:10:50 | Song_05 | artist_03 | feed_name_202 | 2019-01-02 | 21:10:50 | feed_name_202 |\n",
       "| feed_id_136  | 2019-01-03 20:58:02 | Song_04 | artist_07 | feed_name_571 | 2019-01-03 | 20:58:02 | feed_name_571 |\n",
       "| feed_id_680  | 2019-01-03 20:58:02 | Song_04 | artist_07 | feed_name_571 | 2019-01-03 | 20:58:02 | feed_name_571 |\n",
       "| feed_id_78   | 2019-01-03 20:58:02 | Song_04 | artist_07 | feed_name_571 | 2019-01-03 | 20:58:02 | feed_name_571 |\n",
       "| feed_id_879  | 2019-01-03 20:58:02 | Song_04 | artist_07 | feed_name_571 | 2019-01-03 | 20:58:02 | feed_name_571 |\n",
       "\n"
      ],
      "text/plain": [
       "  Feed_Id      Stamp               Track   Artist    Feed_Name     Date      \n",
       "1 feed_id_1454 2019-01-02 21:10:50 Song_05 artist_03 feed_name_202 2019-01-02\n",
       "2 feed_id_504  2019-01-02 21:10:50 Song_05 artist_03 feed_name_202 2019-01-02\n",
       "3 feed_id_136  2019-01-03 20:58:02 Song_04 artist_07 feed_name_571 2019-01-03\n",
       "4 feed_id_680  2019-01-03 20:58:02 Song_04 artist_07 feed_name_571 2019-01-03\n",
       "5 feed_id_78   2019-01-03 20:58:02 Song_04 artist_07 feed_name_571 2019-01-03\n",
       "6 feed_id_879  2019-01-03 20:58:02 Song_04 artist_07 feed_name_571 2019-01-03\n",
       "  Time     SMP_Station  \n",
       "1 21:10:50 feed_name_202\n",
       "2 21:10:50 feed_name_202\n",
       "3 20:58:02 feed_name_571\n",
       "4 20:58:02 feed_name_571\n",
       "5 20:58:02 feed_name_571\n",
       "6 20:58:02 feed_name_571"
      ]
     },
     "metadata": {},
     "output_type": "display_data"
    }
   ],
   "source": [
    "head(baddata[order(baddata$Stamp),])"
   ]
  },
  {
   "cell_type": "markdown",
   "id": "c5741c70",
   "metadata": {},
   "source": [
    "#### now, retaining one of the records from the duplicated 'bad' data groups, **using Stamp**\n",
    "\n",
    "As we care to keep only 1 of the duplicated record."
   ]
  },
  {
   "cell_type": "code",
   "execution_count": 140,
   "id": "b1f40bff",
   "metadata": {},
   "outputs": [],
   "source": [
    "gooddata2 <- baddata %>% distinct(Stamp, .keep_all=TRUE)"
   ]
  },
  {
   "cell_type": "markdown",
   "id": "b0333f46",
   "metadata": {},
   "source": [
    "541 good observation after removing the duplicates on Stamp, Track and Station"
   ]
  },
  {
   "cell_type": "code",
   "execution_count": 141,
   "id": "b2f7a3e2",
   "metadata": {
    "scrolled": true
   },
   "outputs": [
    {
     "data": {
      "text/plain": [
       "   Feed_Id              Stamp                        Track          \n",
       " Length:541         Min.   :2019-01-02 21:10:50   Length:541        \n",
       " Class :character   1st Qu.:2019-05-17 22:30:33   Class :character  \n",
       " Mode  :character   Median :2019-12-24 18:36:50   Mode  :character  \n",
       "                    Mean   :2019-11-16 12:27:35                     \n",
       "                    3rd Qu.:2020-03-24 16:21:00                     \n",
       "                    Max.   :2020-09-30 02:51:42                     \n",
       "    Artist           Feed_Name              Date                 Time         \n",
       " Length:541         Length:541         Min.   :2019-01-02   Min.   :00:08:12  \n",
       " Class :character   Class :character   1st Qu.:2019-05-17   1st Qu.:07:32:53  \n",
       " Mode  :character   Mode  :character   Median :2019-12-24   Median :11:46:41  \n",
       "                                       Mean   :2019-11-16   Mean   :11:56:59  \n",
       "                                       3rd Qu.:2020-03-24   3rd Qu.:15:52:23  \n",
       "                                       Max.   :2020-09-30   Max.   :23:57:15  \n",
       " SMP_Station       \n",
       " Length:541        \n",
       " Class :character  \n",
       " Mode  :character  \n",
       "                   \n",
       "                   \n",
       "                   "
      ]
     },
     "metadata": {},
     "output_type": "display_data"
    }
   ],
   "source": [
    "summary(gooddata2)"
   ]
  },
  {
   "cell_type": "code",
   "execution_count": 142,
   "id": "b71bbaf4",
   "metadata": {
    "scrolled": true
   },
   "outputs": [
    {
     "data": {
      "text/html": [
       "<table class=\"dataframe\">\n",
       "<caption>A grouped_df: 6 × 8</caption>\n",
       "<thead>\n",
       "\t<tr><th scope=col>Feed_Id</th><th scope=col>Stamp</th><th scope=col>Track</th><th scope=col>Artist</th><th scope=col>Feed_Name</th><th scope=col>Date</th><th scope=col>Time</th><th scope=col>SMP_Station</th></tr>\n",
       "\t<tr><th scope=col>&lt;chr&gt;</th><th scope=col>&lt;dttm&gt;</th><th scope=col>&lt;chr&gt;</th><th scope=col>&lt;chr&gt;</th><th scope=col>&lt;chr&gt;</th><th scope=col>&lt;date&gt;</th><th scope=col>&lt;times&gt;</th><th scope=col>&lt;chr&gt;</th></tr>\n",
       "</thead>\n",
       "<tbody>\n",
       "\t<tr><td>feed_id_1022</td><td>2020-08-06 10:26:05</td><td>Song_05</td><td>artist_03</td><td>feed_name_700</td><td>2020-08-06</td><td>10:26:05</td><td>feed_name_700</td></tr>\n",
       "\t<tr><td>feed_id_1022</td><td>2020-08-15 04:16:10</td><td>Song_05</td><td>artist_03</td><td>feed_name_700</td><td>2020-08-15</td><td>04:16:10</td><td>feed_name_700</td></tr>\n",
       "\t<tr><td>feed_id_1022</td><td>2020-09-01 11:42:36</td><td>Song_05</td><td>artist_03</td><td>feed_name_700</td><td>2020-09-01</td><td>11:42:36</td><td>feed_name_700</td></tr>\n",
       "\t<tr><td>feed_id_1022</td><td>2020-09-06 14:31:42</td><td>Song_05</td><td>artist_03</td><td>feed_name_700</td><td>2020-09-06</td><td>14:31:42</td><td>feed_name_700</td></tr>\n",
       "\t<tr><td>feed_id_1054</td><td>2019-01-26 15:14:23</td><td>Song_05</td><td>artist_03</td><td>feed_name_209</td><td>2019-01-26</td><td>15:14:23</td><td>feed_name_209</td></tr>\n",
       "\t<tr><td>feed_id_1054</td><td>2019-02-14 20:41:25</td><td>Song_05</td><td>artist_03</td><td>feed_name_209</td><td>2019-02-14</td><td>20:41:25</td><td>feed_name_209</td></tr>\n",
       "</tbody>\n",
       "</table>\n"
      ],
      "text/latex": [
       "A grouped\\_df: 6 × 8\n",
       "\\begin{tabular}{llllllll}\n",
       " Feed\\_Id & Stamp & Track & Artist & Feed\\_Name & Date & Time & SMP\\_Station\\\\\n",
       " <chr> & <dttm> & <chr> & <chr> & <chr> & <date> & <times> & <chr>\\\\\n",
       "\\hline\n",
       "\t feed\\_id\\_1022 & 2020-08-06 10:26:05 & Song\\_05 & artist\\_03 & feed\\_name\\_700 & 2020-08-06 & 10:26:05 & feed\\_name\\_700\\\\\n",
       "\t feed\\_id\\_1022 & 2020-08-15 04:16:10 & Song\\_05 & artist\\_03 & feed\\_name\\_700 & 2020-08-15 & 04:16:10 & feed\\_name\\_700\\\\\n",
       "\t feed\\_id\\_1022 & 2020-09-01 11:42:36 & Song\\_05 & artist\\_03 & feed\\_name\\_700 & 2020-09-01 & 11:42:36 & feed\\_name\\_700\\\\\n",
       "\t feed\\_id\\_1022 & 2020-09-06 14:31:42 & Song\\_05 & artist\\_03 & feed\\_name\\_700 & 2020-09-06 & 14:31:42 & feed\\_name\\_700\\\\\n",
       "\t feed\\_id\\_1054 & 2019-01-26 15:14:23 & Song\\_05 & artist\\_03 & feed\\_name\\_209 & 2019-01-26 & 15:14:23 & feed\\_name\\_209\\\\\n",
       "\t feed\\_id\\_1054 & 2019-02-14 20:41:25 & Song\\_05 & artist\\_03 & feed\\_name\\_209 & 2019-02-14 & 20:41:25 & feed\\_name\\_209\\\\\n",
       "\\end{tabular}\n"
      ],
      "text/markdown": [
       "\n",
       "A grouped_df: 6 × 8\n",
       "\n",
       "| Feed_Id &lt;chr&gt; | Stamp &lt;dttm&gt; | Track &lt;chr&gt; | Artist &lt;chr&gt; | Feed_Name &lt;chr&gt; | Date &lt;date&gt; | Time &lt;times&gt; | SMP_Station &lt;chr&gt; |\n",
       "|---|---|---|---|---|---|---|---|\n",
       "| feed_id_1022 | 2020-08-06 10:26:05 | Song_05 | artist_03 | feed_name_700 | 2020-08-06 | 10:26:05 | feed_name_700 |\n",
       "| feed_id_1022 | 2020-08-15 04:16:10 | Song_05 | artist_03 | feed_name_700 | 2020-08-15 | 04:16:10 | feed_name_700 |\n",
       "| feed_id_1022 | 2020-09-01 11:42:36 | Song_05 | artist_03 | feed_name_700 | 2020-09-01 | 11:42:36 | feed_name_700 |\n",
       "| feed_id_1022 | 2020-09-06 14:31:42 | Song_05 | artist_03 | feed_name_700 | 2020-09-06 | 14:31:42 | feed_name_700 |\n",
       "| feed_id_1054 | 2019-01-26 15:14:23 | Song_05 | artist_03 | feed_name_209 | 2019-01-26 | 15:14:23 | feed_name_209 |\n",
       "| feed_id_1054 | 2019-02-14 20:41:25 | Song_05 | artist_03 | feed_name_209 | 2019-02-14 | 20:41:25 | feed_name_209 |\n",
       "\n"
      ],
      "text/plain": [
       "  Feed_Id      Stamp               Track   Artist    Feed_Name     Date      \n",
       "1 feed_id_1022 2020-08-06 10:26:05 Song_05 artist_03 feed_name_700 2020-08-06\n",
       "2 feed_id_1022 2020-08-15 04:16:10 Song_05 artist_03 feed_name_700 2020-08-15\n",
       "3 feed_id_1022 2020-09-01 11:42:36 Song_05 artist_03 feed_name_700 2020-09-01\n",
       "4 feed_id_1022 2020-09-06 14:31:42 Song_05 artist_03 feed_name_700 2020-09-06\n",
       "5 feed_id_1054 2019-01-26 15:14:23 Song_05 artist_03 feed_name_209 2019-01-26\n",
       "6 feed_id_1054 2019-02-14 20:41:25 Song_05 artist_03 feed_name_209 2019-02-14\n",
       "  Time     SMP_Station  \n",
       "1 10:26:05 feed_name_700\n",
       "2 04:16:10 feed_name_700\n",
       "3 11:42:36 feed_name_700\n",
       "4 14:31:42 feed_name_700\n",
       "5 15:14:23 feed_name_209\n",
       "6 20:41:25 feed_name_209"
      ]
     },
     "metadata": {},
     "output_type": "display_data"
    }
   ],
   "source": [
    "head(gooddata2[order(gooddata2$Feed_Id, gooddata2$SMP_Station),]) #546 observations"
   ]
  },
  {
   "cell_type": "markdown",
   "id": "41a2d14f",
   "metadata": {},
   "source": [
    "#### Now Combining both 'good' data sets"
   ]
  },
  {
   "cell_type": "code",
   "execution_count": 143,
   "id": "8ea11fdd",
   "metadata": {},
   "outputs": [],
   "source": [
    "finaldata <- rbind(gooddata, gooddata2)\n"
   ]
  },
  {
   "cell_type": "markdown",
   "id": "7c465110",
   "metadata": {},
   "source": [
    "516407 observations after combining (515866 + 541) good data sets"
   ]
  },
  {
   "cell_type": "code",
   "execution_count": 144,
   "id": "26310d35",
   "metadata": {},
   "outputs": [
    {
     "data": {
      "text/plain": [
       "   Feed_Id              Stamp                        Track          \n",
       " Length:516407      Min.   :2019-01-01 00:02:00   Length:516407     \n",
       " Class :character   1st Qu.:2019-06-17 13:12:00   Class :character  \n",
       " Mode  :character   Median :2019-11-13 20:15:00   Mode  :character  \n",
       "                    Mean   :2019-11-17 05:45:34                     \n",
       "                    3rd Qu.:2020-04-22 13:40:00                     \n",
       "                    Max.   :2020-09-30 23:57:00                     \n",
       "    Artist           Feed_Name              Date                 Time         \n",
       " Length:516407      Length:516407      Min.   :2019-01-01   Min.   :00:00:00  \n",
       " Class :character   Class :character   1st Qu.:2019-06-17   1st Qu.:06:03:00  \n",
       " Mode  :character   Mode  :character   Median :2019-11-13   Median :11:52:00  \n",
       "                                       Mean   :2019-11-16   Mean   :11:53:56  \n",
       "                                       3rd Qu.:2020-04-22   3rd Qu.:17:36:00  \n",
       "                                       Max.   :2020-09-30   Max.   :23:59:52  \n",
       " SMP_Station       \n",
       " Length:516407     \n",
       " Class :character  \n",
       " Mode  :character  \n",
       "                   \n",
       "                   \n",
       "                   "
      ]
     },
     "metadata": {},
     "output_type": "display_data"
    }
   ],
   "source": [
    "summary(finaldata) #516407 observations\n"
   ]
  },
  {
   "cell_type": "code",
   "execution_count": 145,
   "id": "96ae05b5",
   "metadata": {},
   "outputs": [
    {
     "name": "stdout",
     "output_type": "stream",
     "text": [
      "grouped_df [516,407 x 8] (S3: grouped_df/tbl_df/tbl/data.frame)\n",
      " $ Feed_Id    : chr [1:516407] \"feed_id_01\" \"feed_id_01\" \"feed_id_01\" \"feed_id_01\" ...\n",
      " $ Stamp      : POSIXct[1:516407], format: \"2019-01-01 17:48:00\" \"2019-01-08 07:26:00\" ...\n",
      " $ Track      : chr [1:516407] \"Song_05\" \"Song_05\" \"Song_05\" \"Song_05\" ...\n",
      " $ Artist     : chr [1:516407] \"artist_03\" \"artist_03\" \"artist_03\" \"artist_03\" ...\n",
      " $ Feed_Name  : chr [1:516407] \"feed_name_572\" \"feed_name_572\" \"feed_name_572\" \"feed_name_572\" ...\n",
      " $ Date       : Date[1:516407], format: \"2019-01-01\" \"2019-01-08\" ...\n",
      " $ Time       : 'times' num [1:516407] 17:48:00 07:26:00 12:05:00 17:14:00 09:47:00 ...\n",
      "  ..- attr(*, \"format\")= chr \"h:m:s\"\n",
      " $ SMP_Station: chr [1:516407] \"smp_station_name_1027\" \"smp_station_name_1027\" \"smp_station_name_1027\" \"smp_station_name_1027\" ...\n",
      " - attr(*, \"groups\")= tibble [516,407 x 4] (S3: tbl_df/tbl/data.frame)\n",
      "  ..$ Track      : chr [1:516407] \"Song_01\" \"Song_01\" \"Song_01\" \"Song_01\" ...\n",
      "  ..$ Stamp      : POSIXct[1:516407], format: \"2019-01-01 00:03:00\" \"2019-01-01 00:19:00\" ...\n",
      "  ..$ SMP_Station: chr [1:516407] \"smp_station_name_459\" \"smp_station_name_366\" \"smp_station_name_459\" \"smp_station_name_366\" ...\n",
      "  ..$ .rows      : list<int> [1:516407] \n",
      "  .. ..$ : int 22316\n",
      "  .. ..$ : int 281688\n",
      "  .. ..$ : int 22317\n",
      "  .. ..$ : int 281689\n",
      "  .. ..$ : int 479015\n",
      "  .. ..$ : int 22318\n",
      "  .. ..$ : int 311742\n",
      "  .. ..$ : int 431920\n",
      "  .. ..$ : int 158176\n",
      "  .. ..$ : int 22319\n",
      "  .. ..$ : int 22320\n",
      "  .. ..$ : int 431917\n",
      "  .. ..$ : int 281690\n",
      "  .. ..$ : int 479016\n",
      "  .. ..$ : int 22321\n",
      "  .. ..$ : int 448805\n",
      "  .. ..$ : int 281691\n",
      "  .. ..$ : int 175576\n",
      "  .. ..$ : int 22322\n",
      "  .. ..$ : int 170272\n",
      "  .. ..$ : int 22323\n",
      "  .. ..$ : int 34195\n",
      "  .. ..$ : int 273904\n",
      "  .. ..$ : int 22324\n",
      "  .. ..$ : int 217397\n",
      "  .. ..$ : int 323126\n",
      "  .. ..$ : int 22325\n",
      "  .. ..$ : int 14390\n",
      "  .. ..$ : int 453939\n",
      "  .. ..$ : int 180025\n",
      "  .. ..$ : int 281692\n",
      "  .. ..$ : int 453940\n",
      "  .. ..$ : int 180026\n",
      "  .. ..$ : int 479017\n",
      "  .. ..$ : int 257247\n",
      "  .. ..$ : int 22326\n",
      "  .. ..$ : int 453941\n",
      "  .. ..$ : int 266672\n",
      "  .. ..$ : int 22327\n",
      "  .. ..$ : int 22328\n",
      "  .. ..$ : int 281693\n",
      "  .. ..$ : int 479018\n",
      "  .. ..$ : int 453942\n",
      "  .. ..$ : int 55228\n",
      "  .. ..$ : int 398585\n",
      "  .. ..$ : int 453943\n",
      "  .. ..$ : int 22329\n",
      "  .. ..$ : int 55229\n",
      "  .. ..$ : int 453944\n",
      "  .. ..$ : int 324623\n",
      "  .. ..$ : int 431918\n",
      "  .. ..$ : int 175577\n",
      "  .. ..$ : int 55230\n",
      "  .. ..$ : int 22330\n",
      "  .. ..$ : int 55231\n",
      "  .. ..$ : int 22331\n",
      "  .. ..$ : int 55232\n",
      "  .. ..$ : int 453945\n",
      "  .. ..$ : int 14391\n",
      "  .. ..$ : int 217398\n",
      "  .. ..$ : int 22332\n",
      "  .. ..$ : int 281694\n",
      "  .. ..$ : int 453946\n",
      "  .. ..$ : int 479019\n",
      "  .. ..$ : int 22333\n",
      "  .. ..$ : int 3335\n",
      "  .. ..$ : int 281695\n",
      "  .. ..$ : int 250871\n",
      "  .. ..$ : int 22334\n",
      "  .. ..$ : int 281696\n",
      "  .. ..$ : int 190434\n",
      "  .. ..$ : int 22335\n",
      "  .. ..$ : int 479020\n",
      "  .. ..$ : int 22336\n",
      "  .. ..$ : int 512995\n",
      "  .. ..$ : int 281697\n",
      "  .. ..$ : int 48136\n",
      "  .. ..$ : int 467285\n",
      "  .. ..$ : int 14392\n",
      "  .. ..$ : int 22337\n",
      "  .. ..$ : int 22338\n",
      "  .. ..$ : int 34196\n",
      "  .. ..$ : int 22339\n",
      "  .. ..$ : int 431919\n",
      "  .. ..$ : int 479021\n",
      "  .. ..$ : int 441249\n",
      "  .. ..$ : int 22340\n",
      "  .. ..$ : int 281698\n",
      "  .. ..$ : int 415039\n",
      "  .. ..$ : int 22341\n",
      "  .. ..$ : int 232205\n",
      "  .. ..$ : int 281699\n",
      "  .. ..$ : int 175578\n",
      "  .. ..$ : int 22342\n",
      "  .. ..$ : int 431924\n",
      "  .. ..$ : int 208136\n",
      "  .. ..$ : int 281700\n",
      "  .. ..$ : int 14393\n",
      "  .. ..$ : int 22343\n",
      "  .. .. [list output truncated]\n",
      "  .. ..@ ptype: int(0) \n",
      "  ..- attr(*, \".drop\")= logi TRUE\n"
     ]
    }
   ],
   "source": [
    "str(finaldata)"
   ]
  },
  {
   "cell_type": "markdown",
   "id": "824bac03",
   "metadata": {},
   "source": [
    "### Export final data set (cleaned and transformed) to visualize in Tableau"
   ]
  },
  {
   "cell_type": "code",
   "execution_count": 146,
   "id": "d69bf239",
   "metadata": {},
   "outputs": [],
   "source": [
    "write.csv(finaldata, \"Radiofeed_cleandata.csv\", row.names=FALSE)"
   ]
  },
  {
   "cell_type": "markdown",
   "id": "8198a1e2",
   "metadata": {},
   "source": [
    "## Further analysis using visualization in Tableau"
   ]
  }
 ],
 "metadata": {
  "kernelspec": {
   "display_name": "R",
   "language": "R",
   "name": "ir"
  },
  "language_info": {
   "codemirror_mode": "r",
   "file_extension": ".r",
   "mimetype": "text/x-r-source",
   "name": "R",
   "pygments_lexer": "r",
   "version": "4.1.0"
  }
 },
 "nbformat": 4,
 "nbformat_minor": 5
}
