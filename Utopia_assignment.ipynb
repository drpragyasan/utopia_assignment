{
 "cells": [
  {
   "cell_type": "markdown",
   "id": "ad468afb",
   "metadata": {},
   "source": [
    "#Utopia Assignment"
   ]
  },
  {
   "cell_type": "code",
   "execution_count": 8,
   "id": "fe5928a8",
   "metadata": {},
   "outputs": [],
   "source": [
    "library(Amelia)\n",
    "library(mlbench)\n",
    "library(dplyr)\n",
    "library(chron)\n",
    "library(readr)"
   ]
  },
  {
   "cell_type": "code",
   "execution_count": 9,
   "id": "83dccde7",
   "metadata": {},
   "outputs": [
    {
     "name": "stderr",
     "output_type": "stream",
     "text": [
      "\n",
      "\u001b[36m--\u001b[39m \u001b[1m\u001b[1mColumn specification\u001b[1m\u001b[22m \u001b[36m------------------------------------------------------------------------------------------------\u001b[39m\n",
      "cols(\n",
      "  Stamp = \u001b[31mcol_character()\u001b[39m,\n",
      "  Track = \u001b[31mcol_character()\u001b[39m,\n",
      "  Artist = \u001b[31mcol_character()\u001b[39m,\n",
      "  Feed_Id = \u001b[31mcol_character()\u001b[39m,\n",
      "  Feed_Name = \u001b[31mcol_character()\u001b[39m\n",
      ")\n",
      "\n",
      "\n"
     ]
    }
   ],
   "source": [
    "consumption_data <- read_csv(\"consumption_data.csv\")\n"
   ]
  },
  {
   "cell_type": "code",
   "execution_count": 11,
   "id": "41cf6bf8",
   "metadata": {},
   "outputs": [
    {
     "data": {
      "text/html": [
       "<table class=\"dataframe\">\n",
       "<caption>A tibble: 6 × 5</caption>\n",
       "<thead>\n",
       "\t<tr><th scope=col>Stamp</th><th scope=col>Track</th><th scope=col>Artist</th><th scope=col>Feed_Id</th><th scope=col>Feed_Name</th></tr>\n",
       "\t<tr><th scope=col>&lt;chr&gt;</th><th scope=col>&lt;chr&gt;</th><th scope=col>&lt;chr&gt;</th><th scope=col>&lt;chr&gt;</th><th scope=col>&lt;chr&gt;</th></tr>\n",
       "</thead>\n",
       "<tbody>\n",
       "\t<tr><td>2019-06-07 18:38:00 +0000 UTC</td><td>Song_02</td><td>artist_08</td><td>feed_id_1377</td><td>feed_name_1183</td></tr>\n",
       "\t<tr><td>2019-06-08 09:04:00 +0000 UTC</td><td>Song_02</td><td>artist_08</td><td>feed_id_1377</td><td>feed_name_1183</td></tr>\n",
       "\t<tr><td>2019-06-08 19:51:00 +0000 UTC</td><td>Song_02</td><td>artist_08</td><td>feed_id_1377</td><td>feed_name_1183</td></tr>\n",
       "\t<tr><td>2019-06-09 20:52:00 +0000 UTC</td><td>Song_02</td><td>artist_08</td><td>feed_id_1377</td><td>feed_name_1183</td></tr>\n",
       "\t<tr><td>2019-06-10 11:06:00 +0000 UTC</td><td>Song_02</td><td>artist_08</td><td>feed_id_1377</td><td>feed_name_1183</td></tr>\n",
       "\t<tr><td>2019-06-14 07:09:00 +0000 UTC</td><td>Song_02</td><td>artist_08</td><td>feed_id_1377</td><td>feed_name_1183</td></tr>\n",
       "</tbody>\n",
       "</table>\n"
      ],
      "text/latex": [
       "A tibble: 6 × 5\n",
       "\\begin{tabular}{lllll}\n",
       " Stamp & Track & Artist & Feed\\_Id & Feed\\_Name\\\\\n",
       " <chr> & <chr> & <chr> & <chr> & <chr>\\\\\n",
       "\\hline\n",
       "\t 2019-06-07 18:38:00 +0000 UTC & Song\\_02 & artist\\_08 & feed\\_id\\_1377 & feed\\_name\\_1183\\\\\n",
       "\t 2019-06-08 09:04:00 +0000 UTC & Song\\_02 & artist\\_08 & feed\\_id\\_1377 & feed\\_name\\_1183\\\\\n",
       "\t 2019-06-08 19:51:00 +0000 UTC & Song\\_02 & artist\\_08 & feed\\_id\\_1377 & feed\\_name\\_1183\\\\\n",
       "\t 2019-06-09 20:52:00 +0000 UTC & Song\\_02 & artist\\_08 & feed\\_id\\_1377 & feed\\_name\\_1183\\\\\n",
       "\t 2019-06-10 11:06:00 +0000 UTC & Song\\_02 & artist\\_08 & feed\\_id\\_1377 & feed\\_name\\_1183\\\\\n",
       "\t 2019-06-14 07:09:00 +0000 UTC & Song\\_02 & artist\\_08 & feed\\_id\\_1377 & feed\\_name\\_1183\\\\\n",
       "\\end{tabular}\n"
      ],
      "text/markdown": [
       "\n",
       "A tibble: 6 × 5\n",
       "\n",
       "| Stamp &lt;chr&gt; | Track &lt;chr&gt; | Artist &lt;chr&gt; | Feed_Id &lt;chr&gt; | Feed_Name &lt;chr&gt; |\n",
       "|---|---|---|---|---|\n",
       "| 2019-06-07 18:38:00 +0000 UTC | Song_02 | artist_08 | feed_id_1377 | feed_name_1183 |\n",
       "| 2019-06-08 09:04:00 +0000 UTC | Song_02 | artist_08 | feed_id_1377 | feed_name_1183 |\n",
       "| 2019-06-08 19:51:00 +0000 UTC | Song_02 | artist_08 | feed_id_1377 | feed_name_1183 |\n",
       "| 2019-06-09 20:52:00 +0000 UTC | Song_02 | artist_08 | feed_id_1377 | feed_name_1183 |\n",
       "| 2019-06-10 11:06:00 +0000 UTC | Song_02 | artist_08 | feed_id_1377 | feed_name_1183 |\n",
       "| 2019-06-14 07:09:00 +0000 UTC | Song_02 | artist_08 | feed_id_1377 | feed_name_1183 |\n",
       "\n"
      ],
      "text/plain": [
       "  Stamp                         Track   Artist    Feed_Id      Feed_Name     \n",
       "1 2019-06-07 18:38:00 +0000 UTC Song_02 artist_08 feed_id_1377 feed_name_1183\n",
       "2 2019-06-08 09:04:00 +0000 UTC Song_02 artist_08 feed_id_1377 feed_name_1183\n",
       "3 2019-06-08 19:51:00 +0000 UTC Song_02 artist_08 feed_id_1377 feed_name_1183\n",
       "4 2019-06-09 20:52:00 +0000 UTC Song_02 artist_08 feed_id_1377 feed_name_1183\n",
       "5 2019-06-10 11:06:00 +0000 UTC Song_02 artist_08 feed_id_1377 feed_name_1183\n",
       "6 2019-06-14 07:09:00 +0000 UTC Song_02 artist_08 feed_id_1377 feed_name_1183"
      ]
     },
     "metadata": {},
     "output_type": "display_data"
    }
   ],
   "source": [
    "head(consumption_data)"
   ]
  },
  {
   "cell_type": "markdown",
   "id": "e91b0ef4",
   "metadata": {},
   "source": [
    "#Our dataset is loaded as 'consumption_data' with 521974 observations"
   ]
  },
  {
   "cell_type": "code",
   "execution_count": 13,
   "id": "5b88bcca",
   "metadata": {},
   "outputs": [
    {
     "data": {
      "text/plain": [
       "    Stamp              Track              Artist            Feed_Id         \n",
       " Length:521974      Length:521974      Length:521974      Length:521974     \n",
       " Class :character   Class :character   Class :character   Class :character  \n",
       " Mode  :character   Mode  :character   Mode  :character   Mode  :character  \n",
       "  Feed_Name        \n",
       " Length:521974     \n",
       " Class :character  \n",
       " Mode  :character  "
      ]
     },
     "metadata": {},
     "output_type": "display_data"
    }
   ],
   "source": [
    "#Hovering summary details\n",
    "summary(consumption_data)\n"
   ]
  },
  {
   "cell_type": "code",
   "execution_count": 14,
   "id": "db39fbbd",
   "metadata": {},
   "outputs": [
    {
     "name": "stdout",
     "output_type": "stream",
     "text": [
      "spec_tbl_df [521,974 x 5] (S3: spec_tbl_df/tbl_df/tbl/data.frame)\n",
      " $ Stamp    : chr [1:521974] \"2019-06-07 18:38:00 +0000 UTC\" \"2019-06-08 09:04:00 +0000 UTC\" \"2019-06-08 19:51:00 +0000 UTC\" \"2019-06-09 20:52:00 +0000 UTC\" ...\n",
      " $ Track    : chr [1:521974] \"Song_02\" \"Song_02\" \"Song_02\" \"Song_02\" ...\n",
      " $ Artist   : chr [1:521974] \"artist_08\" \"artist_08\" \"artist_08\" \"artist_08\" ...\n",
      " $ Feed_Id  : chr [1:521974] \"feed_id_1377\" \"feed_id_1377\" \"feed_id_1377\" \"feed_id_1377\" ...\n",
      " $ Feed_Name: chr [1:521974] \"feed_name_1183\" \"feed_name_1183\" \"feed_name_1183\" \"feed_name_1183\" ...\n",
      " - attr(*, \"spec\")=\n",
      "  .. cols(\n",
      "  ..   Stamp = \u001b[31mcol_character()\u001b[39m,\n",
      "  ..   Track = \u001b[31mcol_character()\u001b[39m,\n",
      "  ..   Artist = \u001b[31mcol_character()\u001b[39m,\n",
      "  ..   Feed_Id = \u001b[31mcol_character()\u001b[39m,\n",
      "  ..   Feed_Name = \u001b[31mcol_character()\u001b[39m\n",
      "  .. )\n"
     ]
    }
   ],
   "source": [
    "str(consumption_data)\n"
   ]
  },
  {
   "cell_type": "code",
   "execution_count": 15,
   "id": "258652e8",
   "metadata": {},
   "outputs": [
    {
     "data": {
      "text/html": [
       "FALSE"
      ],
      "text/latex": [
       "FALSE"
      ],
      "text/markdown": [
       "FALSE"
      ],
      "text/plain": [
       "[1] FALSE"
      ]
     },
     "metadata": {},
     "output_type": "display_data"
    }
   ],
   "source": [
    "\n",
    "#check for missing data\n",
    "missing(consumption_data)\n"
   ]
  },
  {
   "cell_type": "code",
   "execution_count": 16,
   "id": "e3d81d01",
   "metadata": {},
   "outputs": [
    {
     "name": "stderr",
     "output_type": "stream",
     "text": [
      "Warning message:\n",
      "\"Unknown or uninitialised column: `arguments`.\"\n",
      "Warning message:\n",
      "\"Unknown or uninitialised column: `arguments`.\"\n",
      "Warning message:\n",
      "\"Unknown or uninitialised column: `imputations`.\"\n"
     ]
    },
    {
     "data": {
      "image/png": "[encoded data removed]",
      "text/plain": [
       "Plot with title \"Missingness Map\""
      ]
     },
     "metadata": {
      "image/png": {
       "height": 420,
       "width": 420
      }
     },
     "output_type": "display_data"
    }
   ],
   "source": [
    "missmap(consumption_data) ##no missing data"
   ]
  },
  {
   "cell_type": "code",
   "execution_count": 21,
   "id": "e7b24620",
   "metadata": {},
   "outputs": [],
   "source": [
    "#Remove duplicates (on all columns)\n",
    "consumption_nodup <- consumption_data %>% distinct()\n"
   ]
  },
  {
   "cell_type": "code",
   "execution_count": 22,
   "id": "536ba3eb",
   "metadata": {},
   "outputs": [
    {
     "data": {
      "text/html": [
       "<table class=\"dataframe\">\n",
       "<caption>A tibble: 6 × 5</caption>\n",
       "<thead>\n",
       "\t<tr><th scope=col>Stamp</th><th scope=col>Track</th><th scope=col>Artist</th><th scope=col>Feed_Id</th><th scope=col>Feed_Name</th></tr>\n",
       "\t<tr><th scope=col>&lt;chr&gt;</th><th scope=col>&lt;chr&gt;</th><th scope=col>&lt;chr&gt;</th><th scope=col>&lt;chr&gt;</th><th scope=col>&lt;chr&gt;</th></tr>\n",
       "</thead>\n",
       "<tbody>\n",
       "\t<tr><td>2019-06-07 18:38:00 +0000 UTC</td><td>Song_02</td><td>artist_08</td><td>feed_id_1377</td><td>feed_name_1183</td></tr>\n",
       "\t<tr><td>2019-06-08 09:04:00 +0000 UTC</td><td>Song_02</td><td>artist_08</td><td>feed_id_1377</td><td>feed_name_1183</td></tr>\n",
       "\t<tr><td>2019-06-08 19:51:00 +0000 UTC</td><td>Song_02</td><td>artist_08</td><td>feed_id_1377</td><td>feed_name_1183</td></tr>\n",
       "\t<tr><td>2019-06-09 20:52:00 +0000 UTC</td><td>Song_02</td><td>artist_08</td><td>feed_id_1377</td><td>feed_name_1183</td></tr>\n",
       "\t<tr><td>2019-06-10 11:06:00 +0000 UTC</td><td>Song_02</td><td>artist_08</td><td>feed_id_1377</td><td>feed_name_1183</td></tr>\n",
       "\t<tr><td>2019-06-14 07:09:00 +0000 UTC</td><td>Song_02</td><td>artist_08</td><td>feed_id_1377</td><td>feed_name_1183</td></tr>\n",
       "</tbody>\n",
       "</table>\n"
      ],
      "text/latex": [
       "A tibble: 6 × 5\n",
       "\\begin{tabular}{lllll}\n",
       " Stamp & Track & Artist & Feed\\_Id & Feed\\_Name\\\\\n",
       " <chr> & <chr> & <chr> & <chr> & <chr>\\\\\n",
       "\\hline\n",
       "\t 2019-06-07 18:38:00 +0000 UTC & Song\\_02 & artist\\_08 & feed\\_id\\_1377 & feed\\_name\\_1183\\\\\n",
       "\t 2019-06-08 09:04:00 +0000 UTC & Song\\_02 & artist\\_08 & feed\\_id\\_1377 & feed\\_name\\_1183\\\\\n",
       "\t 2019-06-08 19:51:00 +0000 UTC & Song\\_02 & artist\\_08 & feed\\_id\\_1377 & feed\\_name\\_1183\\\\\n",
       "\t 2019-06-09 20:52:00 +0000 UTC & Song\\_02 & artist\\_08 & feed\\_id\\_1377 & feed\\_name\\_1183\\\\\n",
       "\t 2019-06-10 11:06:00 +0000 UTC & Song\\_02 & artist\\_08 & feed\\_id\\_1377 & feed\\_name\\_1183\\\\\n",
       "\t 2019-06-14 07:09:00 +0000 UTC & Song\\_02 & artist\\_08 & feed\\_id\\_1377 & feed\\_name\\_1183\\\\\n",
       "\\end{tabular}\n"
      ],
      "text/markdown": [
       "\n",
       "A tibble: 6 × 5\n",
       "\n",
       "| Stamp &lt;chr&gt; | Track &lt;chr&gt; | Artist &lt;chr&gt; | Feed_Id &lt;chr&gt; | Feed_Name &lt;chr&gt; |\n",
       "|---|---|---|---|---|\n",
       "| 2019-06-07 18:38:00 +0000 UTC | Song_02 | artist_08 | feed_id_1377 | feed_name_1183 |\n",
       "| 2019-06-08 09:04:00 +0000 UTC | Song_02 | artist_08 | feed_id_1377 | feed_name_1183 |\n",
       "| 2019-06-08 19:51:00 +0000 UTC | Song_02 | artist_08 | feed_id_1377 | feed_name_1183 |\n",
       "| 2019-06-09 20:52:00 +0000 UTC | Song_02 | artist_08 | feed_id_1377 | feed_name_1183 |\n",
       "| 2019-06-10 11:06:00 +0000 UTC | Song_02 | artist_08 | feed_id_1377 | feed_name_1183 |\n",
       "| 2019-06-14 07:09:00 +0000 UTC | Song_02 | artist_08 | feed_id_1377 | feed_name_1183 |\n",
       "\n"
      ],
      "text/plain": [
       "  Stamp                         Track   Artist    Feed_Id      Feed_Name     \n",
       "1 2019-06-07 18:38:00 +0000 UTC Song_02 artist_08 feed_id_1377 feed_name_1183\n",
       "2 2019-06-08 09:04:00 +0000 UTC Song_02 artist_08 feed_id_1377 feed_name_1183\n",
       "3 2019-06-08 19:51:00 +0000 UTC Song_02 artist_08 feed_id_1377 feed_name_1183\n",
       "4 2019-06-09 20:52:00 +0000 UTC Song_02 artist_08 feed_id_1377 feed_name_1183\n",
       "5 2019-06-10 11:06:00 +0000 UTC Song_02 artist_08 feed_id_1377 feed_name_1183\n",
       "6 2019-06-14 07:09:00 +0000 UTC Song_02 artist_08 feed_id_1377 feed_name_1183"
      ]
     },
     "metadata": {},
     "output_type": "display_data"
    }
   ],
   "source": [
    "#Now, 'consumption_nodup' is our new dataset with no duplicate data with 517065 observations\n",
    "head(consumption_nodup)"
   ]
  },
  {
   "cell_type": "markdown",
   "id": "b55cd7d3",
   "metadata": {},
   "source": [
    "### Formatting date time stamp"
   ]
  },
  {
   "cell_type": "code",
   "execution_count": 24,
   "id": "74db1e71",
   "metadata": {
    "scrolled": true
   },
   "outputs": [
    {
     "data": {
      "text/html": [
       "<table class=\"dataframe\">\n",
       "<caption>A tibble: 6 × 5</caption>\n",
       "<thead>\n",
       "\t<tr><th scope=col>Stamp</th><th scope=col>Track</th><th scope=col>Artist</th><th scope=col>Feed_Id</th><th scope=col>Feed_Name</th></tr>\n",
       "\t<tr><th scope=col>&lt;chr&gt;</th><th scope=col>&lt;chr&gt;</th><th scope=col>&lt;chr&gt;</th><th scope=col>&lt;chr&gt;</th><th scope=col>&lt;chr&gt;</th></tr>\n",
       "</thead>\n",
       "<tbody>\n",
       "\t<tr><td>2019-06-07 18:38:00</td><td>Song_02</td><td>artist_08</td><td>feed_id_1377</td><td>feed_name_1183</td></tr>\n",
       "\t<tr><td>2019-06-08 09:04:00</td><td>Song_02</td><td>artist_08</td><td>feed_id_1377</td><td>feed_name_1183</td></tr>\n",
       "\t<tr><td>2019-06-08 19:51:00</td><td>Song_02</td><td>artist_08</td><td>feed_id_1377</td><td>feed_name_1183</td></tr>\n",
       "\t<tr><td>2019-06-09 20:52:00</td><td>Song_02</td><td>artist_08</td><td>feed_id_1377</td><td>feed_name_1183</td></tr>\n",
       "\t<tr><td>2019-06-10 11:06:00</td><td>Song_02</td><td>artist_08</td><td>feed_id_1377</td><td>feed_name_1183</td></tr>\n",
       "\t<tr><td>2019-06-14 07:09:00</td><td>Song_02</td><td>artist_08</td><td>feed_id_1377</td><td>feed_name_1183</td></tr>\n",
       "</tbody>\n",
       "</table>\n"
      ],
      "text/latex": [
       "A tibble: 6 × 5\n",
       "\\begin{tabular}{lllll}\n",
       " Stamp & Track & Artist & Feed\\_Id & Feed\\_Name\\\\\n",
       " <chr> & <chr> & <chr> & <chr> & <chr>\\\\\n",
       "\\hline\n",
       "\t 2019-06-07 18:38:00 & Song\\_02 & artist\\_08 & feed\\_id\\_1377 & feed\\_name\\_1183\\\\\n",
       "\t 2019-06-08 09:04:00 & Song\\_02 & artist\\_08 & feed\\_id\\_1377 & feed\\_name\\_1183\\\\\n",
       "\t 2019-06-08 19:51:00 & Song\\_02 & artist\\_08 & feed\\_id\\_1377 & feed\\_name\\_1183\\\\\n",
       "\t 2019-06-09 20:52:00 & Song\\_02 & artist\\_08 & feed\\_id\\_1377 & feed\\_name\\_1183\\\\\n",
       "\t 2019-06-10 11:06:00 & Song\\_02 & artist\\_08 & feed\\_id\\_1377 & feed\\_name\\_1183\\\\\n",
       "\t 2019-06-14 07:09:00 & Song\\_02 & artist\\_08 & feed\\_id\\_1377 & feed\\_name\\_1183\\\\\n",
       "\\end{tabular}\n"
      ],
      "text/markdown": [
       "\n",
       "A tibble: 6 × 5\n",
       "\n",
       "| Stamp &lt;chr&gt; | Track &lt;chr&gt; | Artist &lt;chr&gt; | Feed_Id &lt;chr&gt; | Feed_Name &lt;chr&gt; |\n",
       "|---|---|---|---|---|\n",
       "| 2019-06-07 18:38:00 | Song_02 | artist_08 | feed_id_1377 | feed_name_1183 |\n",
       "| 2019-06-08 09:04:00 | Song_02 | artist_08 | feed_id_1377 | feed_name_1183 |\n",
       "| 2019-06-08 19:51:00 | Song_02 | artist_08 | feed_id_1377 | feed_name_1183 |\n",
       "| 2019-06-09 20:52:00 | Song_02 | artist_08 | feed_id_1377 | feed_name_1183 |\n",
       "| 2019-06-10 11:06:00 | Song_02 | artist_08 | feed_id_1377 | feed_name_1183 |\n",
       "| 2019-06-14 07:09:00 | Song_02 | artist_08 | feed_id_1377 | feed_name_1183 |\n",
       "\n"
      ],
      "text/plain": [
       "  Stamp               Track   Artist    Feed_Id      Feed_Name     \n",
       "1 2019-06-07 18:38:00 Song_02 artist_08 feed_id_1377 feed_name_1183\n",
       "2 2019-06-08 09:04:00 Song_02 artist_08 feed_id_1377 feed_name_1183\n",
       "3 2019-06-08 19:51:00 Song_02 artist_08 feed_id_1377 feed_name_1183\n",
       "4 2019-06-09 20:52:00 Song_02 artist_08 feed_id_1377 feed_name_1183\n",
       "5 2019-06-10 11:06:00 Song_02 artist_08 feed_id_1377 feed_name_1183\n",
       "6 2019-06-14 07:09:00 Song_02 artist_08 feed_id_1377 feed_name_1183"
      ]
     },
     "metadata": {},
     "output_type": "display_data"
    }
   ],
   "source": [
    "#remove \" +0000 UTC\" \n",
    "consumption_nodup$Stamp = substr(consumption_nodup$Stamp,1,19)\n",
    "head(consumption_nodup)"
   ]
  },
  {
   "cell_type": "markdown",
   "id": "4474dcc9",
   "metadata": {},
   "source": [
    "Format the date to type \"%Y-%m-%d %H:%M:%S\""
   ]
  },
  {
   "cell_type": "code",
   "execution_count": null,
   "id": "8f8f5834",
   "metadata": {},
   "outputs": [],
   "source": [
    "\n",
    "consumption_nodup$Stamp <- as.POSIXct(consumption_nodup$Stamp, format=\"%Y-%m-%d %H:%M:%S\")\n"
   ]
  },
  {
   "cell_type": "markdown",
   "id": "70500149",
   "metadata": {},
   "source": [
    "#### creating Date and Time variables separately\n"
   ]
  },
  {
   "cell_type": "code",
   "execution_count": 26,
   "id": "c874beb5",
   "metadata": {},
   "outputs": [
    {
     "data": {
      "text/html": [
       "<style>\n",
       ".list-inline {list-style: none; margin:0; padding: 0}\n",
       ".list-inline>li {display: inline-block}\n",
       ".list-inline>li:not(:last-child)::after {content: \"\\00b7\"; padding: 0 .5ex}\n",
       "</style>\n",
       "<ol class=list-inline><li><time datetime=\"2019-06-07\">2019-06-07</time></li><li><time datetime=\"2019-06-08\">2019-06-08</time></li><li><time datetime=\"2019-06-08\">2019-06-08</time></li><li><time datetime=\"2019-06-09\">2019-06-09</time></li><li><time datetime=\"2019-06-10\">2019-06-10</time></li><li><time datetime=\"2019-06-14\">2019-06-14</time></li></ol>\n"
      ],
      "text/latex": [
       "\\begin{enumerate*}\n",
       "\\item 2019-06-07\n",
       "\\item 2019-06-08\n",
       "\\item 2019-06-08\n",
       "\\item 2019-06-09\n",
       "\\item 2019-06-10\n",
       "\\item 2019-06-14\n",
       "\\end{enumerate*}\n"
      ],
      "text/markdown": [
       "1. 2019-06-07\n",
       "2. 2019-06-08\n",
       "3. 2019-06-08\n",
       "4. 2019-06-09\n",
       "5. 2019-06-10\n",
       "6. 2019-06-14\n",
       "\n",
       "\n"
      ],
      "text/plain": [
       "[1] \"2019-06-07\" \"2019-06-08\" \"2019-06-08\" \"2019-06-09\" \"2019-06-10\"\n",
       "[6] \"2019-06-14\""
      ]
     },
     "metadata": {},
     "output_type": "display_data"
    }
   ],
   "source": [
    "Date <- as.Date(consumption_nodup$Stamp, tz= 'CET')\n",
    "head(Date)"
   ]
  },
  {
   "cell_type": "markdown",
   "id": "b9b50a25",
   "metadata": {},
   "source": [
    "# Time is not formating the way its expected to. Not adding to the dataframe."
   ]
  },
  {
   "cell_type": "code",
   "execution_count": 31,
   "id": "16cc7446",
   "metadata": {},
   "outputs": [
    {
     "data": {
      "text/html": [
       "<style>\n",
       ".list-inline {list-style: none; margin:0; padding: 0}\n",
       ".list-inline>li {display: inline-block}\n",
       ".list-inline>li:not(:last-child)::after {content: \"\\00b7\"; padding: 0 .5ex}\n",
       "</style>\n",
       "<ol class=list-inline><li>'2019-06-07 18:38:00'</li><li>'2019-06-08 09:04:00'</li><li>'2019-06-08 19:51:00'</li><li>'2019-06-09 20:52:00'</li><li>'2019-06-10 11:06:00'</li><li>'2019-06-14 07:09:00'</li></ol>\n"
      ],
      "text/latex": [
       "\\begin{enumerate*}\n",
       "\\item '2019-06-07 18:38:00'\n",
       "\\item '2019-06-08 09:04:00'\n",
       "\\item '2019-06-08 19:51:00'\n",
       "\\item '2019-06-09 20:52:00'\n",
       "\\item '2019-06-10 11:06:00'\n",
       "\\item '2019-06-14 07:09:00'\n",
       "\\end{enumerate*}\n"
      ],
      "text/markdown": [
       "1. '2019-06-07 18:38:00'\n",
       "2. '2019-06-08 09:04:00'\n",
       "3. '2019-06-08 19:51:00'\n",
       "4. '2019-06-09 20:52:00'\n",
       "5. '2019-06-10 11:06:00'\n",
       "6. '2019-06-14 07:09:00'\n",
       "\n",
       "\n"
      ],
      "text/plain": [
       "[1] \"2019-06-07 18:38:00\" \"2019-06-08 09:04:00\" \"2019-06-08 19:51:00\"\n",
       "[4] \"2019-06-09 20:52:00\" \"2019-06-10 11:06:00\" \"2019-06-14 07:09:00\""
      ]
     },
     "metadata": {},
     "output_type": "display_data"
    }
   ],
   "source": [
    "Time <- format(consumption_nodup$Stamp, format = \"%H:%M:%S\")\n",
    "#Time <- chron(times=Time)\n",
    "head(Time)\n"
   ]
  },
  {
   "cell_type": "code",
   "execution_count": null,
   "id": "c0e107be",
   "metadata": {},
   "outputs": [],
   "source": [
    "\n"
   ]
  },
  {
   "cell_type": "code",
   "execution_count": 32,
   "id": "7cf373e6",
   "metadata": {},
   "outputs": [
    {
     "data": {
      "text/html": [
       "<table class=\"dataframe\">\n",
       "<caption>A tibble: 6 × 6</caption>\n",
       "<thead>\n",
       "\t<tr><th scope=col>Stamp</th><th scope=col>Track</th><th scope=col>Artist</th><th scope=col>Feed_Id</th><th scope=col>Feed_Name</th><th scope=col>Date</th></tr>\n",
       "\t<tr><th scope=col>&lt;chr&gt;</th><th scope=col>&lt;chr&gt;</th><th scope=col>&lt;chr&gt;</th><th scope=col>&lt;chr&gt;</th><th scope=col>&lt;chr&gt;</th><th scope=col>&lt;date&gt;</th></tr>\n",
       "</thead>\n",
       "<tbody>\n",
       "\t<tr><td>2019-06-07 18:38:00</td><td>Song_02</td><td>artist_08</td><td>feed_id_1377</td><td>feed_name_1183</td><td>2019-06-07</td></tr>\n",
       "\t<tr><td>2019-06-08 09:04:00</td><td>Song_02</td><td>artist_08</td><td>feed_id_1377</td><td>feed_name_1183</td><td>2019-06-08</td></tr>\n",
       "\t<tr><td>2019-06-08 19:51:00</td><td>Song_02</td><td>artist_08</td><td>feed_id_1377</td><td>feed_name_1183</td><td>2019-06-08</td></tr>\n",
       "\t<tr><td>2019-06-09 20:52:00</td><td>Song_02</td><td>artist_08</td><td>feed_id_1377</td><td>feed_name_1183</td><td>2019-06-09</td></tr>\n",
       "\t<tr><td>2019-06-10 11:06:00</td><td>Song_02</td><td>artist_08</td><td>feed_id_1377</td><td>feed_name_1183</td><td>2019-06-10</td></tr>\n",
       "\t<tr><td>2019-06-14 07:09:00</td><td>Song_02</td><td>artist_08</td><td>feed_id_1377</td><td>feed_name_1183</td><td>2019-06-14</td></tr>\n",
       "</tbody>\n",
       "</table>\n"
      ],
      "text/latex": [
       "A tibble: 6 × 6\n",
       "\\begin{tabular}{llllll}\n",
       " Stamp & Track & Artist & Feed\\_Id & Feed\\_Name & Date\\\\\n",
       " <chr> & <chr> & <chr> & <chr> & <chr> & <date>\\\\\n",
       "\\hline\n",
       "\t 2019-06-07 18:38:00 & Song\\_02 & artist\\_08 & feed\\_id\\_1377 & feed\\_name\\_1183 & 2019-06-07\\\\\n",
       "\t 2019-06-08 09:04:00 & Song\\_02 & artist\\_08 & feed\\_id\\_1377 & feed\\_name\\_1183 & 2019-06-08\\\\\n",
       "\t 2019-06-08 19:51:00 & Song\\_02 & artist\\_08 & feed\\_id\\_1377 & feed\\_name\\_1183 & 2019-06-08\\\\\n",
       "\t 2019-06-09 20:52:00 & Song\\_02 & artist\\_08 & feed\\_id\\_1377 & feed\\_name\\_1183 & 2019-06-09\\\\\n",
       "\t 2019-06-10 11:06:00 & Song\\_02 & artist\\_08 & feed\\_id\\_1377 & feed\\_name\\_1183 & 2019-06-10\\\\\n",
       "\t 2019-06-14 07:09:00 & Song\\_02 & artist\\_08 & feed\\_id\\_1377 & feed\\_name\\_1183 & 2019-06-14\\\\\n",
       "\\end{tabular}\n"
      ],
      "text/markdown": [
       "\n",
       "A tibble: 6 × 6\n",
       "\n",
       "| Stamp &lt;chr&gt; | Track &lt;chr&gt; | Artist &lt;chr&gt; | Feed_Id &lt;chr&gt; | Feed_Name &lt;chr&gt; | Date &lt;date&gt; |\n",
       "|---|---|---|---|---|---|\n",
       "| 2019-06-07 18:38:00 | Song_02 | artist_08 | feed_id_1377 | feed_name_1183 | 2019-06-07 |\n",
       "| 2019-06-08 09:04:00 | Song_02 | artist_08 | feed_id_1377 | feed_name_1183 | 2019-06-08 |\n",
       "| 2019-06-08 19:51:00 | Song_02 | artist_08 | feed_id_1377 | feed_name_1183 | 2019-06-08 |\n",
       "| 2019-06-09 20:52:00 | Song_02 | artist_08 | feed_id_1377 | feed_name_1183 | 2019-06-09 |\n",
       "| 2019-06-10 11:06:00 | Song_02 | artist_08 | feed_id_1377 | feed_name_1183 | 2019-06-10 |\n",
       "| 2019-06-14 07:09:00 | Song_02 | artist_08 | feed_id_1377 | feed_name_1183 | 2019-06-14 |\n",
       "\n"
      ],
      "text/plain": [
       "  Stamp               Track   Artist    Feed_Id      Feed_Name      Date      \n",
       "1 2019-06-07 18:38:00 Song_02 artist_08 feed_id_1377 feed_name_1183 2019-06-07\n",
       "2 2019-06-08 09:04:00 Song_02 artist_08 feed_id_1377 feed_name_1183 2019-06-08\n",
       "3 2019-06-08 19:51:00 Song_02 artist_08 feed_id_1377 feed_name_1183 2019-06-08\n",
       "4 2019-06-09 20:52:00 Song_02 artist_08 feed_id_1377 feed_name_1183 2019-06-09\n",
       "5 2019-06-10 11:06:00 Song_02 artist_08 feed_id_1377 feed_name_1183 2019-06-10\n",
       "6 2019-06-14 07:09:00 Song_02 artist_08 feed_id_1377 feed_name_1183 2019-06-14"
      ]
     },
     "metadata": {},
     "output_type": "display_data"
    }
   ],
   "source": [
    "consumption_nodup$Date <- Date\n",
    "head(consumption_nodup)"
   ]
  },
  {
   "cell_type": "markdown",
   "id": "35b616b7",
   "metadata": {},
   "source": [
    "#### Consolidation and analysis"
   ]
  },
  {
   "cell_type": "code",
   "execution_count": 34,
   "id": "6f3dc916",
   "metadata": {},
   "outputs": [
    {
     "data": {
      "text/html": [
       "<table class=\"dataframe\">\n",
       "<caption>A tibble: 6 × 3</caption>\n",
       "<thead>\n",
       "\t<tr><th scope=col>Track</th><th scope=col>Feed_Id</th><th scope=col>n</th></tr>\n",
       "\t<tr><th scope=col>&lt;chr&gt;</th><th scope=col>&lt;chr&gt;</th><th scope=col>&lt;int&gt;</th></tr>\n",
       "</thead>\n",
       "<tbody>\n",
       "\t<tr><td>Song_01</td><td>feed_id_02  </td><td> 68</td></tr>\n",
       "\t<tr><td>Song_01</td><td>feed_id_08  </td><td>  2</td></tr>\n",
       "\t<tr><td>Song_01</td><td>feed_id_10  </td><td>  1</td></tr>\n",
       "\t<tr><td>Song_01</td><td>feed_id_100 </td><td>  4</td></tr>\n",
       "\t<tr><td>Song_01</td><td>feed_id_1008</td><td>365</td></tr>\n",
       "\t<tr><td>Song_01</td><td>feed_id_1010</td><td>  3</td></tr>\n",
       "</tbody>\n",
       "</table>\n"
      ],
      "text/latex": [
       "A tibble: 6 × 3\n",
       "\\begin{tabular}{lll}\n",
       " Track & Feed\\_Id & n\\\\\n",
       " <chr> & <chr> & <int>\\\\\n",
       "\\hline\n",
       "\t Song\\_01 & feed\\_id\\_02   &  68\\\\\n",
       "\t Song\\_01 & feed\\_id\\_08   &   2\\\\\n",
       "\t Song\\_01 & feed\\_id\\_10   &   1\\\\\n",
       "\t Song\\_01 & feed\\_id\\_100  &   4\\\\\n",
       "\t Song\\_01 & feed\\_id\\_1008 & 365\\\\\n",
       "\t Song\\_01 & feed\\_id\\_1010 &   3\\\\\n",
       "\\end{tabular}\n"
      ],
      "text/markdown": [
       "\n",
       "A tibble: 6 × 3\n",
       "\n",
       "| Track &lt;chr&gt; | Feed_Id &lt;chr&gt; | n &lt;int&gt; |\n",
       "|---|---|---|\n",
       "| Song_01 | feed_id_02   |  68 |\n",
       "| Song_01 | feed_id_08   |   2 |\n",
       "| Song_01 | feed_id_10   |   1 |\n",
       "| Song_01 | feed_id_100  |   4 |\n",
       "| Song_01 | feed_id_1008 | 365 |\n",
       "| Song_01 | feed_id_1010 |   3 |\n",
       "\n"
      ],
      "text/plain": [
       "  Track   Feed_Id      n  \n",
       "1 Song_01 feed_id_02    68\n",
       "2 Song_01 feed_id_08     2\n",
       "3 Song_01 feed_id_10     1\n",
       "4 Song_01 feed_id_100    4\n",
       "5 Song_01 feed_id_1008 365\n",
       "6 Song_01 feed_id_1010   3"
      ]
     },
     "metadata": {},
     "output_type": "display_data"
    }
   ],
   "source": [
    "##Trackwise\n",
    "FreqTrack <- consumption_nodup %>% count(Track, Feed_Id)\n",
    "head(FreqTrack)\n"
   ]
  },
  {
   "cell_type": "code",
   "execution_count": 35,
   "id": "82208c15",
   "metadata": {},
   "outputs": [
    {
     "data": {
      "text/html": [
       "<table class=\"dataframe\">\n",
       "<caption>A tibble: 6 × 3</caption>\n",
       "<thead>\n",
       "\t<tr><th scope=col>Artist</th><th scope=col>Feed_Id</th><th scope=col>n</th></tr>\n",
       "\t<tr><th scope=col>&lt;chr&gt;</th><th scope=col>&lt;chr&gt;</th><th scope=col>&lt;int&gt;</th></tr>\n",
       "</thead>\n",
       "<tbody>\n",
       "\t<tr><td>artist_01</td><td>feed_id_08  </td><td>  2</td></tr>\n",
       "\t<tr><td>artist_01</td><td>feed_id_1006</td><td>  7</td></tr>\n",
       "\t<tr><td>artist_01</td><td>feed_id_1008</td><td>392</td></tr>\n",
       "\t<tr><td>artist_01</td><td>feed_id_102 </td><td> 14</td></tr>\n",
       "\t<tr><td>artist_01</td><td>feed_id_1023</td><td> 12</td></tr>\n",
       "\t<tr><td>artist_01</td><td>feed_id_103 </td><td> 10</td></tr>\n",
       "</tbody>\n",
       "</table>\n"
      ],
      "text/latex": [
       "A tibble: 6 × 3\n",
       "\\begin{tabular}{lll}\n",
       " Artist & Feed\\_Id & n\\\\\n",
       " <chr> & <chr> & <int>\\\\\n",
       "\\hline\n",
       "\t artist\\_01 & feed\\_id\\_08   &   2\\\\\n",
       "\t artist\\_01 & feed\\_id\\_1006 &   7\\\\\n",
       "\t artist\\_01 & feed\\_id\\_1008 & 392\\\\\n",
       "\t artist\\_01 & feed\\_id\\_102  &  14\\\\\n",
       "\t artist\\_01 & feed\\_id\\_1023 &  12\\\\\n",
       "\t artist\\_01 & feed\\_id\\_103  &  10\\\\\n",
       "\\end{tabular}\n"
      ],
      "text/markdown": [
       "\n",
       "A tibble: 6 × 3\n",
       "\n",
       "| Artist &lt;chr&gt; | Feed_Id &lt;chr&gt; | n &lt;int&gt; |\n",
       "|---|---|---|\n",
       "| artist_01 | feed_id_08   |   2 |\n",
       "| artist_01 | feed_id_1006 |   7 |\n",
       "| artist_01 | feed_id_1008 | 392 |\n",
       "| artist_01 | feed_id_102  |  14 |\n",
       "| artist_01 | feed_id_1023 |  12 |\n",
       "| artist_01 | feed_id_103  |  10 |\n",
       "\n"
      ],
      "text/plain": [
       "  Artist    Feed_Id      n  \n",
       "1 artist_01 feed_id_08     2\n",
       "2 artist_01 feed_id_1006   7\n",
       "3 artist_01 feed_id_1008 392\n",
       "4 artist_01 feed_id_102   14\n",
       "5 artist_01 feed_id_1023  12\n",
       "6 artist_01 feed_id_103   10"
      ]
     },
     "metadata": {},
     "output_type": "display_data"
    }
   ],
   "source": [
    "##Artistwise\n",
    "FreqArtist <- consumption_nodup %>% count(Artist, Feed_Id)\n",
    "head(FreqArtist)\n"
   ]
  },
  {
   "cell_type": "code",
   "execution_count": 36,
   "id": "462a49d0",
   "metadata": {},
   "outputs": [
    {
     "data": {
      "text/html": [
       "<table class=\"dataframe\">\n",
       "<caption>A tibble: 6 × 3</caption>\n",
       "<thead>\n",
       "\t<tr><th scope=col>Date</th><th scope=col>Track</th><th scope=col>n</th></tr>\n",
       "\t<tr><th scope=col>&lt;date&gt;</th><th scope=col>&lt;chr&gt;</th><th scope=col>&lt;int&gt;</th></tr>\n",
       "</thead>\n",
       "<tbody>\n",
       "\t<tr><td>2019-01-01</td><td>Song_01</td><td> 86</td></tr>\n",
       "\t<tr><td>2019-01-01</td><td>Song_02</td><td> 59</td></tr>\n",
       "\t<tr><td>2019-01-01</td><td>Song_03</td><td>  9</td></tr>\n",
       "\t<tr><td>2019-01-01</td><td>Song_04</td><td>343</td></tr>\n",
       "\t<tr><td>2019-01-01</td><td>Song_05</td><td>288</td></tr>\n",
       "\t<tr><td>2019-01-01</td><td>Song_06</td><td> 54</td></tr>\n",
       "</tbody>\n",
       "</table>\n"
      ],
      "text/latex": [
       "A tibble: 6 × 3\n",
       "\\begin{tabular}{lll}\n",
       " Date & Track & n\\\\\n",
       " <date> & <chr> & <int>\\\\\n",
       "\\hline\n",
       "\t 2019-01-01 & Song\\_01 &  86\\\\\n",
       "\t 2019-01-01 & Song\\_02 &  59\\\\\n",
       "\t 2019-01-01 & Song\\_03 &   9\\\\\n",
       "\t 2019-01-01 & Song\\_04 & 343\\\\\n",
       "\t 2019-01-01 & Song\\_05 & 288\\\\\n",
       "\t 2019-01-01 & Song\\_06 &  54\\\\\n",
       "\\end{tabular}\n"
      ],
      "text/markdown": [
       "\n",
       "A tibble: 6 × 3\n",
       "\n",
       "| Date &lt;date&gt; | Track &lt;chr&gt; | n &lt;int&gt; |\n",
       "|---|---|---|\n",
       "| 2019-01-01 | Song_01 |  86 |\n",
       "| 2019-01-01 | Song_02 |  59 |\n",
       "| 2019-01-01 | Song_03 |   9 |\n",
       "| 2019-01-01 | Song_04 | 343 |\n",
       "| 2019-01-01 | Song_05 | 288 |\n",
       "| 2019-01-01 | Song_06 |  54 |\n",
       "\n"
      ],
      "text/plain": [
       "  Date       Track   n  \n",
       "1 2019-01-01 Song_01  86\n",
       "2 2019-01-01 Song_02  59\n",
       "3 2019-01-01 Song_03   9\n",
       "4 2019-01-01 Song_04 343\n",
       "5 2019-01-01 Song_05 288\n",
       "6 2019-01-01 Song_06  54"
      ]
     },
     "metadata": {},
     "output_type": "display_data"
    }
   ],
   "source": [
    "##Most played track datewise\n",
    "DateTrack <- consumption_nodup %>% count(Date, Track)\n",
    "head(DateTrack)\n"
   ]
  },
  {
   "cell_type": "code",
   "execution_count": 37,
   "id": "f3ec3992",
   "metadata": {},
   "outputs": [
    {
     "data": {
      "text/html": [
       "<table class=\"dataframe\">\n",
       "<caption>A tibble: 6 × 3</caption>\n",
       "<thead>\n",
       "\t<tr><th scope=col>Date</th><th scope=col>Track</th><th scope=col>n</th></tr>\n",
       "\t<tr><th scope=col>&lt;date&gt;</th><th scope=col>&lt;chr&gt;</th><th scope=col>&lt;int&gt;</th></tr>\n",
       "</thead>\n",
       "<tbody>\n",
       "\t<tr><td>2019-01-01</td><td>Song_01</td><td> 86</td></tr>\n",
       "\t<tr><td>2019-01-01</td><td>Song_02</td><td> 59</td></tr>\n",
       "\t<tr><td>2019-01-01</td><td>Song_03</td><td>  9</td></tr>\n",
       "\t<tr><td>2019-01-01</td><td>Song_04</td><td>343</td></tr>\n",
       "\t<tr><td>2019-01-01</td><td>Song_05</td><td>288</td></tr>\n",
       "\t<tr><td>2019-01-01</td><td>Song_06</td><td> 54</td></tr>\n",
       "</tbody>\n",
       "</table>\n"
      ],
      "text/latex": [
       "A tibble: 6 × 3\n",
       "\\begin{tabular}{lll}\n",
       " Date & Track & n\\\\\n",
       " <date> & <chr> & <int>\\\\\n",
       "\\hline\n",
       "\t 2019-01-01 & Song\\_01 &  86\\\\\n",
       "\t 2019-01-01 & Song\\_02 &  59\\\\\n",
       "\t 2019-01-01 & Song\\_03 &   9\\\\\n",
       "\t 2019-01-01 & Song\\_04 & 343\\\\\n",
       "\t 2019-01-01 & Song\\_05 & 288\\\\\n",
       "\t 2019-01-01 & Song\\_06 &  54\\\\\n",
       "\\end{tabular}\n"
      ],
      "text/markdown": [
       "\n",
       "A tibble: 6 × 3\n",
       "\n",
       "| Date &lt;date&gt; | Track &lt;chr&gt; | n &lt;int&gt; |\n",
       "|---|---|---|\n",
       "| 2019-01-01 | Song_01 |  86 |\n",
       "| 2019-01-01 | Song_02 |  59 |\n",
       "| 2019-01-01 | Song_03 |   9 |\n",
       "| 2019-01-01 | Song_04 | 343 |\n",
       "| 2019-01-01 | Song_05 | 288 |\n",
       "| 2019-01-01 | Song_06 |  54 |\n",
       "\n"
      ],
      "text/plain": [
       "  Date       Track   n  \n",
       "1 2019-01-01 Song_01  86\n",
       "2 2019-01-01 Song_02  59\n",
       "3 2019-01-01 Song_03   9\n",
       "4 2019-01-01 Song_04 343\n",
       "5 2019-01-01 Song_05 288\n",
       "6 2019-01-01 Song_06  54"
      ]
     },
     "metadata": {},
     "output_type": "display_data"
    }
   ],
   "source": [
    "##Most played track datewise\n",
    "DateTrack <- consumption_nodup %>% count(Date, Track)\n",
    "head(DateTrack)\n"
   ]
  },
  {
   "cell_type": "code",
   "execution_count": 38,
   "id": "4073d00c",
   "metadata": {},
   "outputs": [
    {
     "data": {
      "text/html": [
       "<table class=\"dataframe\">\n",
       "<caption>A tibble: 6 × 3</caption>\n",
       "<thead>\n",
       "\t<tr><th scope=col>Date</th><th scope=col>Artist</th><th scope=col>n</th></tr>\n",
       "\t<tr><th scope=col>&lt;date&gt;</th><th scope=col>&lt;chr&gt;</th><th scope=col>&lt;int&gt;</th></tr>\n",
       "</thead>\n",
       "<tbody>\n",
       "\t<tr><td>2019-01-01</td><td>artist_01</td><td> 51</td></tr>\n",
       "\t<tr><td>2019-01-01</td><td>artist_02</td><td> 86</td></tr>\n",
       "\t<tr><td>2019-01-01</td><td>artist_03</td><td>288</td></tr>\n",
       "\t<tr><td>2019-01-01</td><td>artist_04</td><td> 10</td></tr>\n",
       "\t<tr><td>2019-01-01</td><td>artist_05</td><td> 54</td></tr>\n",
       "\t<tr><td>2019-01-01</td><td>artist_06</td><td>  9</td></tr>\n",
       "</tbody>\n",
       "</table>\n"
      ],
      "text/latex": [
       "A tibble: 6 × 3\n",
       "\\begin{tabular}{lll}\n",
       " Date & Artist & n\\\\\n",
       " <date> & <chr> & <int>\\\\\n",
       "\\hline\n",
       "\t 2019-01-01 & artist\\_01 &  51\\\\\n",
       "\t 2019-01-01 & artist\\_02 &  86\\\\\n",
       "\t 2019-01-01 & artist\\_03 & 288\\\\\n",
       "\t 2019-01-01 & artist\\_04 &  10\\\\\n",
       "\t 2019-01-01 & artist\\_05 &  54\\\\\n",
       "\t 2019-01-01 & artist\\_06 &   9\\\\\n",
       "\\end{tabular}\n"
      ],
      "text/markdown": [
       "\n",
       "A tibble: 6 × 3\n",
       "\n",
       "| Date &lt;date&gt; | Artist &lt;chr&gt; | n &lt;int&gt; |\n",
       "|---|---|---|\n",
       "| 2019-01-01 | artist_01 |  51 |\n",
       "| 2019-01-01 | artist_02 |  86 |\n",
       "| 2019-01-01 | artist_03 | 288 |\n",
       "| 2019-01-01 | artist_04 |  10 |\n",
       "| 2019-01-01 | artist_05 |  54 |\n",
       "| 2019-01-01 | artist_06 |   9 |\n",
       "\n"
      ],
      "text/plain": [
       "  Date       Artist    n  \n",
       "1 2019-01-01 artist_01  51\n",
       "2 2019-01-01 artist_02  86\n",
       "3 2019-01-01 artist_03 288\n",
       "4 2019-01-01 artist_04  10\n",
       "5 2019-01-01 artist_05  54\n",
       "6 2019-01-01 artist_06   9"
      ]
     },
     "metadata": {},
     "output_type": "display_data"
    }
   ],
   "source": [
    "##Most played artist datewise\n",
    "DateArtist <- consumption_nodup %>% count(Date, Artist)\n",
    "head(DateArtist)"
   ]
  },
  {
   "cell_type": "markdown",
   "id": "a2fa1c20",
   "metadata": {},
   "source": [
    "## Feed and station mapping data"
   ]
  },
  {
   "cell_type": "code",
   "execution_count": 40,
   "id": "9929a485",
   "metadata": {},
   "outputs": [
    {
     "name": "stderr",
     "output_type": "stream",
     "text": [
      "\n",
      "\u001b[36m--\u001b[39m \u001b[1m\u001b[1mColumn specification\u001b[1m\u001b[22m \u001b[36m------------------------------------------------------------------------------------------------\u001b[39m\n",
      "cols(\n",
      "  Feed_Id = \u001b[31mcol_character()\u001b[39m,\n",
      "  SMP_Station = \u001b[31mcol_character()\u001b[39m\n",
      ")\n",
      "\n",
      "\n"
     ]
    }
   ],
   "source": [
    "feed_station_mapping <- read_csv(\"feed_station_mapping.csv\")"
   ]
  },
  {
   "cell_type": "code",
   "execution_count": 44,
   "id": "8ef9608d",
   "metadata": {},
   "outputs": [
    {
     "data": {
      "text/plain": [
       "\n",
       "feed_id_01 feed_id_02 feed_id_03 feed_id_04 feed_id_05 feed_id_06 \n",
       "       127        122        208         18          2        521 "
      ]
     },
     "metadata": {},
     "output_type": "display_data"
    }
   ],
   "source": [
    "SMPtable <- table(consumption_nodup$Feed_Id)\n",
    "head(SMPtable) ##more number of unique feed IDs in consumption dataset (1479) than station dataset (1125)"
   ]
  },
  {
   "cell_type": "markdown",
   "id": "2f257d8f",
   "metadata": {},
   "source": [
    "#### Duplicates and missing values in Station dataset"
   ]
  },
  {
   "cell_type": "code",
   "execution_count": 46,
   "id": "5e9ae86a",
   "metadata": {},
   "outputs": [
    {
     "data": {
      "text/html": [
       "<table class=\"dataframe\">\n",
       "<caption>A tibble: 6 × 2</caption>\n",
       "<thead>\n",
       "\t<tr><th scope=col>Feed_Id</th><th scope=col>SMP_Station</th></tr>\n",
       "\t<tr><th scope=col>&lt;chr&gt;</th><th scope=col>&lt;chr&gt;</th></tr>\n",
       "</thead>\n",
       "<tbody>\n",
       "\t<tr><td>feed_id_01</td><td>smp_station_name_1027</td></tr>\n",
       "\t<tr><td>feed_id_02</td><td>smp_station_name_94  </td></tr>\n",
       "\t<tr><td>feed_id_03</td><td>smp_station_name_500 </td></tr>\n",
       "\t<tr><td>feed_id_04</td><td>smp_station_name_346 </td></tr>\n",
       "\t<tr><td>feed_id_06</td><td>smp_station_name_732 </td></tr>\n",
       "\t<tr><td>feed_id_08</td><td>smp_station_name_639 </td></tr>\n",
       "</tbody>\n",
       "</table>\n"
      ],
      "text/latex": [
       "A tibble: 6 × 2\n",
       "\\begin{tabular}{ll}\n",
       " Feed\\_Id & SMP\\_Station\\\\\n",
       " <chr> & <chr>\\\\\n",
       "\\hline\n",
       "\t feed\\_id\\_01 & smp\\_station\\_name\\_1027\\\\\n",
       "\t feed\\_id\\_02 & smp\\_station\\_name\\_94  \\\\\n",
       "\t feed\\_id\\_03 & smp\\_station\\_name\\_500 \\\\\n",
       "\t feed\\_id\\_04 & smp\\_station\\_name\\_346 \\\\\n",
       "\t feed\\_id\\_06 & smp\\_station\\_name\\_732 \\\\\n",
       "\t feed\\_id\\_08 & smp\\_station\\_name\\_639 \\\\\n",
       "\\end{tabular}\n"
      ],
      "text/markdown": [
       "\n",
       "A tibble: 6 × 2\n",
       "\n",
       "| Feed_Id &lt;chr&gt; | SMP_Station &lt;chr&gt; |\n",
       "|---|---|\n",
       "| feed_id_01 | smp_station_name_1027 |\n",
       "| feed_id_02 | smp_station_name_94   |\n",
       "| feed_id_03 | smp_station_name_500  |\n",
       "| feed_id_04 | smp_station_name_346  |\n",
       "| feed_id_06 | smp_station_name_732  |\n",
       "| feed_id_08 | smp_station_name_639  |\n",
       "\n"
      ],
      "text/plain": [
       "  Feed_Id    SMP_Station          \n",
       "1 feed_id_01 smp_station_name_1027\n",
       "2 feed_id_02 smp_station_name_94  \n",
       "3 feed_id_03 smp_station_name_500 \n",
       "4 feed_id_04 smp_station_name_346 \n",
       "5 feed_id_06 smp_station_name_732 \n",
       "6 feed_id_08 smp_station_name_639 "
      ]
     },
     "metadata": {},
     "output_type": "display_data"
    }
   ],
   "source": [
    "\n",
    "feed_station_nodup <- feed_station_mapping %>% distinct() ##no duplicates in the data\n",
    "head(feed_station_nodup)\n"
   ]
  },
  {
   "cell_type": "code",
   "execution_count": 47,
   "id": "a3828722",
   "metadata": {},
   "outputs": [
    {
     "data": {
      "text/html": [
       "<table class=\"dataframe\">\n",
       "<caption>A tibble: 1 × 1</caption>\n",
       "<thead>\n",
       "\t<tr><th scope=col>n</th></tr>\n",
       "\t<tr><th scope=col>&lt;int&gt;</th></tr>\n",
       "</thead>\n",
       "<tbody>\n",
       "\t<tr><td>1122</td></tr>\n",
       "</tbody>\n",
       "</table>\n"
      ],
      "text/latex": [
       "A tibble: 1 × 1\n",
       "\\begin{tabular}{l}\n",
       " n\\\\\n",
       " <int>\\\\\n",
       "\\hline\n",
       "\t 1122\\\\\n",
       "\\end{tabular}\n"
      ],
      "text/markdown": [
       "\n",
       "A tibble: 1 × 1\n",
       "\n",
       "| n &lt;int&gt; |\n",
       "|---|\n",
       "| 1122 |\n",
       "\n"
      ],
      "text/plain": [
       "  n   \n",
       "1 1122"
      ]
     },
     "metadata": {},
     "output_type": "display_data"
    }
   ],
   "source": [
    "count(feed_station_mapping %>% distinct(SMP_Station)) ##1122\n"
   ]
  },
  {
   "cell_type": "code",
   "execution_count": 48,
   "id": "84225b72",
   "metadata": {},
   "outputs": [
    {
     "data": {
      "text/html": [
       "<table class=\"dataframe\">\n",
       "<caption>A tibble: 1 × 1</caption>\n",
       "<thead>\n",
       "\t<tr><th scope=col>n</th></tr>\n",
       "\t<tr><th scope=col>&lt;int&gt;</th></tr>\n",
       "</thead>\n",
       "<tbody>\n",
       "\t<tr><td>1125</td></tr>\n",
       "</tbody>\n",
       "</table>\n"
      ],
      "text/latex": [
       "A tibble: 1 × 1\n",
       "\\begin{tabular}{l}\n",
       " n\\\\\n",
       " <int>\\\\\n",
       "\\hline\n",
       "\t 1125\\\\\n",
       "\\end{tabular}\n"
      ],
      "text/markdown": [
       "\n",
       "A tibble: 1 × 1\n",
       "\n",
       "| n &lt;int&gt; |\n",
       "|---|\n",
       "| 1125 |\n",
       "\n"
      ],
      "text/plain": [
       "  n   \n",
       "1 1125"
      ]
     },
     "metadata": {},
     "output_type": "display_data"
    }
   ],
   "source": [
    "count(feed_station_mapping %>% distinct(Feed_Id)) ##1125\n"
   ]
  },
  {
   "cell_type": "code",
   "execution_count": 49,
   "id": "54c917f6",
   "metadata": {},
   "outputs": [
    {
     "data": {
      "text/html": [
       "<table class=\"dataframe\">\n",
       "<caption>A grouped_df: 6 × 2</caption>\n",
       "<thead>\n",
       "\t<tr><th scope=col>Feed_Id</th><th scope=col>SMP_Station</th></tr>\n",
       "\t<tr><th scope=col>&lt;chr&gt;</th><th scope=col>&lt;chr&gt;</th></tr>\n",
       "</thead>\n",
       "<tbody>\n",
       "\t<tr><td>feed_id_1347</td><td>smp_station_name_154 </td></tr>\n",
       "\t<tr><td>feed_id_204 </td><td>smp_station_name_1068</td></tr>\n",
       "\t<tr><td>feed_id_396 </td><td>smp_station_name_1068</td></tr>\n",
       "\t<tr><td>feed_id_405 </td><td>smp_station_name_722 </td></tr>\n",
       "\t<tr><td>feed_id_557 </td><td>smp_station_name_722 </td></tr>\n",
       "\t<tr><td>feed_id_736 </td><td>smp_station_name_154 </td></tr>\n",
       "</tbody>\n",
       "</table>\n"
      ],
      "text/latex": [
       "A grouped\\_df: 6 × 2\n",
       "\\begin{tabular}{ll}\n",
       " Feed\\_Id & SMP\\_Station\\\\\n",
       " <chr> & <chr>\\\\\n",
       "\\hline\n",
       "\t feed\\_id\\_1347 & smp\\_station\\_name\\_154 \\\\\n",
       "\t feed\\_id\\_204  & smp\\_station\\_name\\_1068\\\\\n",
       "\t feed\\_id\\_396  & smp\\_station\\_name\\_1068\\\\\n",
       "\t feed\\_id\\_405  & smp\\_station\\_name\\_722 \\\\\n",
       "\t feed\\_id\\_557  & smp\\_station\\_name\\_722 \\\\\n",
       "\t feed\\_id\\_736  & smp\\_station\\_name\\_154 \\\\\n",
       "\\end{tabular}\n"
      ],
      "text/markdown": [
       "\n",
       "A grouped_df: 6 × 2\n",
       "\n",
       "| Feed_Id &lt;chr&gt; | SMP_Station &lt;chr&gt; |\n",
       "|---|---|\n",
       "| feed_id_1347 | smp_station_name_154  |\n",
       "| feed_id_204  | smp_station_name_1068 |\n",
       "| feed_id_396  | smp_station_name_1068 |\n",
       "| feed_id_405  | smp_station_name_722  |\n",
       "| feed_id_557  | smp_station_name_722  |\n",
       "| feed_id_736  | smp_station_name_154  |\n",
       "\n"
      ],
      "text/plain": [
       "  Feed_Id      SMP_Station          \n",
       "1 feed_id_1347 smp_station_name_154 \n",
       "2 feed_id_204  smp_station_name_1068\n",
       "3 feed_id_396  smp_station_name_1068\n",
       "4 feed_id_405  smp_station_name_722 \n",
       "5 feed_id_557  smp_station_name_722 \n",
       "6 feed_id_736  smp_station_name_154 "
      ]
     },
     "metadata": {},
     "output_type": "display_data"
    }
   ],
   "source": [
    "feed_station_mapping %>% group_by(SMP_Station) %>% filter(n()>1) ##to check the one to many relationship\n"
   ]
  },
  {
   "cell_type": "code",
   "execution_count": 50,
   "id": "2b7b16d5",
   "metadata": {},
   "outputs": [
    {
     "data": {
      "text/html": [
       "FALSE"
      ],
      "text/latex": [
       "FALSE"
      ],
      "text/markdown": [
       "FALSE"
      ],
      "text/plain": [
       "[1] FALSE"
      ]
     },
     "metadata": {},
     "output_type": "display_data"
    }
   ],
   "source": [
    "missing(feed_station_nodup)\n"
   ]
  },
  {
   "cell_type": "code",
   "execution_count": 51,
   "id": "83e9163d",
   "metadata": {},
   "outputs": [
    {
     "name": "stderr",
     "output_type": "stream",
     "text": [
      "Warning message:\n",
      "\"Unknown or uninitialised column: `arguments`.\"\n",
      "Warning message:\n",
      "\"Unknown or uninitialised column: `arguments`.\"\n",
      "Warning message:\n",
      "\"Unknown or uninitialised column: `imputations`.\"\n"
     ]
    },
    {
     "data": {
      "image/png": "[encoded data removed]",
      "text/plain": [
       "Plot with title \"Missingness Map\""
      ]
     },
     "metadata": {
      "image/png": {
       "height": 420,
       "width": 420
      }
     },
     "output_type": "display_data"
    }
   ],
   "source": [
    "missmap(feed_station_nodup) ##no missing data"
   ]
  },
  {
   "cell_type": "markdown",
   "id": "c1cc69f6",
   "metadata": {},
   "source": [
    "#### Joining the 2 tables through Left join\n"
   ]
  },
  {
   "cell_type": "code",
   "execution_count": 52,
   "id": "2ebd655e",
   "metadata": {},
   "outputs": [
    {
     "data": {
      "text/html": [
       "<table class=\"dataframe\">\n",
       "<caption>A data.frame: 6 × 7</caption>\n",
       "<thead>\n",
       "\t<tr><th></th><th scope=col>Feed_Id</th><th scope=col>Stamp</th><th scope=col>Track</th><th scope=col>Artist</th><th scope=col>Feed_Name</th><th scope=col>Date</th><th scope=col>SMP_Station</th></tr>\n",
       "\t<tr><th></th><th scope=col>&lt;chr&gt;</th><th scope=col>&lt;chr&gt;</th><th scope=col>&lt;chr&gt;</th><th scope=col>&lt;chr&gt;</th><th scope=col>&lt;chr&gt;</th><th scope=col>&lt;date&gt;</th><th scope=col>&lt;chr&gt;</th></tr>\n",
       "</thead>\n",
       "<tbody>\n",
       "\t<tr><th scope=row>1</th><td>feed_id_01</td><td>2019-01-24 15:09:00</td><td>Song_05</td><td>artist_03</td><td>feed_name_572</td><td>2019-01-24</td><td>smp_station_name_1027</td></tr>\n",
       "\t<tr><th scope=row>2</th><td>feed_id_01</td><td>2019-02-01 18:10:00</td><td>Song_05</td><td>artist_03</td><td>feed_name_572</td><td>2019-02-01</td><td>smp_station_name_1027</td></tr>\n",
       "\t<tr><th scope=row>3</th><td>feed_id_01</td><td>2019-02-02 10:02:00</td><td>Song_05</td><td>artist_03</td><td>feed_name_572</td><td>2019-02-02</td><td>smp_station_name_1027</td></tr>\n",
       "\t<tr><th scope=row>4</th><td>feed_id_01</td><td>2019-01-28 14:34:00</td><td>Song_05</td><td>artist_03</td><td>feed_name_572</td><td>2019-01-28</td><td>smp_station_name_1027</td></tr>\n",
       "\t<tr><th scope=row>5</th><td>feed_id_01</td><td>2019-01-29 08:57:00</td><td>Song_05</td><td>artist_03</td><td>feed_name_572</td><td>2019-01-29</td><td>smp_station_name_1027</td></tr>\n",
       "\t<tr><th scope=row>6</th><td>feed_id_01</td><td>2019-02-07 13:06:00</td><td>Song_05</td><td>artist_03</td><td>feed_name_572</td><td>2019-02-07</td><td>smp_station_name_1027</td></tr>\n",
       "</tbody>\n",
       "</table>\n"
      ],
      "text/latex": [
       "A data.frame: 6 × 7\n",
       "\\begin{tabular}{r|lllllll}\n",
       "  & Feed\\_Id & Stamp & Track & Artist & Feed\\_Name & Date & SMP\\_Station\\\\\n",
       "  & <chr> & <chr> & <chr> & <chr> & <chr> & <date> & <chr>\\\\\n",
       "\\hline\n",
       "\t1 & feed\\_id\\_01 & 2019-01-24 15:09:00 & Song\\_05 & artist\\_03 & feed\\_name\\_572 & 2019-01-24 & smp\\_station\\_name\\_1027\\\\\n",
       "\t2 & feed\\_id\\_01 & 2019-02-01 18:10:00 & Song\\_05 & artist\\_03 & feed\\_name\\_572 & 2019-02-01 & smp\\_station\\_name\\_1027\\\\\n",
       "\t3 & feed\\_id\\_01 & 2019-02-02 10:02:00 & Song\\_05 & artist\\_03 & feed\\_name\\_572 & 2019-02-02 & smp\\_station\\_name\\_1027\\\\\n",
       "\t4 & feed\\_id\\_01 & 2019-01-28 14:34:00 & Song\\_05 & artist\\_03 & feed\\_name\\_572 & 2019-01-28 & smp\\_station\\_name\\_1027\\\\\n",
       "\t5 & feed\\_id\\_01 & 2019-01-29 08:57:00 & Song\\_05 & artist\\_03 & feed\\_name\\_572 & 2019-01-29 & smp\\_station\\_name\\_1027\\\\\n",
       "\t6 & feed\\_id\\_01 & 2019-02-07 13:06:00 & Song\\_05 & artist\\_03 & feed\\_name\\_572 & 2019-02-07 & smp\\_station\\_name\\_1027\\\\\n",
       "\\end{tabular}\n"
      ],
      "text/markdown": [
       "\n",
       "A data.frame: 6 × 7\n",
       "\n",
       "| <!--/--> | Feed_Id &lt;chr&gt; | Stamp &lt;chr&gt; | Track &lt;chr&gt; | Artist &lt;chr&gt; | Feed_Name &lt;chr&gt; | Date &lt;date&gt; | SMP_Station &lt;chr&gt; |\n",
       "|---|---|---|---|---|---|---|---|\n",
       "| 1 | feed_id_01 | 2019-01-24 15:09:00 | Song_05 | artist_03 | feed_name_572 | 2019-01-24 | smp_station_name_1027 |\n",
       "| 2 | feed_id_01 | 2019-02-01 18:10:00 | Song_05 | artist_03 | feed_name_572 | 2019-02-01 | smp_station_name_1027 |\n",
       "| 3 | feed_id_01 | 2019-02-02 10:02:00 | Song_05 | artist_03 | feed_name_572 | 2019-02-02 | smp_station_name_1027 |\n",
       "| 4 | feed_id_01 | 2019-01-28 14:34:00 | Song_05 | artist_03 | feed_name_572 | 2019-01-28 | smp_station_name_1027 |\n",
       "| 5 | feed_id_01 | 2019-01-29 08:57:00 | Song_05 | artist_03 | feed_name_572 | 2019-01-29 | smp_station_name_1027 |\n",
       "| 6 | feed_id_01 | 2019-02-07 13:06:00 | Song_05 | artist_03 | feed_name_572 | 2019-02-07 | smp_station_name_1027 |\n",
       "\n"
      ],
      "text/plain": [
       "  Feed_Id    Stamp               Track   Artist    Feed_Name     Date      \n",
       "1 feed_id_01 2019-01-24 15:09:00 Song_05 artist_03 feed_name_572 2019-01-24\n",
       "2 feed_id_01 2019-02-01 18:10:00 Song_05 artist_03 feed_name_572 2019-02-01\n",
       "3 feed_id_01 2019-02-02 10:02:00 Song_05 artist_03 feed_name_572 2019-02-02\n",
       "4 feed_id_01 2019-01-28 14:34:00 Song_05 artist_03 feed_name_572 2019-01-28\n",
       "5 feed_id_01 2019-01-29 08:57:00 Song_05 artist_03 feed_name_572 2019-01-29\n",
       "6 feed_id_01 2019-02-07 13:06:00 Song_05 artist_03 feed_name_572 2019-02-07\n",
       "  SMP_Station          \n",
       "1 smp_station_name_1027\n",
       "2 smp_station_name_1027\n",
       "3 smp_station_name_1027\n",
       "4 smp_station_name_1027\n",
       "5 smp_station_name_1027\n",
       "6 smp_station_name_1027"
      ]
     },
     "metadata": {},
     "output_type": "display_data"
    }
   ],
   "source": [
    "mergedata = merge(x= consumption_nodup, y=feed_station_nodup, by=\"Feed_Id\", all.x=TRUE)\n",
    "head(mergedata)"
   ]
  },
  {
   "cell_type": "markdown",
   "id": "2514b25c",
   "metadata": {},
   "source": [
    " #### The missing SMP station values in the merged data"
   ]
  },
  {
   "cell_type": "code",
   "execution_count": 53,
   "id": "af57c2fb",
   "metadata": {},
   "outputs": [
    {
     "data": {
      "text/html": [
       "<table class=\"dataframe\">\n",
       "<caption>A data.frame: 6 × 7</caption>\n",
       "<thead>\n",
       "\t<tr><th></th><th scope=col>Feed_Id</th><th scope=col>Stamp</th><th scope=col>Track</th><th scope=col>Artist</th><th scope=col>Feed_Name</th><th scope=col>Date</th><th scope=col>SMP_Station</th></tr>\n",
       "\t<tr><th></th><th scope=col>&lt;chr&gt;</th><th scope=col>&lt;chr&gt;</th><th scope=col>&lt;chr&gt;</th><th scope=col>&lt;chr&gt;</th><th scope=col>&lt;chr&gt;</th><th scope=col>&lt;date&gt;</th><th scope=col>&lt;chr&gt;</th></tr>\n",
       "</thead>\n",
       "<tbody>\n",
       "\t<tr><th scope=row>1</th><td>feed_id_05</td><td>2020-03-15 08:23:05</td><td>Song_04</td><td>artist_07</td><td>feed_name_1306</td><td>2020-03-15</td><td>NA</td></tr>\n",
       "\t<tr><th scope=row>2</th><td>feed_id_05</td><td>2020-06-11 15:41:42</td><td>Song_04</td><td>artist_07</td><td>feed_name_1306</td><td>2020-06-11</td><td>NA</td></tr>\n",
       "\t<tr><th scope=row>3</th><td>feed_id_07</td><td>2019-01-31 14:41:01</td><td>Song_05</td><td>artist_03</td><td>feed_name_31  </td><td>2019-01-31</td><td>NA</td></tr>\n",
       "\t<tr><th scope=row>4</th><td>feed_id_07</td><td>2019-02-01 11:28:39</td><td>Song_05</td><td>artist_03</td><td>feed_name_31  </td><td>2019-02-01</td><td>NA</td></tr>\n",
       "\t<tr><th scope=row>5</th><td>feed_id_07</td><td>2019-02-02 06:09:33</td><td>Song_05</td><td>artist_03</td><td>feed_name_31  </td><td>2019-02-02</td><td>NA</td></tr>\n",
       "\t<tr><th scope=row>6</th><td>feed_id_07</td><td>2019-02-02 16:45:28</td><td>Song_05</td><td>artist_03</td><td>feed_name_31  </td><td>2019-02-02</td><td>NA</td></tr>\n",
       "</tbody>\n",
       "</table>\n"
      ],
      "text/latex": [
       "A data.frame: 6 × 7\n",
       "\\begin{tabular}{r|lllllll}\n",
       "  & Feed\\_Id & Stamp & Track & Artist & Feed\\_Name & Date & SMP\\_Station\\\\\n",
       "  & <chr> & <chr> & <chr> & <chr> & <chr> & <date> & <chr>\\\\\n",
       "\\hline\n",
       "\t1 & feed\\_id\\_05 & 2020-03-15 08:23:05 & Song\\_04 & artist\\_07 & feed\\_name\\_1306 & 2020-03-15 & NA\\\\\n",
       "\t2 & feed\\_id\\_05 & 2020-06-11 15:41:42 & Song\\_04 & artist\\_07 & feed\\_name\\_1306 & 2020-06-11 & NA\\\\\n",
       "\t3 & feed\\_id\\_07 & 2019-01-31 14:41:01 & Song\\_05 & artist\\_03 & feed\\_name\\_31   & 2019-01-31 & NA\\\\\n",
       "\t4 & feed\\_id\\_07 & 2019-02-01 11:28:39 & Song\\_05 & artist\\_03 & feed\\_name\\_31   & 2019-02-01 & NA\\\\\n",
       "\t5 & feed\\_id\\_07 & 2019-02-02 06:09:33 & Song\\_05 & artist\\_03 & feed\\_name\\_31   & 2019-02-02 & NA\\\\\n",
       "\t6 & feed\\_id\\_07 & 2019-02-02 16:45:28 & Song\\_05 & artist\\_03 & feed\\_name\\_31   & 2019-02-02 & NA\\\\\n",
       "\\end{tabular}\n"
      ],
      "text/markdown": [
       "\n",
       "A data.frame: 6 × 7\n",
       "\n",
       "| <!--/--> | Feed_Id &lt;chr&gt; | Stamp &lt;chr&gt; | Track &lt;chr&gt; | Artist &lt;chr&gt; | Feed_Name &lt;chr&gt; | Date &lt;date&gt; | SMP_Station &lt;chr&gt; |\n",
       "|---|---|---|---|---|---|---|---|\n",
       "| 1 | feed_id_05 | 2020-03-15 08:23:05 | Song_04 | artist_07 | feed_name_1306 | 2020-03-15 | NA |\n",
       "| 2 | feed_id_05 | 2020-06-11 15:41:42 | Song_04 | artist_07 | feed_name_1306 | 2020-06-11 | NA |\n",
       "| 3 | feed_id_07 | 2019-01-31 14:41:01 | Song_05 | artist_03 | feed_name_31   | 2019-01-31 | NA |\n",
       "| 4 | feed_id_07 | 2019-02-01 11:28:39 | Song_05 | artist_03 | feed_name_31   | 2019-02-01 | NA |\n",
       "| 5 | feed_id_07 | 2019-02-02 06:09:33 | Song_05 | artist_03 | feed_name_31   | 2019-02-02 | NA |\n",
       "| 6 | feed_id_07 | 2019-02-02 16:45:28 | Song_05 | artist_03 | feed_name_31   | 2019-02-02 | NA |\n",
       "\n"
      ],
      "text/plain": [
       "  Feed_Id    Stamp               Track   Artist    Feed_Name      Date      \n",
       "1 feed_id_05 2020-03-15 08:23:05 Song_04 artist_07 feed_name_1306 2020-03-15\n",
       "2 feed_id_05 2020-06-11 15:41:42 Song_04 artist_07 feed_name_1306 2020-06-11\n",
       "3 feed_id_07 2019-01-31 14:41:01 Song_05 artist_03 feed_name_31   2019-01-31\n",
       "4 feed_id_07 2019-02-01 11:28:39 Song_05 artist_03 feed_name_31   2019-02-01\n",
       "5 feed_id_07 2019-02-02 06:09:33 Song_05 artist_03 feed_name_31   2019-02-02\n",
       "6 feed_id_07 2019-02-02 16:45:28 Song_05 artist_03 feed_name_31   2019-02-02\n",
       "  SMP_Station\n",
       "1 NA         \n",
       "2 NA         \n",
       "3 NA         \n",
       "4 NA         \n",
       "5 NA         \n",
       "6 NA         "
      ]
     },
     "metadata": {},
     "output_type": "display_data"
    }
   ],
   "source": [
    "head(mergedata %>% filter(is.na(mergedata$SMP_Station)))"
   ]
  },
  {
   "cell_type": "markdown",
   "id": "896a5861",
   "metadata": {},
   "source": [
    "##### Recoding missing values of SMP Station variable\n"
   ]
  },
  {
   "cell_type": "code",
   "execution_count": 54,
   "id": "af528714",
   "metadata": {},
   "outputs": [],
   "source": [
    "mergedata$SMP_Station <- ifelse(is.na(mergedata$SMP_Station),\n",
    "                                mergedata$Feed_Name, mergedata$SMP_Station)"
   ]
  },
  {
   "cell_type": "code",
   "execution_count": 56,
   "id": "3b5998e4",
   "metadata": {
    "scrolled": true
   },
   "outputs": [
    {
     "data": {
      "text/html": [
       "<table class=\"dataframe\">\n",
       "<caption>A data.frame: 3 × 7</caption>\n",
       "<thead>\n",
       "\t<tr><th scope=col>Feed_Id</th><th scope=col>Stamp</th><th scope=col>Track</th><th scope=col>Artist</th><th scope=col>Feed_Name</th><th scope=col>Date</th><th scope=col>SMP_Station</th></tr>\n",
       "\t<tr><th scope=col>&lt;chr&gt;</th><th scope=col>&lt;chr&gt;</th><th scope=col>&lt;chr&gt;</th><th scope=col>&lt;chr&gt;</th><th scope=col>&lt;chr&gt;</th><th scope=col>&lt;date&gt;</th><th scope=col>&lt;chr&gt;</th></tr>\n",
       "</thead>\n",
       "<tbody>\n",
       "\t<tr><td>feed_id_05  </td><td>2020-03-15 08:23:05</td><td>Song_04</td><td>artist_07</td><td>feed_name_1306</td><td>2020-03-15</td><td>feed_name_1306</td></tr>\n",
       "\t<tr><td>feed_id_1274</td><td>2020-03-15 08:23:05</td><td>Song_04</td><td>artist_07</td><td>feed_name_1368</td><td>2020-03-15</td><td>feed_name_1368</td></tr>\n",
       "\t<tr><td>feed_id_1361</td><td>2020-03-15 08:23:05</td><td>Song_04</td><td>artist_07</td><td>feed_name_1368</td><td>2020-03-15</td><td>feed_name_1368</td></tr>\n",
       "</tbody>\n",
       "</table>\n"
      ],
      "text/latex": [
       "A data.frame: 3 × 7\n",
       "\\begin{tabular}{lllllll}\n",
       " Feed\\_Id & Stamp & Track & Artist & Feed\\_Name & Date & SMP\\_Station\\\\\n",
       " <chr> & <chr> & <chr> & <chr> & <chr> & <date> & <chr>\\\\\n",
       "\\hline\n",
       "\t feed\\_id\\_05   & 2020-03-15 08:23:05 & Song\\_04 & artist\\_07 & feed\\_name\\_1306 & 2020-03-15 & feed\\_name\\_1306\\\\\n",
       "\t feed\\_id\\_1274 & 2020-03-15 08:23:05 & Song\\_04 & artist\\_07 & feed\\_name\\_1368 & 2020-03-15 & feed\\_name\\_1368\\\\\n",
       "\t feed\\_id\\_1361 & 2020-03-15 08:23:05 & Song\\_04 & artist\\_07 & feed\\_name\\_1368 & 2020-03-15 & feed\\_name\\_1368\\\\\n",
       "\\end{tabular}\n"
      ],
      "text/markdown": [
       "\n",
       "A data.frame: 3 × 7\n",
       "\n",
       "| Feed_Id &lt;chr&gt; | Stamp &lt;chr&gt; | Track &lt;chr&gt; | Artist &lt;chr&gt; | Feed_Name &lt;chr&gt; | Date &lt;date&gt; | SMP_Station &lt;chr&gt; |\n",
       "|---|---|---|---|---|---|---|\n",
       "| feed_id_05   | 2020-03-15 08:23:05 | Song_04 | artist_07 | feed_name_1306 | 2020-03-15 | feed_name_1306 |\n",
       "| feed_id_1274 | 2020-03-15 08:23:05 | Song_04 | artist_07 | feed_name_1368 | 2020-03-15 | feed_name_1368 |\n",
       "| feed_id_1361 | 2020-03-15 08:23:05 | Song_04 | artist_07 | feed_name_1368 | 2020-03-15 | feed_name_1368 |\n",
       "\n"
      ],
      "text/plain": [
       "  Feed_Id      Stamp               Track   Artist    Feed_Name      Date      \n",
       "1 feed_id_05   2020-03-15 08:23:05 Song_04 artist_07 feed_name_1306 2020-03-15\n",
       "2 feed_id_1274 2020-03-15 08:23:05 Song_04 artist_07 feed_name_1368 2020-03-15\n",
       "3 feed_id_1361 2020-03-15 08:23:05 Song_04 artist_07 feed_name_1368 2020-03-15\n",
       "  SMP_Station   \n",
       "1 feed_name_1306\n",
       "2 feed_name_1368\n",
       "3 feed_name_1368"
      ]
     },
     "metadata": {},
     "output_type": "display_data"
    }
   ],
   "source": [
    "mergedata %>% filter(Stamp == '2020-03-15 08:23:05') # now staion column is replace with Feed_Name columns value."
   ]
  },
  {
   "cell_type": "markdown",
   "id": "41b622a2",
   "metadata": {},
   "source": [
    "## DOUBLE COUNT PLAY\n",
    "#### same timestamp\n",
    "#### same track\n",
    "#### same (I) / different (II) feed ID\n",
    "#### same station\n",
    "\n",
    "(I) such duplicates have already been removed in the initial stage\n",
    "(II) such duplicates are removed below"
   ]
  },
  {
   "cell_type": "code",
   "execution_count": 57,
   "id": "58a62e25",
   "metadata": {},
   "outputs": [
    {
     "data": {
      "text/html": [
       "<style>\n",
       ".dl-inline {width: auto; margin:0; padding: 0}\n",
       ".dl-inline>dt, .dl-inline>dd {float: none; width: auto; display: inline-block}\n",
       ".dl-inline>dt::after {content: \":\\0020\"; padding-right: .5ex}\n",
       ".dl-inline>dt:not(:first-of-type) {padding-left: .5ex}\n",
       "</style><dl class=dl-inline><dt>Feed_Id</dt><dd>515910</dd><dt>Stamp</dt><dd>515910</dd><dt>Track</dt><dd>515910</dd><dt>Artist</dt><dd>515910</dd><dt>Feed_Name</dt><dd>515910</dd><dt>Date</dt><dd>515910</dd><dt>SMP_Station</dt><dd>515910</dd></dl>\n"
      ],
      "text/latex": [
       "\\begin{description*}\n",
       "\\item[Feed\\textbackslash{}\\_Id] 515910\n",
       "\\item[Stamp] 515910\n",
       "\\item[Track] 515910\n",
       "\\item[Artist] 515910\n",
       "\\item[Feed\\textbackslash{}\\_Name] 515910\n",
       "\\item[Date] 515910\n",
       "\\item[SMP\\textbackslash{}\\_Station] 515910\n",
       "\\end{description*}\n"
      ],
      "text/markdown": [
       "Feed_Id\n",
       ":   515910Stamp\n",
       ":   515910Track\n",
       ":   515910Artist\n",
       ":   515910Feed_Name\n",
       ":   515910Date\n",
       ":   515910SMP_Station\n",
       ":   515910\n",
       "\n"
      ],
      "text/plain": [
       "    Feed_Id       Stamp       Track      Artist   Feed_Name        Date \n",
       "     515910      515910      515910      515910      515910      515910 \n",
       "SMP_Station \n",
       "     515910 "
      ]
     },
     "metadata": {},
     "output_type": "display_data"
    }
   ],
   "source": [
    "### filtering out the 'good' data, that is data unique on combination of variables- feed ID, track, stamp and station\n",
    "gooddata <- mergedata %>% group_by(Track, Stamp, SMP_Station) %>% filter(n()==1)\n",
    "lengths(gooddata) #515910 observations"
   ]
  },
  {
   "cell_type": "code",
   "execution_count": 58,
   "id": "4456ef26",
   "metadata": {},
   "outputs": [],
   "source": [
    "###filtering out the 'bad' data, that is data duplicated on combination of variables- Stamp, station and track, but differing on Feed ID\n",
    "baddata <- mergedata %>% group_by(Track, Stamp, SMP_Station) %>% filter(n()>1)\n"
   ]
  },
  {
   "cell_type": "code",
   "execution_count": 60,
   "id": "7caa219e",
   "metadata": {},
   "outputs": [
    {
     "data": {
      "text/html": [
       "<table class=\"dataframe\">\n",
       "<caption>A grouped_df: 6 × 7</caption>\n",
       "<thead>\n",
       "\t<tr><th scope=col>Feed_Id</th><th scope=col>Stamp</th><th scope=col>Track</th><th scope=col>Artist</th><th scope=col>Feed_Name</th><th scope=col>Date</th><th scope=col>SMP_Station</th></tr>\n",
       "\t<tr><th scope=col>&lt;chr&gt;</th><th scope=col>&lt;chr&gt;</th><th scope=col>&lt;chr&gt;</th><th scope=col>&lt;chr&gt;</th><th scope=col>&lt;chr&gt;</th><th scope=col>&lt;date&gt;</th><th scope=col>&lt;chr&gt;</th></tr>\n",
       "</thead>\n",
       "<tbody>\n",
       "\t<tr><td>feed_id_1454</td><td>2019-01-02 21:10:50</td><td>Song_05</td><td>artist_03</td><td>feed_name_202</td><td>2019-01-02</td><td>feed_name_202</td></tr>\n",
       "\t<tr><td>feed_id_504 </td><td>2019-01-02 21:10:50</td><td>Song_05</td><td>artist_03</td><td>feed_name_202</td><td>2019-01-02</td><td>feed_name_202</td></tr>\n",
       "\t<tr><td>feed_id_136 </td><td>2019-01-03 20:58:02</td><td>Song_04</td><td>artist_07</td><td>feed_name_571</td><td>2019-01-03</td><td>feed_name_571</td></tr>\n",
       "\t<tr><td>feed_id_680 </td><td>2019-01-03 20:58:02</td><td>Song_04</td><td>artist_07</td><td>feed_name_571</td><td>2019-01-03</td><td>feed_name_571</td></tr>\n",
       "\t<tr><td>feed_id_78  </td><td>2019-01-03 20:58:02</td><td>Song_04</td><td>artist_07</td><td>feed_name_571</td><td>2019-01-03</td><td>feed_name_571</td></tr>\n",
       "\t<tr><td>feed_id_879 </td><td>2019-01-03 20:58:02</td><td>Song_04</td><td>artist_07</td><td>feed_name_571</td><td>2019-01-03</td><td>feed_name_571</td></tr>\n",
       "</tbody>\n",
       "</table>\n"
      ],
      "text/latex": [
       "A grouped\\_df: 6 × 7\n",
       "\\begin{tabular}{lllllll}\n",
       " Feed\\_Id & Stamp & Track & Artist & Feed\\_Name & Date & SMP\\_Station\\\\\n",
       " <chr> & <chr> & <chr> & <chr> & <chr> & <date> & <chr>\\\\\n",
       "\\hline\n",
       "\t feed\\_id\\_1454 & 2019-01-02 21:10:50 & Song\\_05 & artist\\_03 & feed\\_name\\_202 & 2019-01-02 & feed\\_name\\_202\\\\\n",
       "\t feed\\_id\\_504  & 2019-01-02 21:10:50 & Song\\_05 & artist\\_03 & feed\\_name\\_202 & 2019-01-02 & feed\\_name\\_202\\\\\n",
       "\t feed\\_id\\_136  & 2019-01-03 20:58:02 & Song\\_04 & artist\\_07 & feed\\_name\\_571 & 2019-01-03 & feed\\_name\\_571\\\\\n",
       "\t feed\\_id\\_680  & 2019-01-03 20:58:02 & Song\\_04 & artist\\_07 & feed\\_name\\_571 & 2019-01-03 & feed\\_name\\_571\\\\\n",
       "\t feed\\_id\\_78   & 2019-01-03 20:58:02 & Song\\_04 & artist\\_07 & feed\\_name\\_571 & 2019-01-03 & feed\\_name\\_571\\\\\n",
       "\t feed\\_id\\_879  & 2019-01-03 20:58:02 & Song\\_04 & artist\\_07 & feed\\_name\\_571 & 2019-01-03 & feed\\_name\\_571\\\\\n",
       "\\end{tabular}\n"
      ],
      "text/markdown": [
       "\n",
       "A grouped_df: 6 × 7\n",
       "\n",
       "| Feed_Id &lt;chr&gt; | Stamp &lt;chr&gt; | Track &lt;chr&gt; | Artist &lt;chr&gt; | Feed_Name &lt;chr&gt; | Date &lt;date&gt; | SMP_Station &lt;chr&gt; |\n",
       "|---|---|---|---|---|---|---|\n",
       "| feed_id_1454 | 2019-01-02 21:10:50 | Song_05 | artist_03 | feed_name_202 | 2019-01-02 | feed_name_202 |\n",
       "| feed_id_504  | 2019-01-02 21:10:50 | Song_05 | artist_03 | feed_name_202 | 2019-01-02 | feed_name_202 |\n",
       "| feed_id_136  | 2019-01-03 20:58:02 | Song_04 | artist_07 | feed_name_571 | 2019-01-03 | feed_name_571 |\n",
       "| feed_id_680  | 2019-01-03 20:58:02 | Song_04 | artist_07 | feed_name_571 | 2019-01-03 | feed_name_571 |\n",
       "| feed_id_78   | 2019-01-03 20:58:02 | Song_04 | artist_07 | feed_name_571 | 2019-01-03 | feed_name_571 |\n",
       "| feed_id_879  | 2019-01-03 20:58:02 | Song_04 | artist_07 | feed_name_571 | 2019-01-03 | feed_name_571 |\n",
       "\n"
      ],
      "text/plain": [
       "  Feed_Id      Stamp               Track   Artist    Feed_Name     Date      \n",
       "1 feed_id_1454 2019-01-02 21:10:50 Song_05 artist_03 feed_name_202 2019-01-02\n",
       "2 feed_id_504  2019-01-02 21:10:50 Song_05 artist_03 feed_name_202 2019-01-02\n",
       "3 feed_id_136  2019-01-03 20:58:02 Song_04 artist_07 feed_name_571 2019-01-03\n",
       "4 feed_id_680  2019-01-03 20:58:02 Song_04 artist_07 feed_name_571 2019-01-03\n",
       "5 feed_id_78   2019-01-03 20:58:02 Song_04 artist_07 feed_name_571 2019-01-03\n",
       "6 feed_id_879  2019-01-03 20:58:02 Song_04 artist_07 feed_name_571 2019-01-03\n",
       "  SMP_Station  \n",
       "1 feed_name_202\n",
       "2 feed_name_202\n",
       "3 feed_name_571\n",
       "4 feed_name_571\n",
       "5 feed_name_571\n",
       "6 feed_name_571"
      ]
     },
     "metadata": {},
     "output_type": "display_data"
    }
   ],
   "source": [
    "head(baddata[order(baddata$Stamp),]) #1165 observations"
   ]
  },
  {
   "cell_type": "code",
   "execution_count": 61,
   "id": "b1f40bff",
   "metadata": {},
   "outputs": [],
   "source": [
    "###now, retaining one of the records from the duplicated 'bad' data groups from above using Stamp\n",
    "gooddata2 <- baddata %>% distinct(Stamp, .keep_all=TRUE)\n"
   ]
  },
  {
   "cell_type": "code",
   "execution_count": 63,
   "id": "b71bbaf4",
   "metadata": {},
   "outputs": [
    {
     "data": {
      "text/html": [
       "<table class=\"dataframe\">\n",
       "<caption>A grouped_df: 6 × 7</caption>\n",
       "<thead>\n",
       "\t<tr><th scope=col>Feed_Id</th><th scope=col>Stamp</th><th scope=col>Track</th><th scope=col>Artist</th><th scope=col>Feed_Name</th><th scope=col>Date</th><th scope=col>SMP_Station</th></tr>\n",
       "\t<tr><th scope=col>&lt;chr&gt;</th><th scope=col>&lt;chr&gt;</th><th scope=col>&lt;chr&gt;</th><th scope=col>&lt;chr&gt;</th><th scope=col>&lt;chr&gt;</th><th scope=col>&lt;date&gt;</th><th scope=col>&lt;chr&gt;</th></tr>\n",
       "</thead>\n",
       "<tbody>\n",
       "\t<tr><td>feed_id_1022</td><td>2020-08-06 10:26:05</td><td>Song_05</td><td>artist_03</td><td>feed_name_700</td><td>2020-08-06</td><td>feed_name_700</td></tr>\n",
       "\t<tr><td>feed_id_1022</td><td>2020-08-15 04:16:10</td><td>Song_05</td><td>artist_03</td><td>feed_name_700</td><td>2020-08-15</td><td>feed_name_700</td></tr>\n",
       "\t<tr><td>feed_id_1022</td><td>2020-09-01 11:42:36</td><td>Song_05</td><td>artist_03</td><td>feed_name_700</td><td>2020-09-01</td><td>feed_name_700</td></tr>\n",
       "\t<tr><td>feed_id_1022</td><td>2020-09-06 14:31:42</td><td>Song_05</td><td>artist_03</td><td>feed_name_700</td><td>2020-09-06</td><td>feed_name_700</td></tr>\n",
       "\t<tr><td>feed_id_1054</td><td>2019-01-26 15:14:23</td><td>Song_05</td><td>artist_03</td><td>feed_name_209</td><td>2019-01-26</td><td>feed_name_209</td></tr>\n",
       "\t<tr><td>feed_id_1054</td><td>2019-02-14 20:41:25</td><td>Song_05</td><td>artist_03</td><td>feed_name_209</td><td>2019-02-14</td><td>feed_name_209</td></tr>\n",
       "</tbody>\n",
       "</table>\n"
      ],
      "text/latex": [
       "A grouped\\_df: 6 × 7\n",
       "\\begin{tabular}{lllllll}\n",
       " Feed\\_Id & Stamp & Track & Artist & Feed\\_Name & Date & SMP\\_Station\\\\\n",
       " <chr> & <chr> & <chr> & <chr> & <chr> & <date> & <chr>\\\\\n",
       "\\hline\n",
       "\t feed\\_id\\_1022 & 2020-08-06 10:26:05 & Song\\_05 & artist\\_03 & feed\\_name\\_700 & 2020-08-06 & feed\\_name\\_700\\\\\n",
       "\t feed\\_id\\_1022 & 2020-08-15 04:16:10 & Song\\_05 & artist\\_03 & feed\\_name\\_700 & 2020-08-15 & feed\\_name\\_700\\\\\n",
       "\t feed\\_id\\_1022 & 2020-09-01 11:42:36 & Song\\_05 & artist\\_03 & feed\\_name\\_700 & 2020-09-01 & feed\\_name\\_700\\\\\n",
       "\t feed\\_id\\_1022 & 2020-09-06 14:31:42 & Song\\_05 & artist\\_03 & feed\\_name\\_700 & 2020-09-06 & feed\\_name\\_700\\\\\n",
       "\t feed\\_id\\_1054 & 2019-01-26 15:14:23 & Song\\_05 & artist\\_03 & feed\\_name\\_209 & 2019-01-26 & feed\\_name\\_209\\\\\n",
       "\t feed\\_id\\_1054 & 2019-02-14 20:41:25 & Song\\_05 & artist\\_03 & feed\\_name\\_209 & 2019-02-14 & feed\\_name\\_209\\\\\n",
       "\\end{tabular}\n"
      ],
      "text/markdown": [
       "\n",
       "A grouped_df: 6 × 7\n",
       "\n",
       "| Feed_Id &lt;chr&gt; | Stamp &lt;chr&gt; | Track &lt;chr&gt; | Artist &lt;chr&gt; | Feed_Name &lt;chr&gt; | Date &lt;date&gt; | SMP_Station &lt;chr&gt; |\n",
       "|---|---|---|---|---|---|---|\n",
       "| feed_id_1022 | 2020-08-06 10:26:05 | Song_05 | artist_03 | feed_name_700 | 2020-08-06 | feed_name_700 |\n",
       "| feed_id_1022 | 2020-08-15 04:16:10 | Song_05 | artist_03 | feed_name_700 | 2020-08-15 | feed_name_700 |\n",
       "| feed_id_1022 | 2020-09-01 11:42:36 | Song_05 | artist_03 | feed_name_700 | 2020-09-01 | feed_name_700 |\n",
       "| feed_id_1022 | 2020-09-06 14:31:42 | Song_05 | artist_03 | feed_name_700 | 2020-09-06 | feed_name_700 |\n",
       "| feed_id_1054 | 2019-01-26 15:14:23 | Song_05 | artist_03 | feed_name_209 | 2019-01-26 | feed_name_209 |\n",
       "| feed_id_1054 | 2019-02-14 20:41:25 | Song_05 | artist_03 | feed_name_209 | 2019-02-14 | feed_name_209 |\n",
       "\n"
      ],
      "text/plain": [
       "  Feed_Id      Stamp               Track   Artist    Feed_Name     Date      \n",
       "1 feed_id_1022 2020-08-06 10:26:05 Song_05 artist_03 feed_name_700 2020-08-06\n",
       "2 feed_id_1022 2020-08-15 04:16:10 Song_05 artist_03 feed_name_700 2020-08-15\n",
       "3 feed_id_1022 2020-09-01 11:42:36 Song_05 artist_03 feed_name_700 2020-09-01\n",
       "4 feed_id_1022 2020-09-06 14:31:42 Song_05 artist_03 feed_name_700 2020-09-06\n",
       "5 feed_id_1054 2019-01-26 15:14:23 Song_05 artist_03 feed_name_209 2019-01-26\n",
       "6 feed_id_1054 2019-02-14 20:41:25 Song_05 artist_03 feed_name_209 2019-02-14\n",
       "  SMP_Station  \n",
       "1 feed_name_700\n",
       "2 feed_name_700\n",
       "3 feed_name_700\n",
       "4 feed_name_700\n",
       "5 feed_name_209\n",
       "6 feed_name_209"
      ]
     },
     "metadata": {},
     "output_type": "display_data"
    }
   ],
   "source": [
    "head(gooddata2[order(gooddata2$Feed_Id, gooddata2$SMP_Station),]) #546 observations"
   ]
  },
  {
   "cell_type": "code",
   "execution_count": 64,
   "id": "8ea11fdd",
   "metadata": {},
   "outputs": [],
   "source": [
    "###Now merging all the good data\n",
    "finaldata <- rbind(gooddata, gooddata2)\n"
   ]
  },
  {
   "cell_type": "code",
   "execution_count": 65,
   "id": "26310d35",
   "metadata": {},
   "outputs": [
    {
     "data": {
      "text/html": [
       "<table class=\"dataframe\">\n",
       "<caption>A grouped_df: 6 × 7</caption>\n",
       "<thead>\n",
       "\t<tr><th scope=col>Feed_Id</th><th scope=col>Stamp</th><th scope=col>Track</th><th scope=col>Artist</th><th scope=col>Feed_Name</th><th scope=col>Date</th><th scope=col>SMP_Station</th></tr>\n",
       "\t<tr><th scope=col>&lt;chr&gt;</th><th scope=col>&lt;chr&gt;</th><th scope=col>&lt;chr&gt;</th><th scope=col>&lt;chr&gt;</th><th scope=col>&lt;chr&gt;</th><th scope=col>&lt;date&gt;</th><th scope=col>&lt;chr&gt;</th></tr>\n",
       "</thead>\n",
       "<tbody>\n",
       "\t<tr><td>feed_id_01</td><td>2019-01-24 15:09:00</td><td>Song_05</td><td>artist_03</td><td>feed_name_572</td><td>2019-01-24</td><td>smp_station_name_1027</td></tr>\n",
       "\t<tr><td>feed_id_01</td><td>2019-02-01 18:10:00</td><td>Song_05</td><td>artist_03</td><td>feed_name_572</td><td>2019-02-01</td><td>smp_station_name_1027</td></tr>\n",
       "\t<tr><td>feed_id_01</td><td>2019-02-02 10:02:00</td><td>Song_05</td><td>artist_03</td><td>feed_name_572</td><td>2019-02-02</td><td>smp_station_name_1027</td></tr>\n",
       "\t<tr><td>feed_id_01</td><td>2019-01-28 14:34:00</td><td>Song_05</td><td>artist_03</td><td>feed_name_572</td><td>2019-01-28</td><td>smp_station_name_1027</td></tr>\n",
       "\t<tr><td>feed_id_01</td><td>2019-01-29 08:57:00</td><td>Song_05</td><td>artist_03</td><td>feed_name_572</td><td>2019-01-29</td><td>smp_station_name_1027</td></tr>\n",
       "\t<tr><td>feed_id_01</td><td>2019-02-07 13:06:00</td><td>Song_05</td><td>artist_03</td><td>feed_name_572</td><td>2019-02-07</td><td>smp_station_name_1027</td></tr>\n",
       "</tbody>\n",
       "</table>\n"
      ],
      "text/latex": [
       "A grouped\\_df: 6 × 7\n",
       "\\begin{tabular}{lllllll}\n",
       " Feed\\_Id & Stamp & Track & Artist & Feed\\_Name & Date & SMP\\_Station\\\\\n",
       " <chr> & <chr> & <chr> & <chr> & <chr> & <date> & <chr>\\\\\n",
       "\\hline\n",
       "\t feed\\_id\\_01 & 2019-01-24 15:09:00 & Song\\_05 & artist\\_03 & feed\\_name\\_572 & 2019-01-24 & smp\\_station\\_name\\_1027\\\\\n",
       "\t feed\\_id\\_01 & 2019-02-01 18:10:00 & Song\\_05 & artist\\_03 & feed\\_name\\_572 & 2019-02-01 & smp\\_station\\_name\\_1027\\\\\n",
       "\t feed\\_id\\_01 & 2019-02-02 10:02:00 & Song\\_05 & artist\\_03 & feed\\_name\\_572 & 2019-02-02 & smp\\_station\\_name\\_1027\\\\\n",
       "\t feed\\_id\\_01 & 2019-01-28 14:34:00 & Song\\_05 & artist\\_03 & feed\\_name\\_572 & 2019-01-28 & smp\\_station\\_name\\_1027\\\\\n",
       "\t feed\\_id\\_01 & 2019-01-29 08:57:00 & Song\\_05 & artist\\_03 & feed\\_name\\_572 & 2019-01-29 & smp\\_station\\_name\\_1027\\\\\n",
       "\t feed\\_id\\_01 & 2019-02-07 13:06:00 & Song\\_05 & artist\\_03 & feed\\_name\\_572 & 2019-02-07 & smp\\_station\\_name\\_1027\\\\\n",
       "\\end{tabular}\n"
      ],
      "text/markdown": [
       "\n",
       "A grouped_df: 6 × 7\n",
       "\n",
       "| Feed_Id &lt;chr&gt; | Stamp &lt;chr&gt; | Track &lt;chr&gt; | Artist &lt;chr&gt; | Feed_Name &lt;chr&gt; | Date &lt;date&gt; | SMP_Station &lt;chr&gt; |\n",
       "|---|---|---|---|---|---|---|\n",
       "| feed_id_01 | 2019-01-24 15:09:00 | Song_05 | artist_03 | feed_name_572 | 2019-01-24 | smp_station_name_1027 |\n",
       "| feed_id_01 | 2019-02-01 18:10:00 | Song_05 | artist_03 | feed_name_572 | 2019-02-01 | smp_station_name_1027 |\n",
       "| feed_id_01 | 2019-02-02 10:02:00 | Song_05 | artist_03 | feed_name_572 | 2019-02-02 | smp_station_name_1027 |\n",
       "| feed_id_01 | 2019-01-28 14:34:00 | Song_05 | artist_03 | feed_name_572 | 2019-01-28 | smp_station_name_1027 |\n",
       "| feed_id_01 | 2019-01-29 08:57:00 | Song_05 | artist_03 | feed_name_572 | 2019-01-29 | smp_station_name_1027 |\n",
       "| feed_id_01 | 2019-02-07 13:06:00 | Song_05 | artist_03 | feed_name_572 | 2019-02-07 | smp_station_name_1027 |\n",
       "\n"
      ],
      "text/plain": [
       "  Feed_Id    Stamp               Track   Artist    Feed_Name     Date      \n",
       "1 feed_id_01 2019-01-24 15:09:00 Song_05 artist_03 feed_name_572 2019-01-24\n",
       "2 feed_id_01 2019-02-01 18:10:00 Song_05 artist_03 feed_name_572 2019-02-01\n",
       "3 feed_id_01 2019-02-02 10:02:00 Song_05 artist_03 feed_name_572 2019-02-02\n",
       "4 feed_id_01 2019-01-28 14:34:00 Song_05 artist_03 feed_name_572 2019-01-28\n",
       "5 feed_id_01 2019-01-29 08:57:00 Song_05 artist_03 feed_name_572 2019-01-29\n",
       "6 feed_id_01 2019-02-07 13:06:00 Song_05 artist_03 feed_name_572 2019-02-07\n",
       "  SMP_Station          \n",
       "1 smp_station_name_1027\n",
       "2 smp_station_name_1027\n",
       "3 smp_station_name_1027\n",
       "4 smp_station_name_1027\n",
       "5 smp_station_name_1027\n",
       "6 smp_station_name_1027"
      ]
     },
     "metadata": {},
     "output_type": "display_data"
    }
   ],
   "source": [
    "head(finaldata) #516446 observations\n"
   ]
  },
  {
   "cell_type": "code",
   "execution_count": 66,
   "id": "96ae05b5",
   "metadata": {},
   "outputs": [
    {
     "name": "stdout",
     "output_type": "stream",
     "text": [
      "grouped_df [516,451 x 7] (S3: grouped_df/tbl_df/tbl/data.frame)\n",
      " $ Feed_Id    : chr [1:516451] \"feed_id_01\" \"feed_id_01\" \"feed_id_01\" \"feed_id_01\" ...\n",
      " $ Stamp      : chr [1:516451] \"2019-01-24 15:09:00\" \"2019-02-01 18:10:00\" \"2019-02-02 10:02:00\" \"2019-01-28 14:34:00\" ...\n",
      " $ Track      : chr [1:516451] \"Song_05\" \"Song_05\" \"Song_05\" \"Song_05\" ...\n",
      " $ Artist     : chr [1:516451] \"artist_03\" \"artist_03\" \"artist_03\" \"artist_03\" ...\n",
      " $ Feed_Name  : chr [1:516451] \"feed_name_572\" \"feed_name_572\" \"feed_name_572\" \"feed_name_572\" ...\n",
      " $ Date       : Date[1:516451], format: \"2019-01-24\" \"2019-02-01\" ...\n",
      " $ SMP_Station: chr [1:516451] \"smp_station_name_1027\" \"smp_station_name_1027\" \"smp_station_name_1027\" \"smp_station_name_1027\" ...\n",
      " - attr(*, \"groups\")= tibble [516,451 x 4] (S3: tbl_df/tbl/data.frame)\n",
      "  ..$ Track      : chr [1:516451] \"Song_01\" \"Song_01\" \"Song_01\" \"Song_01\" ...\n",
      "  ..$ Stamp      : chr [1:516451] \"2019-01-01 00:03:00\" \"2019-01-01 00:19:00\" \"2019-01-01 00:48:00\" \"2019-01-01 01:29:00\" ...\n",
      "  ..$ SMP_Station: chr [1:516451] \"smp_station_name_459\" \"smp_station_name_366\" \"smp_station_name_459\" \"smp_station_name_366\" ...\n",
      "  ..$ .rows      : list<int> [1:516451] \n",
      "  .. ..$ : int 22317\n",
      "  .. ..$ : int 281710\n",
      "  .. ..$ : int 22318\n",
      "  .. ..$ : int 281711\n",
      "  .. ..$ : int 479053\n",
      "  .. ..$ : int 22319\n",
      "  .. ..$ : int 311749\n",
      "  .. ..$ : int 431955\n",
      "  .. ..$ : int 158189\n",
      "  .. ..$ : int 22320\n",
      "  .. ..$ : int 22321\n",
      "  .. ..$ : int 431978\n",
      "  .. ..$ : int 281712\n",
      "  .. ..$ : int 479054\n",
      "  .. ..$ : int 22322\n",
      "  .. ..$ : int 448843\n",
      "  .. ..$ : int 281713\n",
      "  .. ..$ : int 175591\n",
      "  .. ..$ : int 22323\n",
      "  .. ..$ : int 170278\n",
      "  .. ..$ : int 22324\n",
      "  .. ..$ : int 34196\n",
      "  .. ..$ : int 273925\n",
      "  .. ..$ : int 22325\n",
      "  .. ..$ : int 217412\n",
      "  .. ..$ : int 323156\n",
      "  .. ..$ : int 22326\n",
      "  .. ..$ : int 14367\n",
      "  .. ..$ : int 453977\n",
      "  .. ..$ : int 180040\n",
      "  .. ..$ : int 281714\n",
      "  .. ..$ : int 453978\n",
      "  .. ..$ : int 180041\n",
      "  .. ..$ : int 479055\n",
      "  .. ..$ : int 257268\n",
      "  .. ..$ : int 22327\n",
      "  .. ..$ : int 453979\n",
      "  .. ..$ : int 266693\n",
      "  .. ..$ : int 22328\n",
      "  .. ..$ : int 22329\n",
      "  .. ..$ : int 281715\n",
      "  .. ..$ : int 479056\n",
      "  .. ..$ : int 453980\n",
      "  .. ..$ : int 55231\n",
      "  .. ..$ : int 398557\n",
      "  .. ..$ : int 453981\n",
      "  .. ..$ : int 22330\n",
      "  .. ..$ : int 55232\n",
      "  .. ..$ : int 453982\n",
      "  .. ..$ : int 324653\n",
      "  .. ..$ : int 431979\n",
      "  .. ..$ : int 175592\n",
      "  .. ..$ : int 55233\n",
      "  .. ..$ : int 22331\n",
      "  .. ..$ : int 55234\n",
      "  .. ..$ : int 22332\n",
      "  .. ..$ : int 55235\n",
      "  .. ..$ : int 453983\n",
      "  .. ..$ : int 14368\n",
      "  .. ..$ : int 217413\n",
      "  .. ..$ : int 22333\n",
      "  .. ..$ : int 281716\n",
      "  .. ..$ : int 453984\n",
      "  .. ..$ : int 479057\n",
      "  .. ..$ : int 22334\n",
      "  .. ..$ : int 3335\n",
      "  .. ..$ : int 281717\n",
      "  .. ..$ : int 250891\n",
      "  .. ..$ : int 22335\n",
      "  .. ..$ : int 281718\n",
      "  .. ..$ : int 190447\n",
      "  .. ..$ : int 22336\n",
      "  .. ..$ : int 479058\n",
      "  .. ..$ : int 22337\n",
      "  .. ..$ : int 513038\n",
      "  .. ..$ : int 281719\n",
      "  .. ..$ : int 48138\n",
      "  .. ..$ : int 467320\n",
      "  .. ..$ : int 14366\n",
      "  .. ..$ : int 22338\n",
      "  .. ..$ : int 22339\n",
      "  .. ..$ : int 34197\n",
      "  .. ..$ : int 22340\n",
      "  .. ..$ : int 431980\n",
      "  .. ..$ : int 479059\n",
      "  .. ..$ : int 441298\n",
      "  .. ..$ : int 22341\n",
      "  .. ..$ : int 281720\n",
      "  .. ..$ : int 415096\n",
      "  .. ..$ : int 22342\n",
      "  .. ..$ : int 232224\n",
      "  .. ..$ : int 281721\n",
      "  .. ..$ : int 175593\n",
      "  .. ..$ : int 22343\n",
      "  .. ..$ : int 431981\n",
      "  .. ..$ : int 208151\n",
      "  .. ..$ : int 281722\n",
      "  .. ..$ : int 14370\n",
      "  .. ..$ : int 22344\n",
      "  .. .. [list output truncated]\n",
      "  .. ..@ ptype: int(0) \n",
      "  ..- attr(*, \".drop\")= logi TRUE\n"
     ]
    }
   ],
   "source": [
    "str(finaldata)"
   ]
  },
  {
   "cell_type": "code",
   "execution_count": 67,
   "id": "abd6feac",
   "metadata": {},
   "outputs": [
    {
     "data": {
      "text/plain": [
       "\n",
       " FALSE \n",
       "516451 "
      ]
     },
     "metadata": {},
     "output_type": "display_data"
    }
   ],
   "source": [
    "##deleting 39 records as their Stamp returns Null due to format mismatch\n",
    "table(is.na(finaldata$Stamp))\n"
   ]
  },
  {
   "cell_type": "code",
   "execution_count": 68,
   "id": "0a0f99f4",
   "metadata": {},
   "outputs": [],
   "source": [
    "finaldata_filtered <- finaldata %>% filter(!is.na(Stamp))\n"
   ]
  },
  {
   "cell_type": "code",
   "execution_count": 69,
   "id": "3c2e4103",
   "metadata": {},
   "outputs": [
    {
     "data": {
      "text/plain": [
       "\n",
       " FALSE \n",
       "516451 "
      ]
     },
     "metadata": {},
     "output_type": "display_data"
    }
   ],
   "source": [
    "table(is.na(finaldata_filtered$Stamp)) ##516407 observations"
   ]
  },
  {
   "cell_type": "code",
   "execution_count": 70,
   "id": "d69bf239",
   "metadata": {},
   "outputs": [],
   "source": [
    "##export cleaned data for visualization in Tableau\n",
    "write.csv(finaldata_filtered, \"Radiofeed_cleandata.csv\", row.names=FALSE)\n",
    "\n"
   ]
  },
  {
   "cell_type": "code",
   "execution_count": 71,
   "id": "2dc9b45c",
   "metadata": {},
   "outputs": [],
   "source": [
    "##Further analysis using visualization in Tableau"
   ]
  }
 ],
 "metadata": {
  "kernelspec": {
   "display_name": "R",
   "language": "R",
   "name": "ir"
  },
  "language_info": {
   "codemirror_mode": "r",
   "file_extension": ".r",
   "mimetype": "text/x-r-source",
   "name": "R",
   "pygments_lexer": "r",
   "version": "4.1.0"
  }
 },
 "nbformat": 4,
 "nbformat_minor": 5
}
